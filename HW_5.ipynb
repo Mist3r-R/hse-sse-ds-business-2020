{
 "cells": [
  {
   "cell_type": "markdown",
   "metadata": {},
   "source": [
    "# Data Science for Business\n",
    "\n",
    "## Spring 2020, module 4 @ HSE\n",
    "\n",
    "---\n",
    "\n",
    "## Home assignment 5\n",
    "\n",
    "\n",
    "Author: **Miron Rogovets**\n",
    "\n",
    "---\n",
    "\n",
    "You goal for this task is two fold:\n",
    "\n",
    "1. Cluster all the products into distinct groups (clusters)\n",
    "2. Build a recommender system for customers, but instead of products we will recommend categories.\n"
   ]
  },
  {
   "cell_type": "code",
   "execution_count": 1,
   "metadata": {},
   "outputs": [],
   "source": [
    "import pandas as pd\n",
    "import numpy as np\n",
    "import matplotlib.pyplot as plt\n",
    "import seaborn as sns"
   ]
  },
  {
   "cell_type": "code",
   "execution_count": 2,
   "metadata": {},
   "outputs": [],
   "source": [
    "pd.set_option('display.float_format', lambda x: '{:.2f}'.format(x))\n",
    "sns.set_style('darkgrid')"
   ]
  },
  {
   "cell_type": "code",
   "execution_count": 3,
   "metadata": {},
   "outputs": [
    {
     "data": {
      "text/html": [
       "<div>\n",
       "<style scoped>\n",
       "    .dataframe tbody tr th:only-of-type {\n",
       "        vertical-align: middle;\n",
       "    }\n",
       "\n",
       "    .dataframe tbody tr th {\n",
       "        vertical-align: top;\n",
       "    }\n",
       "\n",
       "    .dataframe thead th {\n",
       "        text-align: right;\n",
       "    }\n",
       "</style>\n",
       "<table border=\"1\" class=\"dataframe\">\n",
       "  <thead>\n",
       "    <tr style=\"text-align: right;\">\n",
       "      <th></th>\n",
       "      <th>dd_card_number</th>\n",
       "      <th>store_number</th>\n",
       "      <th>dd_transaction_number</th>\n",
       "      <th>sku</th>\n",
       "      <th>quantity</th>\n",
       "      <th>post_discount_price</th>\n",
       "      <th>date</th>\n",
       "      <th>hour</th>\n",
       "      <th>dbi_item_catgry</th>\n",
       "      <th>dbi_item_sub_catgry</th>\n",
       "      <th>dbi_item_famly_name</th>\n",
       "      <th>dbi_item_size</th>\n",
       "    </tr>\n",
       "  </thead>\n",
       "  <tbody>\n",
       "    <tr>\n",
       "      <th>0</th>\n",
       "      <td>0</td>\n",
       "      <td>775</td>\n",
       "      <td>7969</td>\n",
       "      <td>74</td>\n",
       "      <td>1</td>\n",
       "      <td>2.29</td>\n",
       "      <td>9/2/2015</td>\n",
       "      <td>Lunch</td>\n",
       "      <td>Beverages</td>\n",
       "      <td>Hot Coffee</td>\n",
       "      <td>Hot Coffee</td>\n",
       "      <td>Large</td>\n",
       "    </tr>\n",
       "    <tr>\n",
       "      <th>1</th>\n",
       "      <td>0</td>\n",
       "      <td>775</td>\n",
       "      <td>7969</td>\n",
       "      <td>73</td>\n",
       "      <td>1</td>\n",
       "      <td>0.00</td>\n",
       "      <td>9/2/2015</td>\n",
       "      <td>Lunch</td>\n",
       "      <td>Beverages</td>\n",
       "      <td>Hot Coffee</td>\n",
       "      <td>Hot Coffee</td>\n",
       "      <td>Medium</td>\n",
       "    </tr>\n",
       "    <tr>\n",
       "      <th>2</th>\n",
       "      <td>0</td>\n",
       "      <td>761</td>\n",
       "      <td>16021</td>\n",
       "      <td>75</td>\n",
       "      <td>1</td>\n",
       "      <td>2.49</td>\n",
       "      <td>9/4/2015</td>\n",
       "      <td>Morning</td>\n",
       "      <td>Beverages</td>\n",
       "      <td>Hot Coffee</td>\n",
       "      <td>Hot Coffee</td>\n",
       "      <td>X-Large</td>\n",
       "    </tr>\n",
       "  </tbody>\n",
       "</table>\n",
       "</div>"
      ],
      "text/plain": [
       "   dd_card_number  store_number  dd_transaction_number  sku  quantity  \\\n",
       "0               0           775                   7969   74         1   \n",
       "1               0           775                   7969   73         1   \n",
       "2               0           761                  16021   75         1   \n",
       "\n",
       "   post_discount_price      date     hour dbi_item_catgry dbi_item_sub_catgry  \\\n",
       "0                 2.29  9/2/2015    Lunch       Beverages          Hot Coffee   \n",
       "1                 0.00  9/2/2015    Lunch       Beverages          Hot Coffee   \n",
       "2                 2.49  9/4/2015  Morning       Beverages          Hot Coffee   \n",
       "\n",
       "  dbi_item_famly_name dbi_item_size  \n",
       "0          Hot Coffee         Large  \n",
       "1          Hot Coffee        Medium  \n",
       "2          Hot Coffee       X-Large  "
      ]
     },
     "execution_count": 3,
     "metadata": {},
     "output_type": "execute_result"
    }
   ],
   "source": [
    "df = pd.read_csv('data/sample_transations.csv', index_col=0)\n",
    "df.head(3)"
   ]
  },
  {
   "cell_type": "code",
   "execution_count": 4,
   "metadata": {},
   "outputs": [
    {
     "data": {
      "text/plain": [
       "(51939, 12)"
      ]
     },
     "execution_count": 4,
     "metadata": {},
     "output_type": "execute_result"
    }
   ],
   "source": [
    "df.shape"
   ]
  },
  {
   "cell_type": "code",
   "execution_count": 5,
   "metadata": {},
   "outputs": [
    {
     "data": {
      "text/plain": [
       "dd_card_number             int64\n",
       "store_number               int64\n",
       "dd_transaction_number      int64\n",
       "sku                        int64\n",
       "quantity                   int64\n",
       "post_discount_price      float64\n",
       "date                      object\n",
       "hour                      object\n",
       "dbi_item_catgry           object\n",
       "dbi_item_sub_catgry       object\n",
       "dbi_item_famly_name       object\n",
       "dbi_item_size             object\n",
       "dtype: object"
      ]
     },
     "execution_count": 5,
     "metadata": {},
     "output_type": "execute_result"
    }
   ],
   "source": [
    "df.dtypes"
   ]
  },
  {
   "cell_type": "code",
   "execution_count": 6,
   "metadata": {},
   "outputs": [
    {
     "data": {
      "text/plain": [
       "dd_card_number           0\n",
       "store_number             0\n",
       "dd_transaction_number    0\n",
       "sku                      0\n",
       "quantity                 0\n",
       "post_discount_price      0\n",
       "date                     0\n",
       "hour                     0\n",
       "dbi_item_catgry          0\n",
       "dbi_item_sub_catgry      0\n",
       "dbi_item_famly_name      0\n",
       "dbi_item_size            0\n",
       "dtype: int64"
      ]
     },
     "execution_count": 6,
     "metadata": {},
     "output_type": "execute_result"
    }
   ],
   "source": [
    "df.isna().sum()"
   ]
  },
  {
   "cell_type": "markdown",
   "metadata": {},
   "source": [
    "- `dd_card_number` - customer identifier (categorical)\n",
    "- `store_number` - store identifier (categorical)\n",
    "- `dd_transaction_number` - transaction identifier (categorical)\n",
    "- `sku` - product identifier, may vary across different stores (categorical)\n",
    "- `quantity` - quantity (numerical)\n",
    "- `post_discount_price` - transaction price (numerical)\n",
    "- `date` - transaction date \n",
    "- `hour` (categorical)\n",
    "- `dbi_item_catgry` (categorical)\n",
    "- `dbi_item_sub_catgry` (categorical)\n",
    "- `dbi_item_famly_name` (categorical)\n",
    "- `dbi_item_size` (categorical)\n"
   ]
  },
  {
   "cell_type": "markdown",
   "metadata": {},
   "source": [
    "### Data Exploration"
   ]
  },
  {
   "cell_type": "code",
   "execution_count": 37,
   "metadata": {},
   "outputs": [
    {
     "data": {
      "text/plain": [
       "1273"
      ]
     },
     "execution_count": 37,
     "metadata": {},
     "output_type": "execute_result"
    }
   ],
   "source": [
    "df.duplicated().sum()"
   ]
  },
  {
   "cell_type": "code",
   "execution_count": 38,
   "metadata": {},
   "outputs": [
    {
     "data": {
      "text/plain": [
       "(50666, 12)"
      ]
     },
     "execution_count": 38,
     "metadata": {},
     "output_type": "execute_result"
    }
   ],
   "source": [
    "data = df.drop_duplicates()\n",
    "data.shape"
   ]
  },
  {
   "cell_type": "code",
   "execution_count": 118,
   "metadata": {},
   "outputs": [
    {
     "data": {
      "text/plain": [
       "{'customers': 100,\n",
       " 'stores': 1501,\n",
       " 'transactions': 24348,\n",
       " 'product_sku': 620,\n",
       " 'product_categories': 5,\n",
       " 'product_subcategories': 55,\n",
       " 'products': 120}"
      ]
     },
     "execution_count": 118,
     "metadata": {},
     "output_type": "execute_result"
    }
   ],
   "source": [
    "{\n",
    "    'customers': len(data['dd_card_number'].unique()),\n",
    "    'stores': len(data['store_number'].unique()),\n",
    "    'transactions': len(data['dd_transaction_number'].unique()),\n",
    "    'product_sku': len(data['sku'].unique()),\n",
    "    'product_categories': len(data['dbi_item_catgry'].unique()),\n",
    "    'product_subcategories': len(data['dbi_item_sub_catgry'].unique()),\n",
    "    'products': len(data['dbi_item_famly_name'].unique())\n",
    "}"
   ]
  },
  {
   "cell_type": "code",
   "execution_count": 49,
   "metadata": {},
   "outputs": [
    {
     "data": {
      "text/plain": [
       "Beverages        30004\n",
       "Food - Bakery    13786\n",
       "Food AM           6181\n",
       "Food PM            427\n",
       "Other              268\n",
       "Name: dbi_item_catgry, dtype: int64"
      ]
     },
     "execution_count": 49,
     "metadata": {},
     "output_type": "execute_result"
    }
   ],
   "source": [
    "data['dbi_item_catgry'].value_counts()"
   ]
  },
  {
   "cell_type": "code",
   "execution_count": 50,
   "metadata": {},
   "outputs": [
    {
     "data": {
      "text/plain": [
       "Morning      29029\n",
       "Lunch        14294\n",
       "Afternoon     5467\n",
       "Night         1876\n",
       "Name: hour, dtype: int64"
      ]
     },
     "execution_count": 50,
     "metadata": {},
     "output_type": "execute_result"
    }
   ],
   "source": [
    "data['hour'].value_counts()"
   ]
  },
  {
   "cell_type": "code",
   "execution_count": 51,
   "metadata": {},
   "outputs": [
    {
     "data": {
      "text/plain": [
       "Hot Coffee                                 15648\n",
       "Iced Coffee                                 8882\n",
       "Donut Varieties                             6254\n",
       "Bagels                                      3880\n",
       "Muffin                                      3117\n",
       "Wake Up Wraps                               2226\n",
       "Hash Brown                                  1139\n",
       "Iced Espresso                               1121\n",
       "Iced Tea                                    1036\n",
       "Frozen Beverages                             805\n",
       "Hot Espresso                                 744\n",
       "Cooler Beverages                             683\n",
       "Bacon, Egg & Cheese                          658\n",
       "Hot Tea                                      625\n",
       "Egg & Cheese                                 596\n",
       "Sausage, Egg & Cheese                        532\n",
       "Other Hot Beverages                          451\n",
       "Other Food- Bakery                           413\n",
       "Egg White Flatbreads                         335\n",
       "Turkey Sausage Sandwich                      275\n",
       "K-Cups                                       166\n",
       "Chicken Salad Sandwich                       138\n",
       "Ham, Egg & Cheese                            130\n",
       "Desserts                                      91\n",
       "Turkey, Cheddar & Bacon Sandwich              86\n",
       "Chicken Bacon Sandwich                        78\n",
       "Sweet Black Pepper Bacon Sandwich             56\n",
       "GranDDe Burrito                               52\n",
       "Snack n Go Chicken Wraps                      48\n",
       "Bananas                                       42\n",
       "Steak, Egg & Cheese                           35\n",
       "Oatmeal                                       31\n",
       "Retail Merchandise                            30\n",
       "Grilled Cheese Sandwich                       29\n",
       "Packaged Coffee                               29\n",
       "Tailgater Breakfast Sandwich                  27\n",
       "Big n Toasted                                 25\n",
       "Maple Sausage Breakfast Sandwich              22\n",
       "Tuna Sandwich                                 20\n",
       "Bacon Supreme Omelet Breakfast Sandwich       19\n",
       "Chicken Apple Sausage Sandwich                15\n",
       "Ham & Cheese Sandwich                         14\n",
       "Turkey, Egg & Cheese                          14\n",
       "Chicken Biscuit Sandwich                       9\n",
       "Other Iced Beverages                           9\n",
       "Pork Roll Breakfast Sandwich                   7\n",
       "Belgian Waffle Breakfast Sandwich              5\n",
       "Snack n Go Steak Wraps                         5\n",
       "Soft Serve                                     4\n",
       "Chicken Croissant Sandwich                     4\n",
       "Smoked Sausage Sandwich                        2\n",
       "Gum                                            1\n",
       "Sausage Biscuit Sandwich                       1\n",
       "Other Food PM                                  1\n",
       "Kolache                                        1\n",
       "Name: dbi_item_sub_catgry, dtype: int64"
      ]
     },
     "execution_count": 51,
     "metadata": {},
     "output_type": "execute_result"
    }
   ],
   "source": [
    "data['dbi_item_sub_catgry'].value_counts()"
   ]
  },
  {
   "cell_type": "code",
   "execution_count": 52,
   "metadata": {},
   "outputs": [
    {
     "data": {
      "text/plain": [
       "103"
      ]
     },
     "execution_count": 52,
     "metadata": {},
     "output_type": "execute_result"
    }
   ],
   "source": [
    "len(data['dbi_item_size'].value_counts())"
   ]
  },
  {
   "cell_type": "code",
   "execution_count": 53,
   "metadata": {},
   "outputs": [
    {
     "data": {
      "text/plain": [
       "365"
      ]
     },
     "execution_count": 53,
     "metadata": {},
     "output_type": "execute_result"
    }
   ],
   "source": [
    "len(data['date'].unique())"
   ]
  },
  {
   "cell_type": "code",
   "execution_count": 117,
   "metadata": {},
   "outputs": [
    {
     "data": {
      "text/plain": [
       "7305"
      ]
     },
     "execution_count": 117,
     "metadata": {},
     "output_type": "execute_result"
    }
   ],
   "source": [
    "(data['post_discount_price'] == 0.0).sum()"
   ]
  },
  {
   "cell_type": "markdown",
   "metadata": {},
   "source": [
    "---\n",
    "\n",
    "### I. Clustering (20)\n",
    "\n",
    "1. Feature generation. Use examples from Seminar 6 Plan to generate features for products clustering. You may generate any number of features but you must generate at least 3 features which differ from those, proposed in the plan."
   ]
  },
  {
   "cell_type": "code",
   "execution_count": 68,
   "metadata": {},
   "outputs": [
    {
     "data": {
      "text/plain": [
       "0       2.13\n",
       "1       2.13\n",
       "2       2.13\n",
       "3       2.13\n",
       "4       2.13\n",
       "        ... \n",
       "51934   2.13\n",
       "51935   1.31\n",
       "51936   2.10\n",
       "51937   2.13\n",
       "51938   1.31\n",
       "Name: post_discount_price, Length: 50666, dtype: float64"
      ]
     },
     "execution_count": 68,
     "metadata": {},
     "output_type": "execute_result"
    }
   ],
   "source": [
    "# average item price\n",
    "data.groupby('dbi_item_famly_name')['post_discount_price'].transform('mean')"
   ]
  },
  {
   "cell_type": "code",
   "execution_count": 69,
   "metadata": {},
   "outputs": [
    {
     "data": {
      "text/plain": [
       "0       2.09\n",
       "1       2.09\n",
       "2       2.09\n",
       "3       2.09\n",
       "4       2.09\n",
       "        ... \n",
       "51934   2.09\n",
       "51935   0.99\n",
       "51936   1.99\n",
       "51937   2.09\n",
       "51938   0.99\n",
       "Name: post_discount_price, Length: 50666, dtype: float64"
      ]
     },
     "execution_count": 69,
     "metadata": {},
     "output_type": "execute_result"
    }
   ],
   "source": [
    "# median item price\n",
    "data.groupby('dbi_item_famly_name')['post_discount_price'].transform('median')"
   ]
  },
  {
   "cell_type": "code",
   "execution_count": 70,
   "metadata": {},
   "outputs": [
    {
     "data": {
      "text/plain": [
       "0       1.00\n",
       "1       1.00\n",
       "2       1.00\n",
       "3       1.00\n",
       "4       1.00\n",
       "        ... \n",
       "51934   1.00\n",
       "51935   2.00\n",
       "51936   1.00\n",
       "51937   1.00\n",
       "51938   2.00\n",
       "Name: quantity, Length: 50666, dtype: float64"
      ]
     },
     "execution_count": 70,
     "metadata": {},
     "output_type": "execute_result"
    }
   ],
   "source": [
    "# median quantity in a single purchase\n",
    "data.groupby(['dd_transaction_number', 'dbi_item_famly_name'])['quantity'].transform('median')"
   ]
  },
  {
   "cell_type": "code",
   "execution_count": 95,
   "metadata": {},
   "outputs": [
    {
     "data": {
      "text/plain": [
       "0        1064\n",
       "1        1064\n",
       "2        1064\n",
       "3        1064\n",
       "4        1064\n",
       "         ... \n",
       "51934    1064\n",
       "51935     597\n",
       "51936      27\n",
       "51937    1064\n",
       "51938     597\n",
       "Name: store_number, Length: 50666, dtype: int64"
      ]
     },
     "execution_count": 95,
     "metadata": {},
     "output_type": "execute_result"
    }
   ],
   "source": [
    "# How many different stores sell this item\n",
    "data.groupby('dbi_item_famly_name')['store_number'].transform('nunique')"
   ]
  },
  {
   "cell_type": "code",
   "execution_count": 97,
   "metadata": {},
   "outputs": [
    {
     "data": {
      "text/plain": [
       "0        97\n",
       "1        97\n",
       "2        97\n",
       "3        97\n",
       "4        97\n",
       "         ..\n",
       "51934    97\n",
       "51935    99\n",
       "51936    17\n",
       "51937    97\n",
       "51938    99\n",
       "Name: dd_card_number, Length: 50666, dtype: int64"
      ]
     },
     "execution_count": 97,
     "metadata": {},
     "output_type": "execute_result"
    }
   ],
   "source": [
    "# How many different customers buy this item\n",
    "data.groupby('dbi_item_famly_name')['dd_card_number'].transform('nunique')"
   ]
  },
  {
   "cell_type": "code",
   "execution_count": 145,
   "metadata": {},
   "outputs": [
    {
     "data": {
      "text/plain": [
       "0        4368\n",
       "1        4368\n",
       "2        9898\n",
       "3        9898\n",
       "4        9898\n",
       "         ... \n",
       "51934    9898\n",
       "51935    4064\n",
       "51936      30\n",
       "51937     377\n",
       "51938     200\n",
       "Name: quantity, Length: 50666, dtype: int64"
      ]
     },
     "execution_count": 145,
     "metadata": {},
     "output_type": "execute_result"
    }
   ],
   "source": [
    "# Number of purchases at different hour\n",
    "data.groupby(['dbi_item_famly_name', 'hour'])['quantity'].transform('sum')"
   ]
  },
  {
   "cell_type": "code",
   "execution_count": 115,
   "metadata": {},
   "outputs": [
    {
     "data": {
      "text/plain": [
       "0       0.05\n",
       "1       0.05\n",
       "2       0.07\n",
       "3       0.07\n",
       "4       0.07\n",
       "        ... \n",
       "51934   0.03\n",
       "51935   0.07\n",
       "51936   1.00\n",
       "51937   0.03\n",
       "51938   0.08\n",
       "Name: dd_transaction_number, Length: 50666, dtype: float64"
      ]
     },
     "execution_count": 115,
     "metadata": {},
     "output_type": "execute_result"
    }
   ],
   "source": [
    "# Ratio of purchases within a day for a store\n",
    "data.groupby(['dbi_item_famly_name', 'date', 'store_number'])['dd_transaction_number'].transform('size') / \\\n",
    "data.groupby(['dbi_item_famly_name', 'date'])['dd_transaction_number'].transform('size')"
   ]
  },
  {
   "cell_type": "code",
   "execution_count": 131,
   "metadata": {},
   "outputs": [
    {
     "data": {
      "text/plain": [
       "0        33\n",
       "1        33\n",
       "2        33\n",
       "3        33\n",
       "4        33\n",
       "         ..\n",
       "51934    33\n",
       "51935    25\n",
       "51936    33\n",
       "51937    33\n",
       "51938    25\n",
       "Name: dbi_item_famly_name, Length: 50666, dtype: int64"
      ]
     },
     "execution_count": 131,
     "metadata": {},
     "output_type": "execute_result"
    }
   ],
   "source": [
    "# Number of other items in the same category\n",
    "data.groupby('dbi_item_catgry')['dbi_item_famly_name'].transform('nunique') - 1 \n",
    "# substract current item from total amount"
   ]
  },
  {
   "cell_type": "code",
   "execution_count": 137,
   "metadata": {},
   "outputs": [
    {
     "data": {
      "text/plain": [
       "0        2\n",
       "1        2\n",
       "2        2\n",
       "3        2\n",
       "4        2\n",
       "        ..\n",
       "51934    2\n",
       "51935    4\n",
       "51936    5\n",
       "51937    2\n",
       "51938    4\n",
       "Name: dbi_item_famly_name, Length: 50666, dtype: int64"
      ]
     },
     "execution_count": 137,
     "metadata": {},
     "output_type": "execute_result"
    }
   ],
   "source": [
    "# Number of other items in the same subcategory\n",
    "data.groupby('dbi_item_sub_catgry')['dbi_item_famly_name'].transform('nunique') - 1 "
   ]
  },
  {
   "cell_type": "code",
   "execution_count": 138,
   "metadata": {},
   "outputs": [
    {
     "data": {
      "text/plain": [
       "0       2.16\n",
       "1       2.16\n",
       "2       2.16\n",
       "3       2.16\n",
       "4       2.16\n",
       "        ... \n",
       "51934   2.16\n",
       "51935   1.23\n",
       "51936   2.16\n",
       "51937   2.16\n",
       "51938   1.23\n",
       "Name: post_discount_price, Length: 50666, dtype: float64"
      ]
     },
     "execution_count": 138,
     "metadata": {},
     "output_type": "execute_result"
    }
   ],
   "source": [
    "# Average price of items in the same category\n",
    "data.groupby('dbi_item_catgry')['post_discount_price'].transform('mean')"
   ]
  },
  {
   "cell_type": "code",
   "execution_count": 139,
   "metadata": {},
   "outputs": [
    {
     "data": {
      "text/plain": [
       "0       2.11\n",
       "1       2.11\n",
       "2       2.11\n",
       "3       2.11\n",
       "4       2.11\n",
       "        ... \n",
       "51934   2.11\n",
       "51935   1.52\n",
       "51936   1.92\n",
       "51937   2.11\n",
       "51938   1.52\n",
       "Name: post_discount_price, Length: 50666, dtype: float64"
      ]
     },
     "execution_count": 139,
     "metadata": {},
     "output_type": "execute_result"
    }
   ],
   "source": [
    "# Average price of items in the same subcategory\n",
    "data.groupby('dbi_item_sub_catgry')['post_discount_price'].transform('mean')"
   ]
  },
  {
   "cell_type": "code",
   "execution_count": 102,
   "metadata": {},
   "outputs": [],
   "source": [
    "# Missed:\n",
    "# - Ratio of purchases within a week for a customers (averaged over all customers)\n",
    "# - Number of purchases at different week day"
   ]
  },
  {
   "cell_type": "code",
   "execution_count": null,
   "metadata": {},
   "outputs": [],
   "source": []
  },
  {
   "cell_type": "code",
   "execution_count": null,
   "metadata": {},
   "outputs": [],
   "source": []
  },
  {
   "cell_type": "markdown",
   "metadata": {},
   "source": [
    "2. Cluster all products into distinct groups (clusters). You may use any clustering algorithm you want. If you use distance-based clustering (e.g. k-means), do not forget to preprocess your features (normalization, z-scoring or standard scaling). Try a different number of groups (e.g. from 5 to 30)"
   ]
  },
  {
   "cell_type": "code",
   "execution_count": null,
   "metadata": {},
   "outputs": [],
   "source": []
  },
  {
   "cell_type": "markdown",
   "metadata": {},
   "source": [
    "3. Write a report. In your report you should present the following information:\n",
    "   - Put an example screenshot of your features.\n",
    "   - Explain (in a similar way I explain them in the plan) every single feature (you may skip features from the seminar plan) you use.\n",
    "   - Cluster’s information: how many clusters do you have, how many objects are in these clusters.\n",
    "   - Cluster’s interpretation. Try to provide an interpretation of every single cluster (or groups of clusters) you end up. For example: “Cluster 1 includes hot drinks and beverages often bought in a combination in the morning.”\n",
    "   - You may include any visualization you find necessary, e.g.: colored PCA components, histogram or pie charts of cluster’s sizes, “elbows” used for selection number of clusters (if you have used it).\n"
   ]
  },
  {
   "cell_type": "code",
   "execution_count": null,
   "metadata": {},
   "outputs": [],
   "source": []
  },
  {
   "cell_type": "markdown",
   "metadata": {},
   "source": [
    "### II. Recommender system (25)\n",
    "\n",
    "1. Prepare user-item data as it was done during the seminar: User, Item, Score. You may construct Score (e.g. see seminar) any way you want, but you must explain it in your report.  "
   ]
  },
  {
   "cell_type": "code",
   "execution_count": null,
   "metadata": {},
   "outputs": [],
   "source": []
  },
  {
   "cell_type": "markdown",
   "metadata": {},
   "source": [
    "2. Split your data into train and test sets (as Leonid explained during the lecture): some of the user-item pairs go to the train set and some to the test set.\n"
   ]
  },
  {
   "cell_type": "code",
   "execution_count": null,
   "metadata": {},
   "outputs": [],
   "source": []
  },
  {
   "cell_type": "markdown",
   "metadata": {},
   "source": [
    "3. Build a recommender system using cluster groups (if you have about 20-40 clusters) or items subcategories (75 most frequent values of the  `dbi_item_famly_name`  attribute) as items and `dd_card_number` as users. You may want to play with a number of neighbours in your KNN recommender model. "
   ]
  },
  {
   "cell_type": "code",
   "execution_count": null,
   "metadata": {},
   "outputs": [],
   "source": []
  },
  {
   "cell_type": "markdown",
   "metadata": {},
   "source": [
    "4. Compute 3 different recommender performance scores, which were explained during the lecture or seminar to assess the quality of your recommendations (use appropriate metrics)."
   ]
  },
  {
   "cell_type": "code",
   "execution_count": null,
   "metadata": {},
   "outputs": [],
   "source": []
  },
  {
   "cell_type": "markdown",
   "metadata": {},
   "source": [
    "5. Write a report.  In your report you should present the following information:\n",
    "   - Report computed performance scores.\n",
    "   - Elaborate on the quality of your recommendations.\n",
    "   - Provide 3-5 examples of `good` recommendations suggested by your recommender system.\n",
    "   - Provide 3-5 examples of `bad` recommendations suggested by your recommender system.\n",
    "   - You may report any additional information you find potentially useful to assess the quality of your recommendations: e.g for a couple of customers compute the price of their average purchase (or an item in purchase) and compare it with the average price of recommended items.\n",
    "   - You may use any visualisations you find useful\n"
   ]
  },
  {
   "cell_type": "code",
   "execution_count": null,
   "metadata": {},
   "outputs": [],
   "source": []
  }
 ],
 "metadata": {
  "kernelspec": {
   "display_name": "Python 3",
   "language": "python",
   "name": "python3"
  },
  "language_info": {
   "codemirror_mode": {
    "name": "ipython",
    "version": 3
   },
   "file_extension": ".py",
   "mimetype": "text/x-python",
   "name": "python",
   "nbconvert_exporter": "python",
   "pygments_lexer": "ipython3",
   "version": "3.7.6"
  }
 },
 "nbformat": 4,
 "nbformat_minor": 4
}
