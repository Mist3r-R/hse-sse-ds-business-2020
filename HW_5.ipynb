{
 "cells": [
  {
   "cell_type": "markdown",
   "metadata": {},
   "source": [
    "# Data Science for Business\n",
    "\n",
    "## Spring 2020, module 4 @ HSE\n",
    "\n",
    "---\n",
    "\n",
    "## Home assignment 5\n",
    "\n",
    "\n",
    "Author: **Miron Rogovets**\n",
    "\n",
    "---\n",
    "\n",
    "You goal for this task is two fold:\n",
    "\n",
    "1. Cluster all the products into distinct groups (clusters)\n",
    "2. Build a recommender system for customers, but instead of products we will recommend categories.\n"
   ]
  },
  {
   "cell_type": "code",
   "execution_count": 2,
   "metadata": {},
   "outputs": [],
   "source": [
    "import pandas as pd\n",
    "import numpy as np\n",
    "import matplotlib.pyplot as plt\n",
    "import seaborn as sns"
   ]
  },
  {
   "cell_type": "code",
   "execution_count": 3,
   "metadata": {},
   "outputs": [],
   "source": [
    "pd.set_option('display.float_format', lambda x: '{:.2f}'.format(x))\n",
    "sns.set_style('darkgrid')"
   ]
  },
  {
   "cell_type": "code",
   "execution_count": 5,
   "metadata": {},
   "outputs": [
    {
     "data": {
      "text/html": [
       "<div>\n",
       "<style scoped>\n",
       "    .dataframe tbody tr th:only-of-type {\n",
       "        vertical-align: middle;\n",
       "    }\n",
       "\n",
       "    .dataframe tbody tr th {\n",
       "        vertical-align: top;\n",
       "    }\n",
       "\n",
       "    .dataframe thead th {\n",
       "        text-align: right;\n",
       "    }\n",
       "</style>\n",
       "<table border=\"1\" class=\"dataframe\">\n",
       "  <thead>\n",
       "    <tr style=\"text-align: right;\">\n",
       "      <th></th>\n",
       "      <th>dd_card_number</th>\n",
       "      <th>store_number</th>\n",
       "      <th>dd_transaction_number</th>\n",
       "      <th>sku</th>\n",
       "      <th>quantity</th>\n",
       "      <th>post_discount_price</th>\n",
       "      <th>date</th>\n",
       "      <th>hour</th>\n",
       "      <th>dbi_item_catgry</th>\n",
       "      <th>dbi_item_sub_catgry</th>\n",
       "      <th>dbi_item_famly_name</th>\n",
       "      <th>dbi_item_size</th>\n",
       "    </tr>\n",
       "  </thead>\n",
       "  <tbody>\n",
       "    <tr>\n",
       "      <th>0</th>\n",
       "      <td>0</td>\n",
       "      <td>775</td>\n",
       "      <td>7969</td>\n",
       "      <td>74</td>\n",
       "      <td>1</td>\n",
       "      <td>2.29</td>\n",
       "      <td>9/2/2015</td>\n",
       "      <td>Lunch</td>\n",
       "      <td>Beverages</td>\n",
       "      <td>Hot Coffee</td>\n",
       "      <td>Hot Coffee</td>\n",
       "      <td>Large</td>\n",
       "    </tr>\n",
       "    <tr>\n",
       "      <th>1</th>\n",
       "      <td>0</td>\n",
       "      <td>775</td>\n",
       "      <td>7969</td>\n",
       "      <td>73</td>\n",
       "      <td>1</td>\n",
       "      <td>0.00</td>\n",
       "      <td>9/2/2015</td>\n",
       "      <td>Lunch</td>\n",
       "      <td>Beverages</td>\n",
       "      <td>Hot Coffee</td>\n",
       "      <td>Hot Coffee</td>\n",
       "      <td>Medium</td>\n",
       "    </tr>\n",
       "    <tr>\n",
       "      <th>2</th>\n",
       "      <td>0</td>\n",
       "      <td>761</td>\n",
       "      <td>16021</td>\n",
       "      <td>75</td>\n",
       "      <td>1</td>\n",
       "      <td>2.49</td>\n",
       "      <td>9/4/2015</td>\n",
       "      <td>Morning</td>\n",
       "      <td>Beverages</td>\n",
       "      <td>Hot Coffee</td>\n",
       "      <td>Hot Coffee</td>\n",
       "      <td>X-Large</td>\n",
       "    </tr>\n",
       "  </tbody>\n",
       "</table>\n",
       "</div>"
      ],
      "text/plain": [
       "   dd_card_number  store_number  dd_transaction_number  sku  quantity  \\\n",
       "0               0           775                   7969   74         1   \n",
       "1               0           775                   7969   73         1   \n",
       "2               0           761                  16021   75         1   \n",
       "\n",
       "   post_discount_price      date     hour dbi_item_catgry dbi_item_sub_catgry  \\\n",
       "0                 2.29  9/2/2015    Lunch       Beverages          Hot Coffee   \n",
       "1                 0.00  9/2/2015    Lunch       Beverages          Hot Coffee   \n",
       "2                 2.49  9/4/2015  Morning       Beverages          Hot Coffee   \n",
       "\n",
       "  dbi_item_famly_name dbi_item_size  \n",
       "0          Hot Coffee         Large  \n",
       "1          Hot Coffee        Medium  \n",
       "2          Hot Coffee       X-Large  "
      ]
     },
     "execution_count": 5,
     "metadata": {},
     "output_type": "execute_result"
    }
   ],
   "source": [
    "df = pd.read_csv('data/sample_transations.csv', index_col=0)\n",
    "df.head(3)"
   ]
  },
  {
   "cell_type": "code",
   "execution_count": 6,
   "metadata": {},
   "outputs": [
    {
     "data": {
      "text/plain": [
       "(51939, 12)"
      ]
     },
     "execution_count": 6,
     "metadata": {},
     "output_type": "execute_result"
    }
   ],
   "source": [
    "df.shape"
   ]
  },
  {
   "cell_type": "code",
   "execution_count": 7,
   "metadata": {},
   "outputs": [
    {
     "data": {
      "text/plain": [
       "dd_card_number             int64\n",
       "store_number               int64\n",
       "dd_transaction_number      int64\n",
       "sku                        int64\n",
       "quantity                   int64\n",
       "post_discount_price      float64\n",
       "date                      object\n",
       "hour                      object\n",
       "dbi_item_catgry           object\n",
       "dbi_item_sub_catgry       object\n",
       "dbi_item_famly_name       object\n",
       "dbi_item_size             object\n",
       "dtype: object"
      ]
     },
     "execution_count": 7,
     "metadata": {},
     "output_type": "execute_result"
    }
   ],
   "source": [
    "df.dtypes"
   ]
  },
  {
   "cell_type": "code",
   "execution_count": 9,
   "metadata": {},
   "outputs": [
    {
     "data": {
      "text/plain": [
       "dd_card_number           0\n",
       "store_number             0\n",
       "dd_transaction_number    0\n",
       "sku                      0\n",
       "quantity                 0\n",
       "post_discount_price      0\n",
       "date                     0\n",
       "hour                     0\n",
       "dbi_item_catgry          0\n",
       "dbi_item_sub_catgry      0\n",
       "dbi_item_famly_name      0\n",
       "dbi_item_size            0\n",
       "dtype: int64"
      ]
     },
     "execution_count": 9,
     "metadata": {},
     "output_type": "execute_result"
    }
   ],
   "source": [
    "df.isna().sum()"
   ]
  },
  {
   "cell_type": "markdown",
   "metadata": {},
   "source": [
    "- `dd_card_number` - customer identifier (categorical)\n",
    "- `store_number` - store identifier (categorical)\n",
    "- `dd_transaction_number` - transaction identifier (categorical)\n",
    "- `sku` - product identifier, may vary across different stores (categorical)\n",
    "- `quantity` - quantity (numerical)\n",
    "- `post_discount_price` - transaction price (numerical)\n",
    "- `date` - transaction date \n",
    "- `hour` (categorical)\n",
    "- `dbi_item_catgry` (categorical)\n",
    "- `dbi_item_sub_catgry` (categorical)\n",
    "- `dbi_item_famly_name` (categorical)\n",
    "- `dbi_item_size` (categorical)\n"
   ]
  },
  {
   "cell_type": "markdown",
   "metadata": {},
   "source": [
    "### I. Clustering (20)\n",
    "\n",
    "1. Feature generation. Use examples from Seminar 6 Plan to generate features for products clustering. You may generate any number of features but you must generate at least 3 features which differ from those, proposed in the plan."
   ]
  },
  {
   "cell_type": "code",
   "execution_count": null,
   "metadata": {},
   "outputs": [],
   "source": []
  },
  {
   "cell_type": "markdown",
   "metadata": {},
   "source": [
    "2. Cluster all products into distinct groups (clusters). You may use any clustering algorithm you want. If you use distance-based clustering (e.g. k-means), do not forget to preprocess your features (normalization, z-scoring or standard scaling). Try a different number of groups (e.g. from 5 to 30)"
   ]
  },
  {
   "cell_type": "code",
   "execution_count": null,
   "metadata": {},
   "outputs": [],
   "source": []
  },
  {
   "cell_type": "markdown",
   "metadata": {},
   "source": [
    "3. Write a report. In your report you should present the following information:\n",
    "   - Put an example screenshot of your features.\n",
    "   - Explain (in a similar way I explain them in the plan) every single feature (you may skip features from the seminar plan) you use.\n",
    "   - Cluster’s information: how many clusters do you have, how many objects are in these clusters.\n",
    "   - Cluster’s interpretation. Try to provide an interpretation of every single cluster (or groups of clusters) you end up. For example: “Cluster 1 includes hot drinks and beverages often bought in a combination in the morning.”\n",
    "   - You may include any visualization you find necessary, e.g.: colored PCA components, histogram or pie charts of cluster’s sizes, “elbows” used for selection number of clusters (if you have used it).\n"
   ]
  },
  {
   "cell_type": "code",
   "execution_count": null,
   "metadata": {},
   "outputs": [],
   "source": []
  },
  {
   "cell_type": "markdown",
   "metadata": {},
   "source": [
    "### II. Recommender system (25)\n",
    "\n",
    "1. Prepare user-item data as it was done during the seminar: User, Item, Score. You may construct Score (e.g. see seminar) any way you want, but you must explain it in your report.  "
   ]
  },
  {
   "cell_type": "code",
   "execution_count": null,
   "metadata": {},
   "outputs": [],
   "source": []
  },
  {
   "cell_type": "markdown",
   "metadata": {},
   "source": [
    "2. Split your data into train and test sets (as Leonid explained during the lecture): some of the user-item pairs go to the train set and some to the test set.\n"
   ]
  },
  {
   "cell_type": "code",
   "execution_count": null,
   "metadata": {},
   "outputs": [],
   "source": []
  },
  {
   "cell_type": "markdown",
   "metadata": {},
   "source": [
    "3. Build a recommender system using cluster groups (if you have about 20-40 clusters) or items subcategories (75 most frequent values of the  `dbi_item_famly_name`  attribute) as items and `dd_card_number` as users. You may want to play with a number of neighbours in your KNN recommender model. "
   ]
  },
  {
   "cell_type": "code",
   "execution_count": null,
   "metadata": {},
   "outputs": [],
   "source": []
  },
  {
   "cell_type": "markdown",
   "metadata": {},
   "source": [
    "4. Compute 3 different recommender performance scores, which were explained during the lecture or seminar to assess the quality of your recommendations (use appropriate metrics)."
   ]
  },
  {
   "cell_type": "code",
   "execution_count": null,
   "metadata": {},
   "outputs": [],
   "source": []
  },
  {
   "cell_type": "markdown",
   "metadata": {},
   "source": [
    "5. Write a report.  In your report you should present the following information:\n",
    "   - Report computed performance scores.\n",
    "   - Elaborate on the quality of your recommendations.\n",
    "   - Provide 3-5 examples of `good` recommendations suggested by your recommender system.\n",
    "   - Provide 3-5 examples of `bad` recommendations suggested by your recommender system.\n",
    "   - You may report any additional information you find potentially useful to assess the quality of your recommendations: e.g for a couple of customers compute the price of their average purchase (or an item in purchase) and compare it with the average price of recommended items.\n",
    "   - You may use any visualisations you find useful\n"
   ]
  },
  {
   "cell_type": "code",
   "execution_count": null,
   "metadata": {},
   "outputs": [],
   "source": []
  }
 ],
 "metadata": {
  "kernelspec": {
   "display_name": "Python 3",
   "language": "python",
   "name": "python3"
  },
  "language_info": {
   "codemirror_mode": {
    "name": "ipython",
    "version": 3
   },
   "file_extension": ".py",
   "mimetype": "text/x-python",
   "name": "python",
   "nbconvert_exporter": "python",
   "pygments_lexer": "ipython3",
   "version": "3.7.6"
  }
 },
 "nbformat": 4,
 "nbformat_minor": 4
}
