{
 "cells": [
  {
   "cell_type": "markdown",
   "metadata": {},
   "source": [
    "# Data Science for Business\n",
    "\n",
    "## Spring 2020, module 4 @ HSE\n",
    "\n",
    "---\n",
    "\n",
    "## Home assignment 4\n",
    "\n",
    "\n",
    "Author: **Miron Rogovets**\n",
    "\n",
    "---\n",
    "\n",
    "_\"For this task your main goal is to decrease company losses due to customer’s churn. We will compare two discount strategies: providing a 20% discount with a 75% acceptance rate and a 30% discount with a 90% acceptance rate.\"_"
   ]
  },
  {
   "cell_type": "code",
   "execution_count": 1,
   "metadata": {},
   "outputs": [],
   "source": [
    "import pandas as pd\n",
    "import numpy as np\n",
    "import matplotlib.pyplot as plt\n",
    "import seaborn as sns\n",
    "\n",
    "from sklearn.preprocessing import LabelEncoder\n",
    "from sklearn.linear_model import LogisticRegression\n",
    "from sklearn.ensemble import RandomForestClassifier\n",
    "from sklearn.model_selection import cross_val_predict, cross_val_score\n",
    "from sklearn.metrics import roc_auc_score, confusion_matrix"
   ]
  },
  {
   "cell_type": "code",
   "execution_count": 2,
   "metadata": {},
   "outputs": [],
   "source": [
    "pd.set_option('display.float_format', lambda x: '{:.2f}'.format(x))\n",
    "sns.set_style('darkgrid')"
   ]
  },
  {
   "cell_type": "code",
   "execution_count": 3,
   "metadata": {},
   "outputs": [
    {
     "data": {
      "text/html": [
       "<div>\n",
       "<style scoped>\n",
       "    .dataframe tbody tr th:only-of-type {\n",
       "        vertical-align: middle;\n",
       "    }\n",
       "\n",
       "    .dataframe tbody tr th {\n",
       "        vertical-align: top;\n",
       "    }\n",
       "\n",
       "    .dataframe thead th {\n",
       "        text-align: right;\n",
       "    }\n",
       "</style>\n",
       "<table border=\"1\" class=\"dataframe\">\n",
       "  <thead>\n",
       "    <tr style=\"text-align: right;\">\n",
       "      <th></th>\n",
       "      <th>index</th>\n",
       "      <th>customerID</th>\n",
       "      <th>gender</th>\n",
       "      <th>SeniorCitizen</th>\n",
       "      <th>Partner</th>\n",
       "      <th>Dependents</th>\n",
       "      <th>tenure</th>\n",
       "      <th>PhoneService</th>\n",
       "      <th>MultipleLines</th>\n",
       "      <th>InternetService</th>\n",
       "      <th>...</th>\n",
       "      <th>TechSupport</th>\n",
       "      <th>StreamingTV</th>\n",
       "      <th>StreamingMovies</th>\n",
       "      <th>Contract</th>\n",
       "      <th>PaperlessBilling</th>\n",
       "      <th>PaymentMethod</th>\n",
       "      <th>MonthlyCharges</th>\n",
       "      <th>TotalCharges</th>\n",
       "      <th>Churn</th>\n",
       "      <th>tenure_group</th>\n",
       "    </tr>\n",
       "  </thead>\n",
       "  <tbody>\n",
       "    <tr>\n",
       "      <th>0</th>\n",
       "      <td>1</td>\n",
       "      <td>5575-GNVDE</td>\n",
       "      <td>Male</td>\n",
       "      <td>No</td>\n",
       "      <td>No</td>\n",
       "      <td>No</td>\n",
       "      <td>34</td>\n",
       "      <td>Yes</td>\n",
       "      <td>No</td>\n",
       "      <td>DSL</td>\n",
       "      <td>...</td>\n",
       "      <td>No</td>\n",
       "      <td>No</td>\n",
       "      <td>No</td>\n",
       "      <td>One year</td>\n",
       "      <td>No</td>\n",
       "      <td>Mailed check</td>\n",
       "      <td>56.95</td>\n",
       "      <td>1889.50</td>\n",
       "      <td>No</td>\n",
       "      <td>Tenure_24-48</td>\n",
       "    </tr>\n",
       "    <tr>\n",
       "      <th>1</th>\n",
       "      <td>2</td>\n",
       "      <td>3668-QPYBK</td>\n",
       "      <td>Male</td>\n",
       "      <td>No</td>\n",
       "      <td>No</td>\n",
       "      <td>No</td>\n",
       "      <td>2</td>\n",
       "      <td>Yes</td>\n",
       "      <td>No</td>\n",
       "      <td>DSL</td>\n",
       "      <td>...</td>\n",
       "      <td>No</td>\n",
       "      <td>No</td>\n",
       "      <td>No</td>\n",
       "      <td>Month-to-month</td>\n",
       "      <td>Yes</td>\n",
       "      <td>Mailed check</td>\n",
       "      <td>53.85</td>\n",
       "      <td>108.15</td>\n",
       "      <td>Yes</td>\n",
       "      <td>Tenure_0-12</td>\n",
       "    </tr>\n",
       "    <tr>\n",
       "      <th>2</th>\n",
       "      <td>3</td>\n",
       "      <td>7795-CFOCW</td>\n",
       "      <td>Male</td>\n",
       "      <td>No</td>\n",
       "      <td>No</td>\n",
       "      <td>No</td>\n",
       "      <td>45</td>\n",
       "      <td>No</td>\n",
       "      <td>No phone service</td>\n",
       "      <td>DSL</td>\n",
       "      <td>...</td>\n",
       "      <td>Yes</td>\n",
       "      <td>No</td>\n",
       "      <td>No</td>\n",
       "      <td>One year</td>\n",
       "      <td>No</td>\n",
       "      <td>Bank transfer (automatic)</td>\n",
       "      <td>42.30</td>\n",
       "      <td>1840.75</td>\n",
       "      <td>No</td>\n",
       "      <td>Tenure_24-48</td>\n",
       "    </tr>\n",
       "  </tbody>\n",
       "</table>\n",
       "<p>3 rows × 23 columns</p>\n",
       "</div>"
      ],
      "text/plain": [
       "   index  customerID gender SeniorCitizen Partner Dependents  tenure  \\\n",
       "0      1  5575-GNVDE   Male            No      No         No      34   \n",
       "1      2  3668-QPYBK   Male            No      No         No       2   \n",
       "2      3  7795-CFOCW   Male            No      No         No      45   \n",
       "\n",
       "  PhoneService     MultipleLines InternetService  ... TechSupport StreamingTV  \\\n",
       "0          Yes                No             DSL  ...          No          No   \n",
       "1          Yes                No             DSL  ...          No          No   \n",
       "2           No  No phone service             DSL  ...         Yes          No   \n",
       "\n",
       "  StreamingMovies        Contract PaperlessBilling              PaymentMethod  \\\n",
       "0              No        One year               No               Mailed check   \n",
       "1              No  Month-to-month              Yes               Mailed check   \n",
       "2              No        One year               No  Bank transfer (automatic)   \n",
       "\n",
       "  MonthlyCharges TotalCharges Churn  tenure_group  \n",
       "0          56.95      1889.50    No  Tenure_24-48  \n",
       "1          53.85       108.15   Yes   Tenure_0-12  \n",
       "2          42.30      1840.75    No  Tenure_24-48  \n",
       "\n",
       "[3 rows x 23 columns]"
      ]
     },
     "execution_count": 3,
     "metadata": {},
     "output_type": "execute_result"
    }
   ],
   "source": [
    "df = pd.read_csv('data/telecom_data.csv')\n",
    "df.head(3)"
   ]
  },
  {
   "cell_type": "code",
   "execution_count": 4,
   "metadata": {},
   "outputs": [],
   "source": [
    "data = df.drop(columns=['index', 'tenure_group'])"
   ]
  },
  {
   "cell_type": "markdown",
   "metadata": {},
   "source": [
    "### I. Data preprocessing (5).\n",
    "\n",
    "This time we will skip all the exploration steps and only do some simple features preprocessing:\n",
    "\n",
    "1. Generate `tenure_group` attribute: discretize `tenure` into 6 groups: “0-12”, “12-24”, “24-36”, “36-48”, “48-60”, “60+” (all are left closed intervals). What are the sizes of these groups?\n",
    "\n",
    "_Tenure refers to the number of months that a customer has subscribed for. Do not drop the `tenure` column._\n"
   ]
  },
  {
   "cell_type": "code",
   "execution_count": 5,
   "metadata": {},
   "outputs": [
    {
     "data": {
      "text/html": [
       "<div>\n",
       "<style scoped>\n",
       "    .dataframe tbody tr th:only-of-type {\n",
       "        vertical-align: middle;\n",
       "    }\n",
       "\n",
       "    .dataframe tbody tr th {\n",
       "        vertical-align: top;\n",
       "    }\n",
       "\n",
       "    .dataframe thead th {\n",
       "        text-align: right;\n",
       "    }\n",
       "</style>\n",
       "<table border=\"1\" class=\"dataframe\">\n",
       "  <thead>\n",
       "    <tr style=\"text-align: right;\">\n",
       "      <th></th>\n",
       "      <th>customerID</th>\n",
       "      <th>gender</th>\n",
       "      <th>SeniorCitizen</th>\n",
       "      <th>Partner</th>\n",
       "      <th>Dependents</th>\n",
       "      <th>tenure</th>\n",
       "      <th>PhoneService</th>\n",
       "      <th>MultipleLines</th>\n",
       "      <th>InternetService</th>\n",
       "      <th>OnlineSecurity</th>\n",
       "      <th>...</th>\n",
       "      <th>TechSupport</th>\n",
       "      <th>StreamingTV</th>\n",
       "      <th>StreamingMovies</th>\n",
       "      <th>Contract</th>\n",
       "      <th>PaperlessBilling</th>\n",
       "      <th>PaymentMethod</th>\n",
       "      <th>MonthlyCharges</th>\n",
       "      <th>TotalCharges</th>\n",
       "      <th>Churn</th>\n",
       "      <th>tenure_group</th>\n",
       "    </tr>\n",
       "  </thead>\n",
       "  <tbody>\n",
       "    <tr>\n",
       "      <th>0</th>\n",
       "      <td>5575-GNVDE</td>\n",
       "      <td>Male</td>\n",
       "      <td>No</td>\n",
       "      <td>No</td>\n",
       "      <td>No</td>\n",
       "      <td>34</td>\n",
       "      <td>Yes</td>\n",
       "      <td>No</td>\n",
       "      <td>DSL</td>\n",
       "      <td>Yes</td>\n",
       "      <td>...</td>\n",
       "      <td>No</td>\n",
       "      <td>No</td>\n",
       "      <td>No</td>\n",
       "      <td>One year</td>\n",
       "      <td>No</td>\n",
       "      <td>Mailed check</td>\n",
       "      <td>56.95</td>\n",
       "      <td>1889.50</td>\n",
       "      <td>No</td>\n",
       "      <td>2</td>\n",
       "    </tr>\n",
       "    <tr>\n",
       "      <th>1</th>\n",
       "      <td>3668-QPYBK</td>\n",
       "      <td>Male</td>\n",
       "      <td>No</td>\n",
       "      <td>No</td>\n",
       "      <td>No</td>\n",
       "      <td>2</td>\n",
       "      <td>Yes</td>\n",
       "      <td>No</td>\n",
       "      <td>DSL</td>\n",
       "      <td>Yes</td>\n",
       "      <td>...</td>\n",
       "      <td>No</td>\n",
       "      <td>No</td>\n",
       "      <td>No</td>\n",
       "      <td>Month-to-month</td>\n",
       "      <td>Yes</td>\n",
       "      <td>Mailed check</td>\n",
       "      <td>53.85</td>\n",
       "      <td>108.15</td>\n",
       "      <td>Yes</td>\n",
       "      <td>0</td>\n",
       "    </tr>\n",
       "    <tr>\n",
       "      <th>2</th>\n",
       "      <td>7795-CFOCW</td>\n",
       "      <td>Male</td>\n",
       "      <td>No</td>\n",
       "      <td>No</td>\n",
       "      <td>No</td>\n",
       "      <td>45</td>\n",
       "      <td>No</td>\n",
       "      <td>No phone service</td>\n",
       "      <td>DSL</td>\n",
       "      <td>Yes</td>\n",
       "      <td>...</td>\n",
       "      <td>Yes</td>\n",
       "      <td>No</td>\n",
       "      <td>No</td>\n",
       "      <td>One year</td>\n",
       "      <td>No</td>\n",
       "      <td>Bank transfer (automatic)</td>\n",
       "      <td>42.30</td>\n",
       "      <td>1840.75</td>\n",
       "      <td>No</td>\n",
       "      <td>3</td>\n",
       "    </tr>\n",
       "  </tbody>\n",
       "</table>\n",
       "<p>3 rows × 22 columns</p>\n",
       "</div>"
      ],
      "text/plain": [
       "   customerID gender SeniorCitizen Partner Dependents  tenure PhoneService  \\\n",
       "0  5575-GNVDE   Male            No      No         No      34          Yes   \n",
       "1  3668-QPYBK   Male            No      No         No       2          Yes   \n",
       "2  7795-CFOCW   Male            No      No         No      45           No   \n",
       "\n",
       "      MultipleLines InternetService OnlineSecurity  ... TechSupport  \\\n",
       "0                No             DSL            Yes  ...          No   \n",
       "1                No             DSL            Yes  ...          No   \n",
       "2  No phone service             DSL            Yes  ...         Yes   \n",
       "\n",
       "  StreamingTV StreamingMovies        Contract PaperlessBilling  \\\n",
       "0          No              No        One year               No   \n",
       "1          No              No  Month-to-month              Yes   \n",
       "2          No              No        One year               No   \n",
       "\n",
       "               PaymentMethod MonthlyCharges TotalCharges  Churn  tenure_group  \n",
       "0               Mailed check          56.95      1889.50     No             2  \n",
       "1               Mailed check          53.85       108.15    Yes             0  \n",
       "2  Bank transfer (automatic)          42.30      1840.75     No             3  \n",
       "\n",
       "[3 rows x 22 columns]"
      ]
     },
     "execution_count": 5,
     "metadata": {},
     "output_type": "execute_result"
    }
   ],
   "source": [
    "data['tenure_group'] = 0\n",
    "data.loc[(data.tenure >= 12) & (data.tenure < 24), 'tenure_group'] = 1\n",
    "data.loc[(data.tenure >= 24) & (data.tenure < 36), 'tenure_group'] = 2\n",
    "data.loc[(data.tenure >= 36) & (data.tenure < 48), 'tenure_group'] = 3\n",
    "data.loc[(data.tenure >= 48) & (data.tenure < 60), 'tenure_group'] = 4\n",
    "data.loc[data.tenure >= 60, 'tenure_group'] = 5\n",
    "\n",
    "data.head(3)"
   ]
  },
  {
   "cell_type": "code",
   "execution_count": 6,
   "metadata": {},
   "outputs": [
    {
     "data": {
      "text/plain": [
       "0    1573\n",
       "1     844\n",
       "2     719\n",
       "3     670\n",
       "4     775\n",
       "5    1462\n",
       "Name: tenure_group, dtype: int64"
      ]
     },
     "execution_count": 6,
     "metadata": {},
     "output_type": "execute_result"
    }
   ],
   "source": [
    "data['tenure_group'].value_counts().sort_index()"
   ]
  },
  {
   "cell_type": "markdown",
   "metadata": {},
   "source": [
    "2. Preprocess categorical columns with only 2 unique values (“binary” columns): replace one unique value with 0 and another with 1 (label encoding). How many __such__ columns do you have?\n",
    "\n",
    "_E.g. for the `gender` attribute you may replace Female with 1 and Male with 0 or vice versa._\n"
   ]
  },
  {
   "cell_type": "code",
   "execution_count": 7,
   "metadata": {},
   "outputs": [
    {
     "data": {
      "text/plain": [
       "'Binary columns count: 13'"
      ]
     },
     "execution_count": 7,
     "metadata": {},
     "output_type": "execute_result"
    }
   ],
   "source": [
    "cats = data.dtypes[data.dtypes == 'object'].index.drop('customerID').values\n",
    "binary = [c for c in cats if len(data[c].unique()) == 2]\n",
    "nonbinary = [c for c in cats if len(data[c].unique()) != 2]\n",
    "\n",
    "f\"Binary columns count: {len(binary)}\""
   ]
  },
  {
   "cell_type": "code",
   "execution_count": 8,
   "metadata": {},
   "outputs": [
    {
     "data": {
      "text/html": [
       "<div>\n",
       "<style scoped>\n",
       "    .dataframe tbody tr th:only-of-type {\n",
       "        vertical-align: middle;\n",
       "    }\n",
       "\n",
       "    .dataframe tbody tr th {\n",
       "        vertical-align: top;\n",
       "    }\n",
       "\n",
       "    .dataframe thead th {\n",
       "        text-align: right;\n",
       "    }\n",
       "</style>\n",
       "<table border=\"1\" class=\"dataframe\">\n",
       "  <thead>\n",
       "    <tr style=\"text-align: right;\">\n",
       "      <th></th>\n",
       "      <th>customerID</th>\n",
       "      <th>gender</th>\n",
       "      <th>SeniorCitizen</th>\n",
       "      <th>Partner</th>\n",
       "      <th>Dependents</th>\n",
       "      <th>tenure</th>\n",
       "      <th>PhoneService</th>\n",
       "      <th>MultipleLines</th>\n",
       "      <th>InternetService</th>\n",
       "      <th>OnlineSecurity</th>\n",
       "      <th>...</th>\n",
       "      <th>TechSupport</th>\n",
       "      <th>StreamingTV</th>\n",
       "      <th>StreamingMovies</th>\n",
       "      <th>Contract</th>\n",
       "      <th>PaperlessBilling</th>\n",
       "      <th>PaymentMethod</th>\n",
       "      <th>MonthlyCharges</th>\n",
       "      <th>TotalCharges</th>\n",
       "      <th>Churn</th>\n",
       "      <th>tenure_group</th>\n",
       "    </tr>\n",
       "  </thead>\n",
       "  <tbody>\n",
       "    <tr>\n",
       "      <th>0</th>\n",
       "      <td>5575-GNVDE</td>\n",
       "      <td>1</td>\n",
       "      <td>0</td>\n",
       "      <td>0</td>\n",
       "      <td>0</td>\n",
       "      <td>34</td>\n",
       "      <td>1</td>\n",
       "      <td>No</td>\n",
       "      <td>DSL</td>\n",
       "      <td>1</td>\n",
       "      <td>...</td>\n",
       "      <td>0</td>\n",
       "      <td>0</td>\n",
       "      <td>0</td>\n",
       "      <td>One year</td>\n",
       "      <td>0</td>\n",
       "      <td>Mailed check</td>\n",
       "      <td>56.95</td>\n",
       "      <td>1889.50</td>\n",
       "      <td>0</td>\n",
       "      <td>2</td>\n",
       "    </tr>\n",
       "    <tr>\n",
       "      <th>1</th>\n",
       "      <td>3668-QPYBK</td>\n",
       "      <td>1</td>\n",
       "      <td>0</td>\n",
       "      <td>0</td>\n",
       "      <td>0</td>\n",
       "      <td>2</td>\n",
       "      <td>1</td>\n",
       "      <td>No</td>\n",
       "      <td>DSL</td>\n",
       "      <td>1</td>\n",
       "      <td>...</td>\n",
       "      <td>0</td>\n",
       "      <td>0</td>\n",
       "      <td>0</td>\n",
       "      <td>Month-to-month</td>\n",
       "      <td>1</td>\n",
       "      <td>Mailed check</td>\n",
       "      <td>53.85</td>\n",
       "      <td>108.15</td>\n",
       "      <td>1</td>\n",
       "      <td>0</td>\n",
       "    </tr>\n",
       "    <tr>\n",
       "      <th>2</th>\n",
       "      <td>7795-CFOCW</td>\n",
       "      <td>1</td>\n",
       "      <td>0</td>\n",
       "      <td>0</td>\n",
       "      <td>0</td>\n",
       "      <td>45</td>\n",
       "      <td>0</td>\n",
       "      <td>No phone service</td>\n",
       "      <td>DSL</td>\n",
       "      <td>1</td>\n",
       "      <td>...</td>\n",
       "      <td>1</td>\n",
       "      <td>0</td>\n",
       "      <td>0</td>\n",
       "      <td>One year</td>\n",
       "      <td>0</td>\n",
       "      <td>Bank transfer (automatic)</td>\n",
       "      <td>42.30</td>\n",
       "      <td>1840.75</td>\n",
       "      <td>0</td>\n",
       "      <td>3</td>\n",
       "    </tr>\n",
       "  </tbody>\n",
       "</table>\n",
       "<p>3 rows × 22 columns</p>\n",
       "</div>"
      ],
      "text/plain": [
       "   customerID  gender  SeniorCitizen  Partner  Dependents  tenure  \\\n",
       "0  5575-GNVDE       1              0        0           0      34   \n",
       "1  3668-QPYBK       1              0        0           0       2   \n",
       "2  7795-CFOCW       1              0        0           0      45   \n",
       "\n",
       "   PhoneService     MultipleLines InternetService  OnlineSecurity  ...  \\\n",
       "0             1                No             DSL               1  ...   \n",
       "1             1                No             DSL               1  ...   \n",
       "2             0  No phone service             DSL               1  ...   \n",
       "\n",
       "   TechSupport  StreamingTV  StreamingMovies        Contract  \\\n",
       "0            0            0                0        One year   \n",
       "1            0            0                0  Month-to-month   \n",
       "2            1            0                0        One year   \n",
       "\n",
       "   PaperlessBilling              PaymentMethod  MonthlyCharges TotalCharges  \\\n",
       "0                 0               Mailed check           56.95      1889.50   \n",
       "1                 1               Mailed check           53.85       108.15   \n",
       "2                 0  Bank transfer (automatic)           42.30      1840.75   \n",
       "\n",
       "   Churn  tenure_group  \n",
       "0      0             2  \n",
       "1      1             0  \n",
       "2      0             3  \n",
       "\n",
       "[3 rows x 22 columns]"
      ]
     },
     "execution_count": 8,
     "metadata": {},
     "output_type": "execute_result"
    }
   ],
   "source": [
    "le = LabelEncoder()\n",
    "\n",
    "for col in binary:\n",
    "    data[col] = le.fit_transform(data[col])\n",
    "\n",
    "data.head(3)"
   ]
  },
  {
   "cell_type": "markdown",
   "metadata": {},
   "source": [
    "3. Preprocess categorical columns with more then 2 unique values using dummy encoding (=one-hot encoding). How many __such__ columns (before dummy encoding) do you have? \n"
   ]
  },
  {
   "cell_type": "code",
   "execution_count": 9,
   "metadata": {},
   "outputs": [
    {
     "data": {
      "text/plain": [
       "'Nonbinary columns count: 4'"
      ]
     },
     "execution_count": 9,
     "metadata": {},
     "output_type": "execute_result"
    }
   ],
   "source": [
    "f\"Nonbinary columns count: {len(nonbinary)}\""
   ]
  },
  {
   "cell_type": "code",
   "execution_count": 10,
   "metadata": {},
   "outputs": [
    {
     "data": {
      "text/html": [
       "<div>\n",
       "<style scoped>\n",
       "    .dataframe tbody tr th:only-of-type {\n",
       "        vertical-align: middle;\n",
       "    }\n",
       "\n",
       "    .dataframe tbody tr th {\n",
       "        vertical-align: top;\n",
       "    }\n",
       "\n",
       "    .dataframe thead th {\n",
       "        text-align: right;\n",
       "    }\n",
       "</style>\n",
       "<table border=\"1\" class=\"dataframe\">\n",
       "  <thead>\n",
       "    <tr style=\"text-align: right;\">\n",
       "      <th></th>\n",
       "      <th>customerID</th>\n",
       "      <th>gender</th>\n",
       "      <th>SeniorCitizen</th>\n",
       "      <th>Partner</th>\n",
       "      <th>Dependents</th>\n",
       "      <th>tenure</th>\n",
       "      <th>PhoneService</th>\n",
       "      <th>OnlineSecurity</th>\n",
       "      <th>OnlineBackup</th>\n",
       "      <th>DeviceProtection</th>\n",
       "      <th>...</th>\n",
       "      <th>tenure_group</th>\n",
       "      <th>MultipleLines_No phone service</th>\n",
       "      <th>MultipleLines_Yes</th>\n",
       "      <th>InternetService_Fiber optic</th>\n",
       "      <th>InternetService_No</th>\n",
       "      <th>Contract_One year</th>\n",
       "      <th>Contract_Two year</th>\n",
       "      <th>PaymentMethod_Credit card (automatic)</th>\n",
       "      <th>PaymentMethod_Electronic check</th>\n",
       "      <th>PaymentMethod_Mailed check</th>\n",
       "    </tr>\n",
       "  </thead>\n",
       "  <tbody>\n",
       "    <tr>\n",
       "      <th>0</th>\n",
       "      <td>5575-GNVDE</td>\n",
       "      <td>1</td>\n",
       "      <td>0</td>\n",
       "      <td>0</td>\n",
       "      <td>0</td>\n",
       "      <td>34</td>\n",
       "      <td>1</td>\n",
       "      <td>1</td>\n",
       "      <td>0</td>\n",
       "      <td>1</td>\n",
       "      <td>...</td>\n",
       "      <td>2</td>\n",
       "      <td>0</td>\n",
       "      <td>0</td>\n",
       "      <td>0</td>\n",
       "      <td>0</td>\n",
       "      <td>1</td>\n",
       "      <td>0</td>\n",
       "      <td>0</td>\n",
       "      <td>0</td>\n",
       "      <td>1</td>\n",
       "    </tr>\n",
       "    <tr>\n",
       "      <th>1</th>\n",
       "      <td>3668-QPYBK</td>\n",
       "      <td>1</td>\n",
       "      <td>0</td>\n",
       "      <td>0</td>\n",
       "      <td>0</td>\n",
       "      <td>2</td>\n",
       "      <td>1</td>\n",
       "      <td>1</td>\n",
       "      <td>1</td>\n",
       "      <td>0</td>\n",
       "      <td>...</td>\n",
       "      <td>0</td>\n",
       "      <td>0</td>\n",
       "      <td>0</td>\n",
       "      <td>0</td>\n",
       "      <td>0</td>\n",
       "      <td>0</td>\n",
       "      <td>0</td>\n",
       "      <td>0</td>\n",
       "      <td>0</td>\n",
       "      <td>1</td>\n",
       "    </tr>\n",
       "    <tr>\n",
       "      <th>2</th>\n",
       "      <td>7795-CFOCW</td>\n",
       "      <td>1</td>\n",
       "      <td>0</td>\n",
       "      <td>0</td>\n",
       "      <td>0</td>\n",
       "      <td>45</td>\n",
       "      <td>0</td>\n",
       "      <td>1</td>\n",
       "      <td>0</td>\n",
       "      <td>1</td>\n",
       "      <td>...</td>\n",
       "      <td>3</td>\n",
       "      <td>1</td>\n",
       "      <td>0</td>\n",
       "      <td>0</td>\n",
       "      <td>0</td>\n",
       "      <td>1</td>\n",
       "      <td>0</td>\n",
       "      <td>0</td>\n",
       "      <td>0</td>\n",
       "      <td>0</td>\n",
       "    </tr>\n",
       "  </tbody>\n",
       "</table>\n",
       "<p>3 rows × 27 columns</p>\n",
       "</div>"
      ],
      "text/plain": [
       "   customerID  gender  SeniorCitizen  Partner  Dependents  tenure  \\\n",
       "0  5575-GNVDE       1              0        0           0      34   \n",
       "1  3668-QPYBK       1              0        0           0       2   \n",
       "2  7795-CFOCW       1              0        0           0      45   \n",
       "\n",
       "   PhoneService  OnlineSecurity  OnlineBackup  DeviceProtection  ...  \\\n",
       "0             1               1             0                 1  ...   \n",
       "1             1               1             1                 0  ...   \n",
       "2             0               1             0                 1  ...   \n",
       "\n",
       "   tenure_group  MultipleLines_No phone service  MultipleLines_Yes  \\\n",
       "0             2                               0                  0   \n",
       "1             0                               0                  0   \n",
       "2             3                               1                  0   \n",
       "\n",
       "   InternetService_Fiber optic  InternetService_No  Contract_One year  \\\n",
       "0                            0                   0                  1   \n",
       "1                            0                   0                  0   \n",
       "2                            0                   0                  1   \n",
       "\n",
       "   Contract_Two year  PaymentMethod_Credit card (automatic)  \\\n",
       "0                  0                                      0   \n",
       "1                  0                                      0   \n",
       "2                  0                                      0   \n",
       "\n",
       "   PaymentMethod_Electronic check  PaymentMethod_Mailed check  \n",
       "0                               0                           1  \n",
       "1                               0                           1  \n",
       "2                               0                           0  \n",
       "\n",
       "[3 rows x 27 columns]"
      ]
     },
     "execution_count": 10,
     "metadata": {},
     "output_type": "execute_result"
    }
   ],
   "source": [
    "data = pd.get_dummies(data, prefix=nonbinary, columns=nonbinary, drop_first=True)\n",
    "data.head(3)"
   ]
  },
  {
   "cell_type": "markdown",
   "metadata": {},
   "source": [
    "4. Drop customerID attribute."
   ]
  },
  {
   "cell_type": "code",
   "execution_count": 11,
   "metadata": {},
   "outputs": [],
   "source": [
    "data.drop(columns=['customerID'], inplace=True)"
   ]
  },
  {
   "cell_type": "markdown",
   "metadata": {},
   "source": [
    "### II. Build a churn model (5).\n",
    "\n",
    "1. Build 2 classification models to predict customers churn:\n",
    "   - Logistic Regression. What is the ROC AUC of this model?\n",
    "   - Random Forest. What is the ROC AUC of this model?\n"
   ]
  },
  {
   "cell_type": "code",
   "execution_count": 12,
   "metadata": {},
   "outputs": [],
   "source": [
    "y = data.Churn\n",
    "X = data.drop(columns=['Churn'])"
   ]
  },
  {
   "cell_type": "code",
   "execution_count": 13,
   "metadata": {},
   "outputs": [],
   "source": [
    "logit = LogisticRegression(max_iter=1000)\n",
    "forest = RandomForestClassifier()"
   ]
  },
  {
   "cell_type": "code",
   "execution_count": 119,
   "metadata": {},
   "outputs": [
    {
     "data": {
      "text/plain": [
       "'0.93'"
      ]
     },
     "execution_count": 119,
     "metadata": {},
     "output_type": "execute_result"
    }
   ],
   "source": [
    "f\"{cross_val_score(logit, X, y, scoring=('roc_auc')).mean():.2f}\""
   ]
  },
  {
   "cell_type": "code",
   "execution_count": 120,
   "metadata": {},
   "outputs": [
    {
     "data": {
      "text/plain": [
       "'0.92'"
      ]
     },
     "execution_count": 120,
     "metadata": {},
     "output_type": "execute_result"
    }
   ],
   "source": [
    "f\"{cross_val_score(forest, X, y, scoring=('roc_auc')).mean():.2f}\""
   ]
  },
  {
   "cell_type": "code",
   "execution_count": 16,
   "metadata": {},
   "outputs": [
    {
     "data": {
      "text/plain": [
       "'0.85'"
      ]
     },
     "execution_count": 16,
     "metadata": {},
     "output_type": "execute_result"
    }
   ],
   "source": [
    "lpred = cross_val_predict(logit, X, y)\n",
    "f\"{roc_auc_score(y, lpred):.2f}\""
   ]
  },
  {
   "cell_type": "code",
   "execution_count": 17,
   "metadata": {},
   "outputs": [
    {
     "data": {
      "text/plain": [
       "'0.84'"
      ]
     },
     "execution_count": 17,
     "metadata": {},
     "output_type": "execute_result"
    }
   ],
   "source": [
    "rpred = cross_val_predict(forest, X, y)\n",
    "f\"{roc_auc_score(y, rpred):.2f}\""
   ]
  },
  {
   "cell_type": "markdown",
   "metadata": {},
   "source": [
    "### III. Compare two discount strategies (25 + 10).\n",
    "\n",
    "**Assumptions:**\n",
    "- Every customer pays the same price p which is the average of `MonthlyCharges`.\n",
    "- If we decide to provide a discount we provide it to all the customers who are predicted as Churn=Yes.\n",
    "- When we compute gains, costs and losses we compute them for the short term.\n",
    "- Strategy’s profit is the difference between gains, costs and losses: `profit = gains - costs - losses`\n",
    "- Profit per customer is the total profit divided by the number of customers (if the person churns the person is not a customer anymore).\n",
    "\n",
    "**Strategy A:** Provide a 20% discount with a 75% acceptance rate.\n",
    "\n",
    "**Strategy B:** Provide a 30% discount with a 90% acceptance rate.\n",
    "\n"
   ]
  },
  {
   "cell_type": "code",
   "execution_count": 18,
   "metadata": {},
   "outputs": [
    {
     "data": {
      "text/plain": [
       "'62.86'"
      ]
     },
     "execution_count": 18,
     "metadata": {},
     "output_type": "execute_result"
    }
   ],
   "source": [
    "p = data['MonthlyCharges'].mean()\n",
    "f\"{p:.2f}\""
   ]
  },
  {
   "cell_type": "markdown",
   "metadata": {},
   "source": [
    "#### 1. Use the default threshold of 0.5 to compute the confusion matrix. Based on this confusion matrix report (5 points):\n",
    "- TP, FP, TN, FN\n",
    "- Losses if you do not apply any discount strategy.\n",
    "- Total **gains** from the discount strategy B.\n",
    "- Total **costs** of the discount strategy B.\n",
    "- Total **losses** of the discount strategy B.\n",
    "- Total profit of the discount strategy B.\n",
    "- Profit per customer $p_d$ (using strategy B). \n",
    "\n",
    "#### 2. Use 9 different thresholds: 0.1, 0.2, … 0.9. Answer to the following questions (10 points):\n",
    "- What is the threshold with the highest accuracy, using strategy B?\n",
    "- What is the threshold with the highest profit, using strategy B? What is the highest profit, using strategy B?\n",
    "- What is the threshold with the highest profit per customer, using strategy B ?  What is the highest profit per customer, using strategy B?\n",
    "- What is the ratio of profit per customer (obtained on the previous step) and p? $\\frac{p_d}{p}$\n",
    "- Which strategy yields the highest profit (A or B)? What are the TP, FP, TN, FN in this case? What is the highest profit in that case?\n",
    "- Which strategy yields the highest profit per customer (A or B)? What are the TP, FP, TN, FN in this case? What is the highest profit per customer in that case?\n"
   ]
  },
  {
   "cell_type": "code",
   "execution_count": 63,
   "metadata": {},
   "outputs": [],
   "source": [
    "def plot_cm(cm, labels=['Not Churn', 'Churn']):\n",
    "    fig, ax = plt.subplots()\n",
    "    sns.heatmap(pd.DataFrame(cm, columns=labels, index=labels), annot=True, cmap=\"Blues\", fmt='g')\n",
    "    ax.xaxis.set_label_position('top')\n",
    "    plt.tight_layout()\n",
    "    plt.title('Confusion matrix', y = 1.1)\n",
    "    plt.ylabel('Actual')\n",
    "    plt.xlabel('Predicted')\n",
    "    plt.show()"
   ]
  },
  {
   "cell_type": "code",
   "execution_count": 165,
   "metadata": {},
   "outputs": [],
   "source": [
    "def compute_metrics(cm, p, acceptance, discount, plot=False):\n",
    "    if plot:\n",
    "        plot_cm(cm)\n",
    "    tn, fp, fn, tp = cm.ravel()\n",
    "    accuracy = (tp + tn) / (tp + fp + fn + tn)\n",
    "    gains = tp * acceptance * p\n",
    "    costs = (tp + fp) * discount * p\n",
    "    losses = fn * p + tp * (1 - acceptance) * (1 - discount) * p\n",
    "    profit = gains - costs - losses\n",
    "    profit2 = tp * acceptance * (1 - discount) * p + fp * (1 - discount) * p  + tn * p \n",
    "    per_customer = profit / (tn + tp * acceptance + fp)\n",
    "    per_customer2 = profit2 / (tn + tp * acceptance + fp)\n",
    "    \n",
    "    print(f\"Accuracy: {accuracy:.2f}\")\n",
    "    print(f\"Gains: {gains:.2f}\")\n",
    "    print(f\"Costs: {costs:.2f}\")\n",
    "    print(f\"Losses: {losses:.2f}\")\n",
    "    print(f\"Profit: {profit:.2f}\")\n",
    "    print(f\"Profit2: {profit2:.2f}\")\n",
    "    print(f\"Profit per customer: {per_customer:.2f}\")\n",
    "    print(f\"Profit per customer2: {per_customer2:.2f}\")\n",
    "    return accuracy, profit, per_customer"
   ]
  },
  {
   "cell_type": "code",
   "execution_count": 64,
   "metadata": {},
   "outputs": [
    {
     "data": {
      "image/png": "[encoded data removed]",
      "text/plain": [
       "<Figure size 432x288 with 2 Axes>"
      ]
     },
     "metadata": {},
     "output_type": "display_data"
    },
    {
     "data": {
      "text/plain": [
       "array([[3946,  228],\n",
       "       [ 453, 1416]])"
      ]
     },
     "execution_count": 64,
     "metadata": {},
     "output_type": "execute_result"
    }
   ],
   "source": [
    "cm = confusion_matrix(y, lpred)\n",
    "plot_cm(cm)\n",
    "cm"
   ]
  },
  {
   "cell_type": "code",
   "execution_count": 160,
   "metadata": {},
   "outputs": [
    {
     "name": "stdout",
     "output_type": "stream",
     "text": [
      "TP=1416   FP=228   TN=3946   FN=453\n"
     ]
    }
   ],
   "source": [
    "tn, fp, fn, tp = cm.ravel()\n",
    "print(f\"TP={tp}   FP={fp}   TN={tn}   FN={fn}\")"
   ]
  },
  {
   "cell_type": "code",
   "execution_count": 161,
   "metadata": {},
   "outputs": [
    {
     "data": {
      "text/plain": [
       "'Losses if we do not apply any strategy: 117481.16'"
      ]
     },
     "execution_count": 161,
     "metadata": {},
     "output_type": "execute_result"
    }
   ],
   "source": [
    "f\"Losses if we do not apply any strategy: {(tp + fn) * p:.2f}\""
   ]
  },
  {
   "cell_type": "code",
   "execution_count": 162,
   "metadata": {},
   "outputs": [],
   "source": [
    "thresh = [0.1, 0.2, 0.3, 0.4, 0.5, 0.6, 0.7, 0.8, 0.9]"
   ]
  },
  {
   "cell_type": "code",
   "execution_count": 163,
   "metadata": {},
   "outputs": [],
   "source": [
    "A = {'acceptance':0.75, 'discount': 0.2}\n",
    "B = {'acceptance':0.9, 'discount': 0.3}"
   ]
  },
  {
   "cell_type": "code",
   "execution_count": 166,
   "metadata": {},
   "outputs": [
    {
     "name": "stdout",
     "output_type": "stream",
     "text": [
      "Accuracy: 0.89\n",
      "Gains: 80105.93\n",
      "Costs: 31001.45\n",
      "Losses: 34705.03\n",
      "Profit: 14399.46\n",
      "Profit2: 314142.98\n",
      "Profit per customer: 2.64\n",
      "Profit per customer2: 57.66\n"
     ]
    },
    {
     "data": {
      "text/plain": [
       "(0.887307628661261, 14399.455900380613, 2.6428778908267776)"
      ]
     },
     "execution_count": 166,
     "metadata": {},
     "output_type": "execute_result"
    }
   ],
   "source": [
    "acc, pr, pp = compute_metrics(cm, p, B['acceptance'], B['discount'])\n",
    "acc, pr, pp"
   ]
  },
  {
   "cell_type": "code",
   "execution_count": 150,
   "metadata": {},
   "outputs": [
    {
     "data": {
      "text/plain": [
       "'0.04'"
      ]
     },
     "execution_count": 150,
     "metadata": {},
     "output_type": "execute_result"
    }
   ],
   "source": [
    "f\"{pp / p:.2f}\""
   ]
  },
  {
   "cell_type": "code",
   "execution_count": 138,
   "metadata": {},
   "outputs": [
    {
     "name": "stdout",
     "output_type": "stream",
     "text": [
      "----------------------Treshold = 0.1-----------------------------\n",
      "Accuracy: 0.73\n",
      "Gains: 99057.55\n",
      "Costs: 61776.61\n",
      "Losses: 15121.69\n",
      "Profit: 22159.25\n",
      "Profit per customer: 3.85\n",
      "-------------------------------------------------------------------\n",
      "----------------------Treshold = 0.2-----------------------------\n",
      "Accuracy: 0.80\n",
      "Gains: 93626.64\n",
      "Costs: 50160.49\n",
      "Losses: 20733.63\n",
      "Profit: 22732.51\n",
      "Profit per customer: 4.01\n",
      "-------------------------------------------------------------------\n",
      "----------------------Treshold = 0.3-----------------------------\n",
      "Accuracy: 0.84\n",
      "Gains: 88874.59\n",
      "Costs: 42051.84\n",
      "Losses: 25644.08\n",
      "Profit: 21178.67\n",
      "Profit per customer: 3.79\n",
      "-------------------------------------------------------------------\n",
      "----------------------Treshold = 0.4-----------------------------\n",
      "Accuracy: 0.87\n",
      "Gains: 84461.97\n",
      "Costs: 35791.21\n",
      "Losses: 30203.78\n",
      "Profit: 18466.98\n",
      "Profit per customer: 3.35\n",
      "-------------------------------------------------------------------\n",
      "----------------------Treshold = 0.5-----------------------------\n",
      "Accuracy: 0.89\n",
      "Gains: 80105.93\n",
      "Costs: 31001.45\n",
      "Losses: 34705.03\n",
      "Profit: 14399.46\n",
      "Profit per customer: 2.64\n",
      "-------------------------------------------------------------------\n",
      "----------------------Treshold = 0.6-----------------------------\n",
      "Accuracy: 0.90\n",
      "Gains: 74901.31\n",
      "Costs: 26362.54\n",
      "Losses: 40083.14\n",
      "Profit: 8455.63\n",
      "Profit per customer: 1.58\n",
      "-------------------------------------------------------------------\n",
      "----------------------Treshold = 0.7-----------------------------\n",
      "Accuracy: 0.89\n",
      "Gains: 69809.83\n",
      "Costs: 23948.81\n",
      "Losses: 45344.33\n",
      "Profit: 516.69\n",
      "Profit per customer: 0.10\n",
      "-------------------------------------------------------------------\n",
      "----------------------Treshold = 0.8-----------------------------\n",
      "Accuracy: 0.87\n",
      "Gains: 62625.19\n",
      "Costs: 20893.92\n",
      "Losses: 52768.46\n",
      "Profit: -11037.19\n",
      "Profit per customer: -2.13\n",
      "-------------------------------------------------------------------\n",
      "----------------------Treshold = 0.9-----------------------------\n",
      "Accuracy: 0.83\n",
      "Gains: 49047.91\n",
      "Costs: 16349.30\n",
      "Losses: 66798.31\n",
      "Profit: -34099.71\n",
      "Profit per customer: -6.88\n",
      "-------------------------------------------------------------------\n"
     ]
    }
   ],
   "source": [
    "max_acc = 0.0\n",
    "max_prof = 0.0\n",
    "max_pp = 0.0\n",
    "\n",
    "acc_t = 0.0\n",
    "prof_t = 0.0\n",
    "pp_t = 0.0\n",
    "\n",
    "for t in thresh:\n",
    "    probas = cross_val_predict(logit, X, y, method='predict_proba')\n",
    "    pred = (probas[:,1] >= t).astype(int)\n",
    "    matrix = confusion_matrix(y, pred)\n",
    "    print(f'----------------------Treshold = {t}-----------------------------')\n",
    "    acc, prof, pp = compute_metrics(matrix, p, B['acceptance'], B['discount'])\n",
    "    if acc > max_acc:\n",
    "        max_acc = acc\n",
    "        acc_t = t\n",
    "    if prof > max_prof:\n",
    "        max_prof = prof\n",
    "        prof_t = t\n",
    "    if pp > max_pp:\n",
    "        max_pp = pp\n",
    "        pp_t = t\n",
    "    print('-------------------------------------------------------------------')"
   ]
  },
  {
   "cell_type": "code",
   "execution_count": 139,
   "metadata": {},
   "outputs": [
    {
     "name": "stdout",
     "output_type": "stream",
     "text": [
      "Highest accuracy threshold: 0.6\n",
      "Highest profit threshold: 0.2 ; Highest profit 22732.51\n",
      "Highest prof/cust threshold: 0.2 ; Highest prof/cust 4.01\n"
     ]
    }
   ],
   "source": [
    "print(f\"Highest accuracy threshold: {acc_t}\")\n",
    "print(f\"Highest profit threshold: {prof_t} ; Highest profit {max_prof:.2f}\")\n",
    "print(f\"Highest prof/cust threshold: {pp_t} ; Highest prof/cust {max_pp:.2f}\")"
   ]
  },
  {
   "cell_type": "code",
   "execution_count": 140,
   "metadata": {},
   "outputs": [],
   "source": [
    "B_res = {'prof': max_prof, 'pp': max_pp}"
   ]
  },
  {
   "cell_type": "code",
   "execution_count": 141,
   "metadata": {},
   "outputs": [
    {
     "name": "stdout",
     "output_type": "stream",
     "text": [
      "----------------------Treshold = 0.1-----------------------------\n",
      "Accuracy: 0.73\n",
      "Gains: 82547.95\n",
      "Costs: 41184.41\n",
      "Losses: 29430.00\n",
      "Profit: 11933.55\n",
      "Profit per customer: 2.17\n",
      "-------------------------------------------------------------------\n",
      "----------------------Treshold = 0.2-----------------------------\n",
      "Accuracy: 0.80\n",
      "Gains: 78022.20\n",
      "Costs: 33440.33\n",
      "Losses: 34257.48\n",
      "Profit: 10324.39\n",
      "Profit per customer: 1.91\n",
      "-------------------------------------------------------------------\n",
      "----------------------Treshold = 0.3-----------------------------\n",
      "Accuracy: 0.84\n",
      "Gains: 74062.16\n",
      "Costs: 28034.56\n",
      "Losses: 38481.52\n",
      "Profit: 7546.07\n",
      "Profit per customer: 1.41\n",
      "-------------------------------------------------------------------\n",
      "----------------------Treshold = 0.4-----------------------------\n",
      "Accuracy: 0.87\n",
      "Gains: 70384.98\n",
      "Costs: 23860.81\n",
      "Losses: 42403.85\n",
      "Profit: 4120.33\n",
      "Profit per customer: 0.78\n",
      "-------------------------------------------------------------------\n",
      "----------------------Treshold = 0.5-----------------------------\n",
      "Accuracy: 0.89\n",
      "Gains: 66754.94\n",
      "Costs: 20667.63\n",
      "Losses: 46275.88\n",
      "Profit: -188.57\n",
      "Profit per customer: -0.04\n",
      "-------------------------------------------------------------------\n",
      "----------------------Treshold = 0.6-----------------------------\n",
      "Accuracy: 0.90\n",
      "Gains: 62417.76\n",
      "Costs: 17575.03\n",
      "Losses: 50902.21\n",
      "Profit: -6059.49\n",
      "Profit per customer: -1.17\n",
      "-------------------------------------------------------------------\n",
      "----------------------Treshold = 0.7-----------------------------\n",
      "Accuracy: 0.89\n",
      "Gains: 58174.86\n",
      "Costs: 15965.87\n",
      "Losses: 55427.97\n",
      "Profit: -13218.99\n",
      "Profit per customer: -2.59\n",
      "-------------------------------------------------------------------\n",
      "----------------------Treshold = 0.8-----------------------------\n",
      "Accuracy: 0.87\n",
      "Gains: 52187.66\n",
      "Costs: 13929.28\n",
      "Losses: 61814.32\n",
      "Profit: -23555.95\n",
      "Profit per customer: -4.71\n",
      "-------------------------------------------------------------------\n",
      "----------------------Treshold = 0.9-----------------------------\n",
      "Accuracy: 0.83\n",
      "Gains: 40873.26\n",
      "Costs: 10899.54\n",
      "Losses: 73883.01\n",
      "Profit: -43909.29\n",
      "Profit per customer: -9.10\n",
      "-------------------------------------------------------------------\n"
     ]
    }
   ],
   "source": [
    "max_acc = 0.0\n",
    "max_prof = 0.0\n",
    "max_pp = 0.0\n",
    "\n",
    "acc_t = 0.0\n",
    "prof_t = 0.0\n",
    "pp_t = 0.0\n",
    "\n",
    "for t in thresh:\n",
    "    probas = cross_val_predict(logit, X, y, method='predict_proba')\n",
    "    pred = (probas[:,1] >= t).astype(int)\n",
    "    matrix = confusion_matrix(y, pred)\n",
    "    print(f'----------------------Treshold = {t}-----------------------------')\n",
    "    acc, prof, pp = compute_metrics(matrix, p, A['acceptance'], A['discount'])\n",
    "    if acc > max_acc:\n",
    "        max_acc = acc\n",
    "        acc_t = t\n",
    "    if prof > max_prof:\n",
    "        max_prof = prof\n",
    "        prof_t = t\n",
    "    if pp > max_pp:\n",
    "        max_pp = pp\n",
    "        pp_t = t\n",
    "    print('-------------------------------------------------------------------')"
   ]
  },
  {
   "cell_type": "code",
   "execution_count": 142,
   "metadata": {},
   "outputs": [
    {
     "name": "stdout",
     "output_type": "stream",
     "text": [
      "Highest accuracy threshold: 0.6\n",
      "Highest profit threshold: 0.1 ; Highest profit 11933.55\n",
      "Highest prof/cust threshold: 0.1 ; Highest prof/cust 2.17\n"
     ]
    }
   ],
   "source": [
    "print(f\"Highest accuracy threshold: {acc_t}\")\n",
    "print(f\"Highest profit threshold: {prof_t} ; Highest profit {max_prof:.2f}\")\n",
    "print(f\"Highest prof/cust threshold: {pp_t} ; Highest prof/cust {max_pp:.2f}\")"
   ]
  },
  {
   "cell_type": "code",
   "execution_count": 143,
   "metadata": {},
   "outputs": [],
   "source": [
    "A_res = {'prof': max_prof, 'pp': max_pp}"
   ]
  },
  {
   "cell_type": "code",
   "execution_count": 144,
   "metadata": {},
   "outputs": [
    {
     "data": {
      "text/plain": [
       "{'prof': 11933.545934552378, 'pp': 2.174777153319491}"
      ]
     },
     "execution_count": 144,
     "metadata": {},
     "output_type": "execute_result"
    }
   ],
   "source": [
    "A_res"
   ]
  },
  {
   "cell_type": "code",
   "execution_count": 145,
   "metadata": {},
   "outputs": [
    {
     "data": {
      "text/plain": [
       "{'prof': 22732.50928222737, 'pp': 4.01386232581043}"
      ]
     },
     "execution_count": 145,
     "metadata": {},
     "output_type": "execute_result"
    }
   ],
   "source": [
    "B_res"
   ]
  },
  {
   "cell_type": "code",
   "execution_count": 147,
   "metadata": {},
   "outputs": [
    {
     "data": {
      "image/png": "[encoded data removed]",
      "text/plain": [
       "<Figure size 432x288 with 2 Axes>"
      ]
     },
     "metadata": {},
     "output_type": "display_data"
    },
    {
     "name": "stdout",
     "output_type": "stream",
     "text": [
      "TP=1655   FP=1005   TN=3169   FN=214\n"
     ]
    }
   ],
   "source": [
    "probas = cross_val_predict(logit, X, y, method='predict_proba')\n",
    "pred = (probas[:,1] >= 0.2).astype(int)\n",
    "matrix = confusion_matrix(y, pred)\n",
    "plot_cm(matrix)\n",
    "tn, fp, fn, tp = matrix.ravel()\n",
    "print(f\"TP={tp}   FP={fp}   TN={tn}   FN={fn}\")"
   ]
  },
  {
   "cell_type": "code",
   "execution_count": 153,
   "metadata": {},
   "outputs": [
    {
     "data": {
      "text/plain": [
       "262368.29460532847"
      ]
     },
     "execution_count": 153,
     "metadata": {},
     "output_type": "execute_result"
    }
   ],
   "source": [
    "(fp + tn) * p"
   ]
  },
  {
   "cell_type": "code",
   "execution_count": 154,
   "metadata": {},
   "outputs": [
    {
     "data": {
      "text/plain": [
       "314142.9752235644"
      ]
     },
     "execution_count": 154,
     "metadata": {},
     "output_type": "execute_result"
    }
   ],
   "source": [
    "tp * B['acceptance'] * (1-B['discount']) * p + fp * (1-B['discount']) * p  + tn * p "
   ]
  },
  {
   "cell_type": "code",
   "execution_count": 169,
   "metadata": {},
   "outputs": [],
   "source": [
    "ra=[]\n",
    "for t in thresh:\n",
    "    probas = cross_val_predict(logit, X, y, method='predict_proba')\n",
    "    pred = (probas[:,1] >= t).astype(int)\n",
    "    ra.append(roc_auc_score(y, pred))"
   ]
  },
  {
   "cell_type": "code",
   "execution_count": 171,
   "metadata": {},
   "outputs": [
    {
     "data": {
      "text/plain": [
       "[<matplotlib.lines.Line2D at 0x119f89610>]"
      ]
     },
     "execution_count": 171,
     "metadata": {},
     "output_type": "execute_result"
    },
    {
     "data": {
      "image/png": "[encoded data removed]",
      "text/plain": [
       "<Figure size 432x288 with 1 Axes>"
      ]
     },
     "metadata": {},
     "output_type": "display_data"
    }
   ],
   "source": [
    "plt.plot(thresh, ra)"
   ]
  },
  {
   "cell_type": "code",
   "execution_count": 172,
   "metadata": {},
   "outputs": [],
   "source": [
    "TN = []\n",
    "FP = []\n",
    "FN = []\n",
    "TP = []\n",
    "\n",
    "for t in thresh:\n",
    "    probas = cross_val_predict(logit, X, y, method='predict_proba')\n",
    "    pred = (probas[:,1] >= t).astype(int)\n",
    "    matrix = confusion_matrix(y, pred)\n",
    "    tn, fp, fn, tp = matrix.ravel()\n",
    "    TN.append(tn)\n",
    "    FP.append(fp)\n",
    "    FN.append(fn)\n",
    "    TP.append(tp)"
   ]
  },
  {
   "cell_type": "code",
   "execution_count": 176,
   "metadata": {},
   "outputs": [
    {
     "data": {
      "image/png": "[encoded data removed]",
      "text/plain": [
       "<Figure size 432x288 with 1 Axes>"
      ]
     },
     "metadata": {},
     "output_type": "display_data"
    }
   ],
   "source": [
    "fig = plt.figure()\n",
    "plt.plot(thresh, TN, label='TN')\n",
    "plt.plot(thresh, FP, label='FP')\n",
    "plt.plot(thresh, FN, label='FN')\n",
    "plt.plot(thresh, TP, label='TP')\n",
    "plt.legend(loc='lower right')\n",
    "plt.show()"
   ]
  },
  {
   "cell_type": "code",
   "execution_count": null,
   "metadata": {},
   "outputs": [],
   "source": []
  }
 ],
 "metadata": {
  "kernelspec": {
   "display_name": "Python 3",
   "language": "python",
   "name": "python3"
  },
  "language_info": {
   "codemirror_mode": {
    "name": "ipython",
    "version": 3
   },
   "file_extension": ".py",
   "mimetype": "text/x-python",
   "name": "python",
   "nbconvert_exporter": "python",
   "pygments_lexer": "ipython3",
   "version": "3.7.6"
  }
 },
 "nbformat": 4,
 "nbformat_minor": 4
}
