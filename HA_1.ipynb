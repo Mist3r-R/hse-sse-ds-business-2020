{
 "cells": [
  {
   "cell_type": "markdown",
   "metadata": {},
   "source": [
    "# DS for Business course\n",
    "---\n",
    "## Home assignment 1\n",
    "### Task 1.\n",
    "Compute statistics of total number of cases on the 10’th day since 50 confirmed cases:\n",
    "1. Mean\n",
    "2. Median\n",
    "3. Max\n",
    "4. Min\n",
    "\n",
    "### Task 2.\n",
    "Compute statistics of total number of deaths on last available day:\n",
    "1.  Mean\n",
    "2.  Median\n",
    "3.  Max\n",
    "4.  Min\n",
    "\n",
    "### Task 3.\n",
    "What was the average number of new cases for the last 10 days in Germany?\n",
    "\n",
    "### Task 4.\n",
    "Compute case fatality rate (death to total cases ratio) for the last available day in countries with more than 10 000 reported cases (in total).\n",
    "1.  What is the biggest case fatality rate? Write percentage rounded to 2 decimal places.\n",
    "2.  What is the lowest? Write percentage rounded to 2 decimal places.\n",
    "3.  Plot a scatter plot: Total number of cases vs Case fatality rate, color points according to the country.\n",
    "\n",
    "### Task 5.\n",
    "On which weekday most cases were reported in France on average? On which weekday least cases were reported in Italy on average?\n",
    "Write all numbers rounded to 2 decimal places.\n"
   ]
  },
  {
   "cell_type": "code",
   "execution_count": null,
   "metadata": {},
   "outputs": [],
   "source": []
  }
 ],
 "metadata": {
  "kernelspec": {
   "display_name": "Python 3",
   "language": "python",
   "name": "python3"
  },
  "language_info": {
   "codemirror_mode": {
    "name": "ipython",
    "version": 3
   },
   "file_extension": ".py",
   "mimetype": "text/x-python",
   "name": "python",
   "nbconvert_exporter": "python",
   "pygments_lexer": "ipython3",
   "version": "3.7.6"
  }
 },
 "nbformat": 4,
 "nbformat_minor": 4
}
