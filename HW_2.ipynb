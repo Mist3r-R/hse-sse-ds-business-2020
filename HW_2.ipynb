{
 "cells": [
  {
   "cell_type": "markdown",
   "metadata": {},
   "source": [
    "# Data Science for Business\n",
    "\n",
    "## Spring 2020, module 4 @ HSE\n",
    "\n",
    "---\n",
    "\n",
    "## Home assignment 2\n",
    "\n",
    "\n",
    "Author: **Miron Rogovets**\n",
    "\n",
    "---\n",
    "\n",
    "Analyze Titanic data."
   ]
  },
  {
   "cell_type": "code",
   "execution_count": 168,
   "metadata": {},
   "outputs": [],
   "source": [
    "import pandas as pd\n",
    "import numpy as np\n",
    "import matplotlib.pyplot as plt\n",
    "import seaborn as sns\n",
    "\n",
    "from sklearn.metrics import confusion_matrix, accuracy_score\n",
    "from sklearn.tree import DecisionTreeClassifier\n",
    "from sklearn.model_selection import KFold\n",
    "\n",
    "import graphviz\n",
    "from sklearn import tree"
   ]
  },
  {
   "cell_type": "code",
   "execution_count": 2,
   "metadata": {},
   "outputs": [],
   "source": [
    "pd.set_option('display.float_format', lambda x: '{:.2f}'.format(x))\n",
    "sns.set_style('darkgrid')"
   ]
  },
  {
   "cell_type": "code",
   "execution_count": 3,
   "metadata": {},
   "outputs": [
    {
     "name": "stdout",
     "output_type": "stream",
     "text": [
      "(1309, 12)\n"
     ]
    },
    {
     "data": {
      "text/html": [
       "<div>\n",
       "<style scoped>\n",
       "    .dataframe tbody tr th:only-of-type {\n",
       "        vertical-align: middle;\n",
       "    }\n",
       "\n",
       "    .dataframe tbody tr th {\n",
       "        vertical-align: top;\n",
       "    }\n",
       "\n",
       "    .dataframe thead th {\n",
       "        text-align: right;\n",
       "    }\n",
       "</style>\n",
       "<table border=\"1\" class=\"dataframe\">\n",
       "  <thead>\n",
       "    <tr style=\"text-align: right;\">\n",
       "      <th></th>\n",
       "      <th>Passenger Class</th>\n",
       "      <th>Name</th>\n",
       "      <th>Sex</th>\n",
       "      <th>Age</th>\n",
       "      <th>No of Siblings or Spouses on Board</th>\n",
       "      <th>No of Parents or Children on Board</th>\n",
       "      <th>Ticket Number</th>\n",
       "      <th>Passenger Fare</th>\n",
       "      <th>Cabin</th>\n",
       "      <th>Port of Embarkation</th>\n",
       "      <th>Life Boat</th>\n",
       "      <th>Survived</th>\n",
       "    </tr>\n",
       "  </thead>\n",
       "  <tbody>\n",
       "    <tr>\n",
       "      <th>0</th>\n",
       "      <td>First</td>\n",
       "      <td>Allen, Miss. Elisabeth Walton</td>\n",
       "      <td>Female</td>\n",
       "      <td>29.00</td>\n",
       "      <td>0</td>\n",
       "      <td>0</td>\n",
       "      <td>24160</td>\n",
       "      <td>211.34</td>\n",
       "      <td>B5</td>\n",
       "      <td>Southampton</td>\n",
       "      <td>2</td>\n",
       "      <td>Yes</td>\n",
       "    </tr>\n",
       "    <tr>\n",
       "      <th>1</th>\n",
       "      <td>First</td>\n",
       "      <td>Allison, Master. Hudson Trevor</td>\n",
       "      <td>Male</td>\n",
       "      <td>0.92</td>\n",
       "      <td>1</td>\n",
       "      <td>2</td>\n",
       "      <td>113781</td>\n",
       "      <td>151.55</td>\n",
       "      <td>C22 C26</td>\n",
       "      <td>Southampton</td>\n",
       "      <td>11</td>\n",
       "      <td>Yes</td>\n",
       "    </tr>\n",
       "    <tr>\n",
       "      <th>2</th>\n",
       "      <td>First</td>\n",
       "      <td>Allison, Miss. Helen Loraine</td>\n",
       "      <td>Female</td>\n",
       "      <td>2.00</td>\n",
       "      <td>1</td>\n",
       "      <td>2</td>\n",
       "      <td>113781</td>\n",
       "      <td>151.55</td>\n",
       "      <td>C22 C26</td>\n",
       "      <td>Southampton</td>\n",
       "      <td>NaN</td>\n",
       "      <td>No</td>\n",
       "    </tr>\n",
       "  </tbody>\n",
       "</table>\n",
       "</div>"
      ],
      "text/plain": [
       "  Passenger Class                            Name     Sex   Age  \\\n",
       "0           First   Allen, Miss. Elisabeth Walton  Female 29.00   \n",
       "1           First  Allison, Master. Hudson Trevor    Male  0.92   \n",
       "2           First    Allison, Miss. Helen Loraine  Female  2.00   \n",
       "\n",
       "   No of Siblings or Spouses on Board  No of Parents or Children on Board  \\\n",
       "0                                   0                                   0   \n",
       "1                                   1                                   2   \n",
       "2                                   1                                   2   \n",
       "\n",
       "  Ticket Number  Passenger Fare    Cabin Port of Embarkation Life Boat  \\\n",
       "0         24160          211.34       B5         Southampton         2   \n",
       "1        113781          151.55  C22 C26         Southampton        11   \n",
       "2        113781          151.55  C22 C26         Southampton       NaN   \n",
       "\n",
       "  Survived  \n",
       "0      Yes  \n",
       "1      Yes  \n",
       "2       No  "
      ]
     },
     "execution_count": 3,
     "metadata": {},
     "output_type": "execute_result"
    }
   ],
   "source": [
    "df = pd.read_csv('data/titanic_data.csv')\n",
    "print(df.shape)\n",
    "df.head(3)"
   ]
  },
  {
   "cell_type": "markdown",
   "metadata": {},
   "source": [
    "### I. Start with basic EDA (Exploratory data analysis):\n",
    "1. Compute average `Age` of passengers and number of passengers who survived and not survived grouped by `Sex` and `Passenger Class` (24 numbers);\n",
    "\n",
    "2. What can you say about survivors based on the resulting table (open question), e.g. what is the surviving ratio for females in First class compared to the Second and Third? \n",
    "    *This answer is limited to 150 words.*\n",
    "\n",
    "\n",
    "3. What is the average number of males and females on all boats (rounded to the closest integer)? \n",
    "    *Do not forget to filter out all `?` in `Life Boat` attribute.* "
   ]
  },
  {
   "cell_type": "code",
   "execution_count": 4,
   "metadata": {},
   "outputs": [
    {
     "data": {
      "text/html": [
       "<div>\n",
       "<style scoped>\n",
       "    .dataframe tbody tr th:only-of-type {\n",
       "        vertical-align: middle;\n",
       "    }\n",
       "\n",
       "    .dataframe tbody tr th {\n",
       "        vertical-align: top;\n",
       "    }\n",
       "\n",
       "    .dataframe thead th {\n",
       "        text-align: right;\n",
       "    }\n",
       "</style>\n",
       "<table border=\"1\" class=\"dataframe\">\n",
       "  <thead>\n",
       "    <tr style=\"text-align: right;\">\n",
       "      <th></th>\n",
       "      <th></th>\n",
       "      <th></th>\n",
       "      <th>mean</th>\n",
       "      <th>size</th>\n",
       "    </tr>\n",
       "    <tr>\n",
       "      <th>Sex</th>\n",
       "      <th>Passenger Class</th>\n",
       "      <th>Survived</th>\n",
       "      <th></th>\n",
       "      <th></th>\n",
       "    </tr>\n",
       "  </thead>\n",
       "  <tbody>\n",
       "    <tr>\n",
       "      <th rowspan=\"6\" valign=\"top\">Female</th>\n",
       "      <th rowspan=\"2\" valign=\"top\">First</th>\n",
       "      <th>No</th>\n",
       "      <td>35.20</td>\n",
       "      <td>5</td>\n",
       "    </tr>\n",
       "    <tr>\n",
       "      <th>Yes</th>\n",
       "      <td>37.11</td>\n",
       "      <td>139</td>\n",
       "    </tr>\n",
       "    <tr>\n",
       "      <th rowspan=\"2\" valign=\"top\">Second</th>\n",
       "      <th>No</th>\n",
       "      <td>34.09</td>\n",
       "      <td>12</td>\n",
       "    </tr>\n",
       "    <tr>\n",
       "      <th>Yes</th>\n",
       "      <td>26.71</td>\n",
       "      <td>94</td>\n",
       "    </tr>\n",
       "    <tr>\n",
       "      <th rowspan=\"2\" valign=\"top\">Third</th>\n",
       "      <th>No</th>\n",
       "      <td>23.42</td>\n",
       "      <td>110</td>\n",
       "    </tr>\n",
       "    <tr>\n",
       "      <th>Yes</th>\n",
       "      <td>20.81</td>\n",
       "      <td>106</td>\n",
       "    </tr>\n",
       "    <tr>\n",
       "      <th rowspan=\"6\" valign=\"top\">Male</th>\n",
       "      <th rowspan=\"2\" valign=\"top\">First</th>\n",
       "      <th>No</th>\n",
       "      <td>43.66</td>\n",
       "      <td>118</td>\n",
       "    </tr>\n",
       "    <tr>\n",
       "      <th>Yes</th>\n",
       "      <td>36.17</td>\n",
       "      <td>61</td>\n",
       "    </tr>\n",
       "    <tr>\n",
       "      <th rowspan=\"2\" valign=\"top\">Second</th>\n",
       "      <th>No</th>\n",
       "      <td>33.09</td>\n",
       "      <td>146</td>\n",
       "    </tr>\n",
       "    <tr>\n",
       "      <th>Yes</th>\n",
       "      <td>17.45</td>\n",
       "      <td>25</td>\n",
       "    </tr>\n",
       "    <tr>\n",
       "      <th rowspan=\"2\" valign=\"top\">Third</th>\n",
       "      <th>No</th>\n",
       "      <td>26.68</td>\n",
       "      <td>418</td>\n",
       "    </tr>\n",
       "    <tr>\n",
       "      <th>Yes</th>\n",
       "      <td>22.44</td>\n",
       "      <td>75</td>\n",
       "    </tr>\n",
       "  </tbody>\n",
       "</table>\n",
       "</div>"
      ],
      "text/plain": [
       "                                 mean  size\n",
       "Sex    Passenger Class Survived            \n",
       "Female First           No       35.20     5\n",
       "                       Yes      37.11   139\n",
       "       Second          No       34.09    12\n",
       "                       Yes      26.71    94\n",
       "       Third           No       23.42   110\n",
       "                       Yes      20.81   106\n",
       "Male   First           No       43.66   118\n",
       "                       Yes      36.17    61\n",
       "       Second          No       33.09   146\n",
       "                       Yes      17.45    25\n",
       "       Third           No       26.68   418\n",
       "                       Yes      22.44    75"
      ]
     },
     "execution_count": 4,
     "metadata": {},
     "output_type": "execute_result"
    }
   ],
   "source": [
    "df.groupby(['Sex', 'Passenger Class', 'Survived'])['Age'].agg(['mean', 'size'])"
   ]
  },
  {
   "cell_type": "markdown",
   "metadata": {},
   "source": [
    "- The total number of survivors is the highest in _First_ class, the lowest in _Second_ (_Third_ in the middle)\n",
    "- The total number of _Male_ survivors is less than _Females_ in all classes\n",
    "- About 97% _Females_ from _First_ class survived, while only about 37% _Males_\n",
    "- _Males_ have surviving ratio less than 50% for all classes\n",
    "- _Females_ have surviving ratio more than 50% for _First_ and _Second_ classes, and about 50% for _Third_\n",
    "- The lower the class, the lower the percentage of survivors for _Females_ (as _Males_ have a bit lower percentage for _Second_ than for _Third_)\n",
    "- The passengers from _First_ class are older in average than passengers from other classes\n",
    "- Younger passengers have higher probability of surviving (except _Females_ from _First_ class)"
   ]
  },
  {
   "cell_type": "code",
   "execution_count": 5,
   "metadata": {},
   "outputs": [
    {
     "data": {
      "text/plain": [
       "Sex\n",
       "Female   13.87\n",
       "Male      6.96\n",
       "dtype: float64"
      ]
     },
     "execution_count": 5,
     "metadata": {},
     "output_type": "execute_result"
    }
   ],
   "source": [
    "df[~df['Life Boat'].isna()].groupby(['Life Boat', 'Sex']).agg('size').groupby('Sex').agg('mean')"
   ]
  },
  {
   "cell_type": "markdown",
   "metadata": {},
   "source": [
    "### II. Proceed with feature generation.\n",
    "1. Drop the column `Life Boat`."
   ]
  },
  {
   "cell_type": "code",
   "execution_count": 6,
   "metadata": {},
   "outputs": [
    {
     "data": {
      "text/html": [
       "<div>\n",
       "<style scoped>\n",
       "    .dataframe tbody tr th:only-of-type {\n",
       "        vertical-align: middle;\n",
       "    }\n",
       "\n",
       "    .dataframe tbody tr th {\n",
       "        vertical-align: top;\n",
       "    }\n",
       "\n",
       "    .dataframe thead th {\n",
       "        text-align: right;\n",
       "    }\n",
       "</style>\n",
       "<table border=\"1\" class=\"dataframe\">\n",
       "  <thead>\n",
       "    <tr style=\"text-align: right;\">\n",
       "      <th></th>\n",
       "      <th>Passenger Class</th>\n",
       "      <th>Name</th>\n",
       "      <th>Sex</th>\n",
       "      <th>Age</th>\n",
       "      <th>No of Siblings or Spouses on Board</th>\n",
       "      <th>No of Parents or Children on Board</th>\n",
       "      <th>Ticket Number</th>\n",
       "      <th>Passenger Fare</th>\n",
       "      <th>Cabin</th>\n",
       "      <th>Port of Embarkation</th>\n",
       "      <th>Survived</th>\n",
       "    </tr>\n",
       "  </thead>\n",
       "  <tbody>\n",
       "    <tr>\n",
       "      <th>0</th>\n",
       "      <td>First</td>\n",
       "      <td>Allen, Miss. Elisabeth Walton</td>\n",
       "      <td>Female</td>\n",
       "      <td>29.00</td>\n",
       "      <td>0</td>\n",
       "      <td>0</td>\n",
       "      <td>24160</td>\n",
       "      <td>211.34</td>\n",
       "      <td>B5</td>\n",
       "      <td>Southampton</td>\n",
       "      <td>Yes</td>\n",
       "    </tr>\n",
       "    <tr>\n",
       "      <th>1</th>\n",
       "      <td>First</td>\n",
       "      <td>Allison, Master. Hudson Trevor</td>\n",
       "      <td>Male</td>\n",
       "      <td>0.92</td>\n",
       "      <td>1</td>\n",
       "      <td>2</td>\n",
       "      <td>113781</td>\n",
       "      <td>151.55</td>\n",
       "      <td>C22 C26</td>\n",
       "      <td>Southampton</td>\n",
       "      <td>Yes</td>\n",
       "    </tr>\n",
       "  </tbody>\n",
       "</table>\n",
       "</div>"
      ],
      "text/plain": [
       "  Passenger Class                            Name     Sex   Age  \\\n",
       "0           First   Allen, Miss. Elisabeth Walton  Female 29.00   \n",
       "1           First  Allison, Master. Hudson Trevor    Male  0.92   \n",
       "\n",
       "   No of Siblings or Spouses on Board  No of Parents or Children on Board  \\\n",
       "0                                   0                                   0   \n",
       "1                                   1                                   2   \n",
       "\n",
       "  Ticket Number  Passenger Fare    Cabin Port of Embarkation Survived  \n",
       "0         24160          211.34       B5         Southampton      Yes  \n",
       "1        113781          151.55  C22 C26         Southampton      Yes  "
      ]
     },
     "execution_count": 6,
     "metadata": {},
     "output_type": "execute_result"
    }
   ],
   "source": [
    "data = df.drop(columns=['Life Boat'])\n",
    "data.head(2)"
   ]
  },
  {
   "cell_type": "markdown",
   "metadata": {},
   "source": [
    "2. Generate new attribute `Family size`: sum up `No of Parents or Children on Board` and `No of Siblings or Spouses on Board` and add 1 (for passenger himself). What is the average family size? In which class did the biggest family travel?\n",
    "    *Do not drop original attributes.*"
   ]
  },
  {
   "cell_type": "code",
   "execution_count": 7,
   "metadata": {},
   "outputs": [
    {
     "data": {
      "text/html": [
       "<div>\n",
       "<style scoped>\n",
       "    .dataframe tbody tr th:only-of-type {\n",
       "        vertical-align: middle;\n",
       "    }\n",
       "\n",
       "    .dataframe tbody tr th {\n",
       "        vertical-align: top;\n",
       "    }\n",
       "\n",
       "    .dataframe thead th {\n",
       "        text-align: right;\n",
       "    }\n",
       "</style>\n",
       "<table border=\"1\" class=\"dataframe\">\n",
       "  <thead>\n",
       "    <tr style=\"text-align: right;\">\n",
       "      <th></th>\n",
       "      <th>Passenger Class</th>\n",
       "      <th>Name</th>\n",
       "      <th>Sex</th>\n",
       "      <th>Age</th>\n",
       "      <th>No of Siblings or Spouses on Board</th>\n",
       "      <th>No of Parents or Children on Board</th>\n",
       "      <th>Ticket Number</th>\n",
       "      <th>Passenger Fare</th>\n",
       "      <th>Cabin</th>\n",
       "      <th>Port of Embarkation</th>\n",
       "      <th>Survived</th>\n",
       "      <th>Family Size</th>\n",
       "    </tr>\n",
       "  </thead>\n",
       "  <tbody>\n",
       "    <tr>\n",
       "      <th>0</th>\n",
       "      <td>First</td>\n",
       "      <td>Allen, Miss. Elisabeth Walton</td>\n",
       "      <td>Female</td>\n",
       "      <td>29.00</td>\n",
       "      <td>0</td>\n",
       "      <td>0</td>\n",
       "      <td>24160</td>\n",
       "      <td>211.34</td>\n",
       "      <td>B5</td>\n",
       "      <td>Southampton</td>\n",
       "      <td>Yes</td>\n",
       "      <td>1</td>\n",
       "    </tr>\n",
       "    <tr>\n",
       "      <th>1</th>\n",
       "      <td>First</td>\n",
       "      <td>Allison, Master. Hudson Trevor</td>\n",
       "      <td>Male</td>\n",
       "      <td>0.92</td>\n",
       "      <td>1</td>\n",
       "      <td>2</td>\n",
       "      <td>113781</td>\n",
       "      <td>151.55</td>\n",
       "      <td>C22 C26</td>\n",
       "      <td>Southampton</td>\n",
       "      <td>Yes</td>\n",
       "      <td>4</td>\n",
       "    </tr>\n",
       "  </tbody>\n",
       "</table>\n",
       "</div>"
      ],
      "text/plain": [
       "  Passenger Class                            Name     Sex   Age  \\\n",
       "0           First   Allen, Miss. Elisabeth Walton  Female 29.00   \n",
       "1           First  Allison, Master. Hudson Trevor    Male  0.92   \n",
       "\n",
       "   No of Siblings or Spouses on Board  No of Parents or Children on Board  \\\n",
       "0                                   0                                   0   \n",
       "1                                   1                                   2   \n",
       "\n",
       "  Ticket Number  Passenger Fare    Cabin Port of Embarkation Survived  \\\n",
       "0         24160          211.34       B5         Southampton      Yes   \n",
       "1        113781          151.55  C22 C26         Southampton      Yes   \n",
       "\n",
       "   Family Size  \n",
       "0            1  \n",
       "1            4  "
      ]
     },
     "execution_count": 7,
     "metadata": {},
     "output_type": "execute_result"
    }
   ],
   "source": [
    "data['Family Size'] = data['No of Siblings or Spouses on Board'] + \\\n",
    "                      data['No of Parents or Children on Board'] + 1\n",
    "data.head(2)"
   ]
  },
  {
   "cell_type": "markdown",
   "metadata": {},
   "source": [
    "In order to find average family size we divide number of people with same sizes by family size to get the real number of families of each size. Then we simply divide total number of passenger by total number of families to get an average size."
   ]
  },
  {
   "cell_type": "code",
   "execution_count": 8,
   "metadata": {},
   "outputs": [
    {
     "data": {
      "text/plain": [
       "'Mean size = 1.33'"
      ]
     },
     "execution_count": 8,
     "metadata": {},
     "output_type": "execute_result"
    }
   ],
   "source": [
    "family_size = data.groupby('Family Size').size()\n",
    "mean = family_size.values.sum() / (family_size.values / family_size.index.values).sum()\n",
    "f\"Mean size = {mean:.2f}\""
   ]
  },
  {
   "cell_type": "code",
   "execution_count": 9,
   "metadata": {},
   "outputs": [
    {
     "data": {
      "text/plain": [
       "array(['Third'], dtype=object)"
      ]
     },
     "execution_count": 9,
     "metadata": {},
     "output_type": "execute_result"
    }
   ],
   "source": [
    "data[data['Family Size'] == data['Family Size'].max()]['Passenger Class'].unique()"
   ]
  },
  {
   "cell_type": "markdown",
   "metadata": {},
   "source": [
    "3. It seems that `Passenger Fare` is total among all passengers with the same `Ticket Number`: create new attribute `Single passenger fare`. For every passenger you need to compute the number of passengers with the same `Ticket Number` and then use this number as a divisor for `Passenger Fare`. \n",
    "    *Do not drop the original attribute.*"
   ]
  },
  {
   "cell_type": "code",
   "execution_count": 10,
   "metadata": {},
   "outputs": [
    {
     "data": {
      "text/html": [
       "<div>\n",
       "<style scoped>\n",
       "    .dataframe tbody tr th:only-of-type {\n",
       "        vertical-align: middle;\n",
       "    }\n",
       "\n",
       "    .dataframe tbody tr th {\n",
       "        vertical-align: top;\n",
       "    }\n",
       "\n",
       "    .dataframe thead th {\n",
       "        text-align: right;\n",
       "    }\n",
       "</style>\n",
       "<table border=\"1\" class=\"dataframe\">\n",
       "  <thead>\n",
       "    <tr style=\"text-align: right;\">\n",
       "      <th></th>\n",
       "      <th>Passenger Class</th>\n",
       "      <th>Name</th>\n",
       "      <th>Sex</th>\n",
       "      <th>Age</th>\n",
       "      <th>No of Siblings or Spouses on Board</th>\n",
       "      <th>No of Parents or Children on Board</th>\n",
       "      <th>Ticket Number</th>\n",
       "      <th>Passenger Fare</th>\n",
       "      <th>Cabin</th>\n",
       "      <th>Port of Embarkation</th>\n",
       "      <th>Survived</th>\n",
       "      <th>Family Size</th>\n",
       "      <th>Single passenger fare</th>\n",
       "    </tr>\n",
       "  </thead>\n",
       "  <tbody>\n",
       "    <tr>\n",
       "      <th>0</th>\n",
       "      <td>First</td>\n",
       "      <td>Allen, Miss. Elisabeth Walton</td>\n",
       "      <td>Female</td>\n",
       "      <td>29.00</td>\n",
       "      <td>0</td>\n",
       "      <td>0</td>\n",
       "      <td>24160</td>\n",
       "      <td>211.34</td>\n",
       "      <td>B5</td>\n",
       "      <td>Southampton</td>\n",
       "      <td>Yes</td>\n",
       "      <td>1</td>\n",
       "      <td>52.83</td>\n",
       "    </tr>\n",
       "    <tr>\n",
       "      <th>1</th>\n",
       "      <td>First</td>\n",
       "      <td>Allison, Master. Hudson Trevor</td>\n",
       "      <td>Male</td>\n",
       "      <td>0.92</td>\n",
       "      <td>1</td>\n",
       "      <td>2</td>\n",
       "      <td>113781</td>\n",
       "      <td>151.55</td>\n",
       "      <td>C22 C26</td>\n",
       "      <td>Southampton</td>\n",
       "      <td>Yes</td>\n",
       "      <td>4</td>\n",
       "      <td>25.26</td>\n",
       "    </tr>\n",
       "    <tr>\n",
       "      <th>2</th>\n",
       "      <td>First</td>\n",
       "      <td>Allison, Miss. Helen Loraine</td>\n",
       "      <td>Female</td>\n",
       "      <td>2.00</td>\n",
       "      <td>1</td>\n",
       "      <td>2</td>\n",
       "      <td>113781</td>\n",
       "      <td>151.55</td>\n",
       "      <td>C22 C26</td>\n",
       "      <td>Southampton</td>\n",
       "      <td>No</td>\n",
       "      <td>4</td>\n",
       "      <td>25.26</td>\n",
       "    </tr>\n",
       "    <tr>\n",
       "      <th>3</th>\n",
       "      <td>First</td>\n",
       "      <td>Allison, Mr. Hudson Joshua Creighton</td>\n",
       "      <td>Male</td>\n",
       "      <td>30.00</td>\n",
       "      <td>1</td>\n",
       "      <td>2</td>\n",
       "      <td>113781</td>\n",
       "      <td>151.55</td>\n",
       "      <td>C22 C26</td>\n",
       "      <td>Southampton</td>\n",
       "      <td>No</td>\n",
       "      <td>4</td>\n",
       "      <td>25.26</td>\n",
       "    </tr>\n",
       "    <tr>\n",
       "      <th>4</th>\n",
       "      <td>First</td>\n",
       "      <td>Allison, Mrs. Hudson J C (Bessie Waldo Daniels)</td>\n",
       "      <td>Female</td>\n",
       "      <td>25.00</td>\n",
       "      <td>1</td>\n",
       "      <td>2</td>\n",
       "      <td>113781</td>\n",
       "      <td>151.55</td>\n",
       "      <td>C22 C26</td>\n",
       "      <td>Southampton</td>\n",
       "      <td>No</td>\n",
       "      <td>4</td>\n",
       "      <td>25.26</td>\n",
       "    </tr>\n",
       "  </tbody>\n",
       "</table>\n",
       "</div>"
      ],
      "text/plain": [
       "  Passenger Class                                             Name     Sex  \\\n",
       "0           First                    Allen, Miss. Elisabeth Walton  Female   \n",
       "1           First                   Allison, Master. Hudson Trevor    Male   \n",
       "2           First                     Allison, Miss. Helen Loraine  Female   \n",
       "3           First             Allison, Mr. Hudson Joshua Creighton    Male   \n",
       "4           First  Allison, Mrs. Hudson J C (Bessie Waldo Daniels)  Female   \n",
       "\n",
       "    Age  No of Siblings or Spouses on Board  \\\n",
       "0 29.00                                   0   \n",
       "1  0.92                                   1   \n",
       "2  2.00                                   1   \n",
       "3 30.00                                   1   \n",
       "4 25.00                                   1   \n",
       "\n",
       "   No of Parents or Children on Board Ticket Number  Passenger Fare    Cabin  \\\n",
       "0                                   0         24160          211.34       B5   \n",
       "1                                   2        113781          151.55  C22 C26   \n",
       "2                                   2        113781          151.55  C22 C26   \n",
       "3                                   2        113781          151.55  C22 C26   \n",
       "4                                   2        113781          151.55  C22 C26   \n",
       "\n",
       "  Port of Embarkation Survived  Family Size  Single passenger fare  \n",
       "0         Southampton      Yes            1                  52.83  \n",
       "1         Southampton      Yes            4                  25.26  \n",
       "2         Southampton       No            4                  25.26  \n",
       "3         Southampton       No            4                  25.26  \n",
       "4         Southampton       No            4                  25.26  "
      ]
     },
     "execution_count": 10,
     "metadata": {},
     "output_type": "execute_result"
    }
   ],
   "source": [
    "tickets = data.groupby('Ticket Number')['Ticket Number'].transform('size')\n",
    "data['Single passenger fare'] = data['Passenger Fare'] / tickets\n",
    "data.head(5)"
   ]
  },
  {
   "cell_type": "code",
   "execution_count": 11,
   "metadata": {},
   "outputs": [
    {
     "data": {
      "text/html": [
       "<div>\n",
       "<style scoped>\n",
       "    .dataframe tbody tr th:only-of-type {\n",
       "        vertical-align: middle;\n",
       "    }\n",
       "\n",
       "    .dataframe tbody tr th {\n",
       "        vertical-align: top;\n",
       "    }\n",
       "\n",
       "    .dataframe thead th {\n",
       "        text-align: right;\n",
       "    }\n",
       "</style>\n",
       "<table border=\"1\" class=\"dataframe\">\n",
       "  <thead>\n",
       "    <tr style=\"text-align: right;\">\n",
       "      <th></th>\n",
       "      <th>Passenger Class</th>\n",
       "      <th>Single passenger fare</th>\n",
       "    </tr>\n",
       "  </thead>\n",
       "  <tbody>\n",
       "    <tr>\n",
       "      <th>0</th>\n",
       "      <td>First</td>\n",
       "      <td>33.91</td>\n",
       "    </tr>\n",
       "    <tr>\n",
       "      <th>1</th>\n",
       "      <td>Second</td>\n",
       "      <td>11.41</td>\n",
       "    </tr>\n",
       "    <tr>\n",
       "      <th>2</th>\n",
       "      <td>Third</td>\n",
       "      <td>7.33</td>\n",
       "    </tr>\n",
       "  </tbody>\n",
       "</table>\n",
       "</div>"
      ],
      "text/plain": [
       "  Passenger Class  Single passenger fare\n",
       "0           First                  33.91\n",
       "1          Second                  11.41\n",
       "2           Third                   7.33"
      ]
     },
     "execution_count": 11,
     "metadata": {},
     "output_type": "execute_result"
    }
   ],
   "source": [
    "data.groupby(['Passenger Class'])['Single passenger fare'].mean().reset_index()"
   ]
  },
  {
   "cell_type": "markdown",
   "metadata": {},
   "source": [
    "4. Impute missing values: for numerical attributes use averaging over three groups: `Passenger Class`, `Sex`, `Embarkation Port`; for every numerical attribute create separate column that contain 1 for imputed value and 0 for originally presented. \n",
    "    *This step is mainly for practicing your groupby/join skills. In real tasks this kind of imputation is relatively rare.*"
   ]
  },
  {
   "cell_type": "code",
   "execution_count": 12,
   "metadata": {},
   "outputs": [
    {
     "data": {
      "text/plain": [
       "Index(['Age', 'No of Siblings or Spouses on Board',\n",
       "       'No of Parents or Children on Board', 'Passenger Fare', 'Family Size',\n",
       "       'Single passenger fare'],\n",
       "      dtype='object')"
      ]
     },
     "execution_count": 12,
     "metadata": {},
     "output_type": "execute_result"
    }
   ],
   "source": [
    "numeric = data.select_dtypes(include=np.number).columns\n",
    "numeric"
   ]
  },
  {
   "cell_type": "code",
   "execution_count": 13,
   "metadata": {},
   "outputs": [
    {
     "data": {
      "text/plain": [
       "Age                                   263\n",
       "No of Siblings or Spouses on Board      0\n",
       "No of Parents or Children on Board      0\n",
       "Passenger Fare                          1\n",
       "Family Size                             0\n",
       "Single passenger fare                   1\n",
       "dtype: int64"
      ]
     },
     "execution_count": 13,
     "metadata": {},
     "output_type": "execute_result"
    }
   ],
   "source": [
    "data[numeric].isna().sum()"
   ]
  },
  {
   "cell_type": "code",
   "execution_count": 14,
   "metadata": {},
   "outputs": [
    {
     "data": {
      "text/plain": [
       "(1309, 13)"
      ]
     },
     "execution_count": 14,
     "metadata": {},
     "output_type": "execute_result"
    }
   ],
   "source": [
    "data.shape"
   ]
  },
  {
   "cell_type": "code",
   "execution_count": 15,
   "metadata": {},
   "outputs": [
    {
     "data": {
      "text/plain": [
       "Age                                   0\n",
       "No of Siblings or Spouses on Board    0\n",
       "No of Parents or Children on Board    0\n",
       "Passenger Fare                        0\n",
       "Family Size                           0\n",
       "Single passenger fare                 0\n",
       "dtype: int64"
      ]
     },
     "execution_count": 15,
     "metadata": {},
     "output_type": "execute_result"
    }
   ],
   "source": [
    "for col in numeric:\n",
    "    if data[col].isna().any():\n",
    "        data[col + ' imputed'] = data[col].isna().astype(int)\n",
    "        data[col] = data[col].fillna(data.groupby(['Sex', 'Passenger Class', 'Port of Embarkation'])\n",
    "                                     [col].transform('mean'))\n",
    "data[numeric].isna().sum()"
   ]
  },
  {
   "cell_type": "code",
   "execution_count": 16,
   "metadata": {},
   "outputs": [
    {
     "data": {
      "text/plain": [
       "(1309, 16)"
      ]
     },
     "execution_count": 16,
     "metadata": {},
     "output_type": "execute_result"
    }
   ],
   "source": [
    "data.shape"
   ]
  },
  {
   "cell_type": "markdown",
   "metadata": {},
   "source": [
    "5. Pre-process categorical attributes: For every categorical attribute create a separate column that contains 1 for a missing value and 0 for originally presented. One-hot encode categorical attributes with less than 20 unique values, drop other categorical attributes; drop original attributes."
   ]
  },
  {
   "cell_type": "code",
   "execution_count": 17,
   "metadata": {},
   "outputs": [
    {
     "data": {
      "text/plain": [
       "Index(['Passenger Class', 'Name', 'Sex', 'Ticket Number', 'Cabin',\n",
       "       'Port of Embarkation', 'Survived'],\n",
       "      dtype='object')"
      ]
     },
     "execution_count": 17,
     "metadata": {},
     "output_type": "execute_result"
    }
   ],
   "source": [
    "categorical = data.select_dtypes(include=['object']).columns\n",
    "categorical"
   ]
  },
  {
   "cell_type": "code",
   "execution_count": 18,
   "metadata": {},
   "outputs": [
    {
     "data": {
      "text/plain": [
       "Passenger Class           0\n",
       "Name                      0\n",
       "Sex                       0\n",
       "Ticket Number             0\n",
       "Cabin                  1014\n",
       "Port of Embarkation       2\n",
       "Survived                  0\n",
       "dtype: int64"
      ]
     },
     "execution_count": 18,
     "metadata": {},
     "output_type": "execute_result"
    }
   ],
   "source": [
    "data[categorical].isna().sum()"
   ]
  },
  {
   "cell_type": "code",
   "execution_count": 20,
   "metadata": {},
   "outputs": [],
   "source": [
    "for col in categorical:\n",
    "    if data[col].isna().any():\n",
    "        data[col + ' missing'] = data[col].isna().astype(int)"
   ]
  },
  {
   "cell_type": "code",
   "execution_count": 21,
   "metadata": {},
   "outputs": [
    {
     "data": {
      "text/plain": [
       "Index(['Name', 'Ticket Number', 'Cabin'], dtype='object')"
      ]
     },
     "execution_count": 21,
     "metadata": {},
     "output_type": "execute_result"
    }
   ],
   "source": [
    "to_drop = categorical[data[categorical].nunique() >= 20]\n",
    "to_drop"
   ]
  },
  {
   "cell_type": "code",
   "execution_count": 22,
   "metadata": {},
   "outputs": [
    {
     "data": {
      "text/html": [
       "<div>\n",
       "<style scoped>\n",
       "    .dataframe tbody tr th:only-of-type {\n",
       "        vertical-align: middle;\n",
       "    }\n",
       "\n",
       "    .dataframe tbody tr th {\n",
       "        vertical-align: top;\n",
       "    }\n",
       "\n",
       "    .dataframe thead th {\n",
       "        text-align: right;\n",
       "    }\n",
       "</style>\n",
       "<table border=\"1\" class=\"dataframe\">\n",
       "  <thead>\n",
       "    <tr style=\"text-align: right;\">\n",
       "      <th></th>\n",
       "      <th>Passenger Class</th>\n",
       "      <th>Sex</th>\n",
       "      <th>Age</th>\n",
       "      <th>No of Siblings or Spouses on Board</th>\n",
       "      <th>No of Parents or Children on Board</th>\n",
       "      <th>Passenger Fare</th>\n",
       "      <th>Port of Embarkation</th>\n",
       "      <th>Survived</th>\n",
       "      <th>Family Size</th>\n",
       "      <th>Single passenger fare</th>\n",
       "      <th>Age imputed</th>\n",
       "      <th>Passenger Fare imputed</th>\n",
       "      <th>Single passenger fare imputed</th>\n",
       "      <th>Cabin missing</th>\n",
       "      <th>Port of Embarkation missing</th>\n",
       "    </tr>\n",
       "  </thead>\n",
       "  <tbody>\n",
       "    <tr>\n",
       "      <th>0</th>\n",
       "      <td>First</td>\n",
       "      <td>Female</td>\n",
       "      <td>29.00</td>\n",
       "      <td>0</td>\n",
       "      <td>0</td>\n",
       "      <td>211.34</td>\n",
       "      <td>Southampton</td>\n",
       "      <td>Yes</td>\n",
       "      <td>1</td>\n",
       "      <td>52.83</td>\n",
       "      <td>0</td>\n",
       "      <td>0</td>\n",
       "      <td>0</td>\n",
       "      <td>0</td>\n",
       "      <td>0</td>\n",
       "    </tr>\n",
       "    <tr>\n",
       "      <th>1</th>\n",
       "      <td>First</td>\n",
       "      <td>Male</td>\n",
       "      <td>0.92</td>\n",
       "      <td>1</td>\n",
       "      <td>2</td>\n",
       "      <td>151.55</td>\n",
       "      <td>Southampton</td>\n",
       "      <td>Yes</td>\n",
       "      <td>4</td>\n",
       "      <td>25.26</td>\n",
       "      <td>0</td>\n",
       "      <td>0</td>\n",
       "      <td>0</td>\n",
       "      <td>0</td>\n",
       "      <td>0</td>\n",
       "    </tr>\n",
       "    <tr>\n",
       "      <th>2</th>\n",
       "      <td>First</td>\n",
       "      <td>Female</td>\n",
       "      <td>2.00</td>\n",
       "      <td>1</td>\n",
       "      <td>2</td>\n",
       "      <td>151.55</td>\n",
       "      <td>Southampton</td>\n",
       "      <td>No</td>\n",
       "      <td>4</td>\n",
       "      <td>25.26</td>\n",
       "      <td>0</td>\n",
       "      <td>0</td>\n",
       "      <td>0</td>\n",
       "      <td>0</td>\n",
       "      <td>0</td>\n",
       "    </tr>\n",
       "  </tbody>\n",
       "</table>\n",
       "</div>"
      ],
      "text/plain": [
       "  Passenger Class     Sex   Age  No of Siblings or Spouses on Board  \\\n",
       "0           First  Female 29.00                                   0   \n",
       "1           First    Male  0.92                                   1   \n",
       "2           First  Female  2.00                                   1   \n",
       "\n",
       "   No of Parents or Children on Board  Passenger Fare Port of Embarkation  \\\n",
       "0                                   0          211.34         Southampton   \n",
       "1                                   2          151.55         Southampton   \n",
       "2                                   2          151.55         Southampton   \n",
       "\n",
       "  Survived  Family Size  Single passenger fare  Age imputed  \\\n",
       "0      Yes            1                  52.83            0   \n",
       "1      Yes            4                  25.26            0   \n",
       "2       No            4                  25.26            0   \n",
       "\n",
       "   Passenger Fare imputed  Single passenger fare imputed  Cabin missing  \\\n",
       "0                       0                              0              0   \n",
       "1                       0                              0              0   \n",
       "2                       0                              0              0   \n",
       "\n",
       "   Port of Embarkation missing  \n",
       "0                            0  \n",
       "1                            0  \n",
       "2                            0  "
      ]
     },
     "execution_count": 22,
     "metadata": {},
     "output_type": "execute_result"
    }
   ],
   "source": [
    "data = data.drop(columns=to_drop)\n",
    "data.head(3)"
   ]
  },
  {
   "cell_type": "code",
   "execution_count": 23,
   "metadata": {},
   "outputs": [
    {
     "data": {
      "text/html": [
       "<div>\n",
       "<style scoped>\n",
       "    .dataframe tbody tr th:only-of-type {\n",
       "        vertical-align: middle;\n",
       "    }\n",
       "\n",
       "    .dataframe tbody tr th {\n",
       "        vertical-align: top;\n",
       "    }\n",
       "\n",
       "    .dataframe thead th {\n",
       "        text-align: right;\n",
       "    }\n",
       "</style>\n",
       "<table border=\"1\" class=\"dataframe\">\n",
       "  <thead>\n",
       "    <tr style=\"text-align: right;\">\n",
       "      <th></th>\n",
       "      <th>Age</th>\n",
       "      <th>No of Siblings or Spouses on Board</th>\n",
       "      <th>No of Parents or Children on Board</th>\n",
       "      <th>Passenger Fare</th>\n",
       "      <th>Family Size</th>\n",
       "      <th>Single passenger fare</th>\n",
       "      <th>Age imputed</th>\n",
       "      <th>Passenger Fare imputed</th>\n",
       "      <th>Single passenger fare imputed</th>\n",
       "      <th>Cabin missing</th>\n",
       "      <th>Port of Embarkation missing</th>\n",
       "      <th>Passenger Class_Second</th>\n",
       "      <th>Passenger Class_Third</th>\n",
       "      <th>Sex_Male</th>\n",
       "      <th>Port of Embarkation_Queenstown</th>\n",
       "      <th>Port of Embarkation_Southampton</th>\n",
       "      <th>Survived_Yes</th>\n",
       "    </tr>\n",
       "  </thead>\n",
       "  <tbody>\n",
       "    <tr>\n",
       "      <th>0</th>\n",
       "      <td>29.00</td>\n",
       "      <td>0</td>\n",
       "      <td>0</td>\n",
       "      <td>211.34</td>\n",
       "      <td>1</td>\n",
       "      <td>52.83</td>\n",
       "      <td>0</td>\n",
       "      <td>0</td>\n",
       "      <td>0</td>\n",
       "      <td>0</td>\n",
       "      <td>0</td>\n",
       "      <td>0</td>\n",
       "      <td>0</td>\n",
       "      <td>0</td>\n",
       "      <td>0</td>\n",
       "      <td>1</td>\n",
       "      <td>1</td>\n",
       "    </tr>\n",
       "    <tr>\n",
       "      <th>1</th>\n",
       "      <td>0.92</td>\n",
       "      <td>1</td>\n",
       "      <td>2</td>\n",
       "      <td>151.55</td>\n",
       "      <td>4</td>\n",
       "      <td>25.26</td>\n",
       "      <td>0</td>\n",
       "      <td>0</td>\n",
       "      <td>0</td>\n",
       "      <td>0</td>\n",
       "      <td>0</td>\n",
       "      <td>0</td>\n",
       "      <td>0</td>\n",
       "      <td>1</td>\n",
       "      <td>0</td>\n",
       "      <td>1</td>\n",
       "      <td>1</td>\n",
       "    </tr>\n",
       "    <tr>\n",
       "      <th>2</th>\n",
       "      <td>2.00</td>\n",
       "      <td>1</td>\n",
       "      <td>2</td>\n",
       "      <td>151.55</td>\n",
       "      <td>4</td>\n",
       "      <td>25.26</td>\n",
       "      <td>0</td>\n",
       "      <td>0</td>\n",
       "      <td>0</td>\n",
       "      <td>0</td>\n",
       "      <td>0</td>\n",
       "      <td>0</td>\n",
       "      <td>0</td>\n",
       "      <td>0</td>\n",
       "      <td>0</td>\n",
       "      <td>1</td>\n",
       "      <td>0</td>\n",
       "    </tr>\n",
       "  </tbody>\n",
       "</table>\n",
       "</div>"
      ],
      "text/plain": [
       "    Age  No of Siblings or Spouses on Board  \\\n",
       "0 29.00                                   0   \n",
       "1  0.92                                   1   \n",
       "2  2.00                                   1   \n",
       "\n",
       "   No of Parents or Children on Board  Passenger Fare  Family Size  \\\n",
       "0                                   0          211.34            1   \n",
       "1                                   2          151.55            4   \n",
       "2                                   2          151.55            4   \n",
       "\n",
       "   Single passenger fare  Age imputed  Passenger Fare imputed  \\\n",
       "0                  52.83            0                       0   \n",
       "1                  25.26            0                       0   \n",
       "2                  25.26            0                       0   \n",
       "\n",
       "   Single passenger fare imputed  Cabin missing  Port of Embarkation missing  \\\n",
       "0                              0              0                            0   \n",
       "1                              0              0                            0   \n",
       "2                              0              0                            0   \n",
       "\n",
       "   Passenger Class_Second  Passenger Class_Third  Sex_Male  \\\n",
       "0                       0                      0         0   \n",
       "1                       0                      0         1   \n",
       "2                       0                      0         0   \n",
       "\n",
       "   Port of Embarkation_Queenstown  Port of Embarkation_Southampton  \\\n",
       "0                               0                                1   \n",
       "1                               0                                1   \n",
       "2                               0                                1   \n",
       "\n",
       "   Survived_Yes  \n",
       "0             1  \n",
       "1             1  \n",
       "2             0  "
      ]
     },
     "execution_count": 23,
     "metadata": {},
     "output_type": "execute_result"
    }
   ],
   "source": [
    "data = pd.get_dummies(data, prefix=categorical.drop(to_drop), \n",
    "                      columns=categorical.drop(to_drop), drop_first=True)\n",
    "data.head(3)"
   ]
  },
  {
   "cell_type": "code",
   "execution_count": 24,
   "metadata": {},
   "outputs": [
    {
     "data": {
      "text/plain": [
       "Age                                   0\n",
       "No of Siblings or Spouses on Board    0\n",
       "No of Parents or Children on Board    0\n",
       "Passenger Fare                        0\n",
       "Family Size                           0\n",
       "Single passenger fare                 0\n",
       "Age imputed                           0\n",
       "Passenger Fare imputed                0\n",
       "Single passenger fare imputed         0\n",
       "Cabin missing                         0\n",
       "Port of Embarkation missing           0\n",
       "Passenger Class_Second                0\n",
       "Passenger Class_Third                 0\n",
       "Sex_Male                              0\n",
       "Port of Embarkation_Queenstown        0\n",
       "Port of Embarkation_Southampton       0\n",
       "Survived_Yes                          0\n",
       "dtype: int64"
      ]
     },
     "execution_count": 24,
     "metadata": {},
     "output_type": "execute_result"
    }
   ],
   "source": [
    "data.isna().sum()"
   ]
  },
  {
   "cell_type": "code",
   "execution_count": 25,
   "metadata": {},
   "outputs": [
    {
     "data": {
      "text/plain": [
       "(1309, 17)"
      ]
     },
     "execution_count": 25,
     "metadata": {},
     "output_type": "execute_result"
    }
   ],
   "source": [
    "data.shape"
   ]
  },
  {
   "cell_type": "markdown",
   "metadata": {},
   "source": [
    "6. Set the role of the `Survived` attribute to `label`."
   ]
  },
  {
   "cell_type": "code",
   "execution_count": 26,
   "metadata": {},
   "outputs": [
    {
     "data": {
      "text/html": [
       "<div>\n",
       "<style scoped>\n",
       "    .dataframe tbody tr th:only-of-type {\n",
       "        vertical-align: middle;\n",
       "    }\n",
       "\n",
       "    .dataframe tbody tr th {\n",
       "        vertical-align: top;\n",
       "    }\n",
       "\n",
       "    .dataframe thead th {\n",
       "        text-align: right;\n",
       "    }\n",
       "</style>\n",
       "<table border=\"1\" class=\"dataframe\">\n",
       "  <thead>\n",
       "    <tr style=\"text-align: right;\">\n",
       "      <th></th>\n",
       "      <th>Age</th>\n",
       "      <th>No of Siblings or Spouses on Board</th>\n",
       "      <th>No of Parents or Children on Board</th>\n",
       "      <th>Passenger Fare</th>\n",
       "      <th>Family Size</th>\n",
       "      <th>Single passenger fare</th>\n",
       "      <th>Age imputed</th>\n",
       "      <th>Passenger Fare imputed</th>\n",
       "      <th>Single passenger fare imputed</th>\n",
       "      <th>Cabin missing</th>\n",
       "      <th>Port of Embarkation missing</th>\n",
       "      <th>Passenger Class_Second</th>\n",
       "      <th>Passenger Class_Third</th>\n",
       "      <th>Sex</th>\n",
       "      <th>Port of Embarkation_Queenstown</th>\n",
       "      <th>Port of Embarkation_Southampton</th>\n",
       "      <th>Survived</th>\n",
       "    </tr>\n",
       "  </thead>\n",
       "  <tbody>\n",
       "    <tr>\n",
       "      <th>0</th>\n",
       "      <td>29.00</td>\n",
       "      <td>0</td>\n",
       "      <td>0</td>\n",
       "      <td>211.34</td>\n",
       "      <td>1</td>\n",
       "      <td>52.83</td>\n",
       "      <td>0</td>\n",
       "      <td>0</td>\n",
       "      <td>0</td>\n",
       "      <td>0</td>\n",
       "      <td>0</td>\n",
       "      <td>0</td>\n",
       "      <td>0</td>\n",
       "      <td>0</td>\n",
       "      <td>0</td>\n",
       "      <td>1</td>\n",
       "      <td>1</td>\n",
       "    </tr>\n",
       "    <tr>\n",
       "      <th>1</th>\n",
       "      <td>0.92</td>\n",
       "      <td>1</td>\n",
       "      <td>2</td>\n",
       "      <td>151.55</td>\n",
       "      <td>4</td>\n",
       "      <td>25.26</td>\n",
       "      <td>0</td>\n",
       "      <td>0</td>\n",
       "      <td>0</td>\n",
       "      <td>0</td>\n",
       "      <td>0</td>\n",
       "      <td>0</td>\n",
       "      <td>0</td>\n",
       "      <td>1</td>\n",
       "      <td>0</td>\n",
       "      <td>1</td>\n",
       "      <td>1</td>\n",
       "    </tr>\n",
       "    <tr>\n",
       "      <th>2</th>\n",
       "      <td>2.00</td>\n",
       "      <td>1</td>\n",
       "      <td>2</td>\n",
       "      <td>151.55</td>\n",
       "      <td>4</td>\n",
       "      <td>25.26</td>\n",
       "      <td>0</td>\n",
       "      <td>0</td>\n",
       "      <td>0</td>\n",
       "      <td>0</td>\n",
       "      <td>0</td>\n",
       "      <td>0</td>\n",
       "      <td>0</td>\n",
       "      <td>0</td>\n",
       "      <td>0</td>\n",
       "      <td>1</td>\n",
       "      <td>0</td>\n",
       "    </tr>\n",
       "  </tbody>\n",
       "</table>\n",
       "</div>"
      ],
      "text/plain": [
       "    Age  No of Siblings or Spouses on Board  \\\n",
       "0 29.00                                   0   \n",
       "1  0.92                                   1   \n",
       "2  2.00                                   1   \n",
       "\n",
       "   No of Parents or Children on Board  Passenger Fare  Family Size  \\\n",
       "0                                   0          211.34            1   \n",
       "1                                   2          151.55            4   \n",
       "2                                   2          151.55            4   \n",
       "\n",
       "   Single passenger fare  Age imputed  Passenger Fare imputed  \\\n",
       "0                  52.83            0                       0   \n",
       "1                  25.26            0                       0   \n",
       "2                  25.26            0                       0   \n",
       "\n",
       "   Single passenger fare imputed  Cabin missing  Port of Embarkation missing  \\\n",
       "0                              0              0                            0   \n",
       "1                              0              0                            0   \n",
       "2                              0              0                            0   \n",
       "\n",
       "   Passenger Class_Second  Passenger Class_Third  Sex  \\\n",
       "0                       0                      0    0   \n",
       "1                       0                      0    1   \n",
       "2                       0                      0    0   \n",
       "\n",
       "   Port of Embarkation_Queenstown  Port of Embarkation_Southampton  Survived  \n",
       "0                               0                                1         1  \n",
       "1                               0                                1         1  \n",
       "2                               0                                1         0  "
      ]
     },
     "execution_count": 26,
     "metadata": {},
     "output_type": "execute_result"
    }
   ],
   "source": [
    "data = data.rename(columns={'Sex_Male': 'Sex', 'Survived_Yes': 'Survived'})\n",
    "data.head(3)"
   ]
  },
  {
   "cell_type": "markdown",
   "metadata": {},
   "source": [
    "### III. Finish by building a classification model using preprocessed data\n",
    "1. Compute classification accuracy on a train-test setup:\n",
    "    - Create a Cross Validation block, fix the random_state parameter to 2020.\n",
    "    - Use a decision tree with `maximal depth` = 7; uncheck `apply pruning` box; leave all other parameters by default.\n",
    "    - Use accuracy as a performance metric\n",
    "\n"
   ]
  },
  {
   "cell_type": "code",
   "execution_count": 27,
   "metadata": {},
   "outputs": [],
   "source": [
    "X = data.drop(columns=['Survived'])\n",
    "y = data.Survived"
   ]
  },
  {
   "cell_type": "code",
   "execution_count": 142,
   "metadata": {},
   "outputs": [],
   "source": [
    "kf = KFold(n_splits=5, shuffle=True, random_state=2020)"
   ]
  },
  {
   "cell_type": "code",
   "execution_count": 156,
   "metadata": {},
   "outputs": [
    {
     "name": "stdout",
     "output_type": "stream",
     "text": [
      "0.79\n",
      "0.02\n"
     ]
    }
   ],
   "source": [
    "scores = []\n",
    "model = DecisionTreeClassifier(max_depth=7)\n",
    "for train, test in kf.split(X):\n",
    "    X_train, X_test, y_train, y_test = X.iloc[train], X.iloc[test], y.iloc[train], y.iloc[test]\n",
    "    model.fit(X_train, y_train)\n",
    "    y_pred = model.predict(X_test)\n",
    "    scores.append(accuracy_score(y_test, y_pred))\n",
    "print(f'{np.mean(scores):.2f}')\n",
    "print(f'{np.std(scores):.2f}')"
   ]
  },
  {
   "cell_type": "code",
   "execution_count": 157,
   "metadata": {},
   "outputs": [
    {
     "data": {
      "text/plain": [
       "[0.7519083969465649,\n",
       " 0.7824427480916031,\n",
       " 0.8282442748091603,\n",
       " 0.7938931297709924,\n",
       " 0.7816091954022989]"
      ]
     },
     "execution_count": 157,
     "metadata": {},
     "output_type": "execute_result"
    }
   ],
   "source": [
    "scores"
   ]
  },
  {
   "cell_type": "markdown",
   "metadata": {},
   "source": [
    "2. Analyze the resulting confusion matrix, which error is larger: Type I or Type II? "
   ]
  },
  {
   "cell_type": "code",
   "execution_count": 163,
   "metadata": {},
   "outputs": [],
   "source": [
    "predicted = model.predict(X)\n",
    "cm = confusion_matrix(y, predicted)"
   ]
  },
  {
   "cell_type": "code",
   "execution_count": 165,
   "metadata": {},
   "outputs": [
    {
     "data": {
      "image/png": "[encoded data removed]",
      "text/plain": [
       "<Figure size 432x288 with 2 Axes>"
      ]
     },
     "metadata": {},
     "output_type": "display_data"
    }
   ],
   "source": [
    "names = [0,1]\n",
    "fig, ax = plt.subplots()\n",
    "tick_marks = np.arange(len(names))\n",
    "plt.xticks(tick_marks, names)\n",
    "plt.yticks(tick_marks, names)\n",
    "sns.heatmap(cm, annot=True, cmap=\"YlGnBu\" ,fmt='g')\n",
    "ax.xaxis.set_label_position('top')\n",
    "plt.tight_layout()\n",
    "plt.title('Confusion matrix', y = 1.1)\n",
    "plt.ylabel('Actual label')\n",
    "plt.xlabel('Predicted label')\n",
    "plt.show()"
   ]
  },
  {
   "cell_type": "markdown",
   "metadata": {},
   "source": [
    "Type I is larger than Type II"
   ]
  },
  {
   "cell_type": "markdown",
   "metadata": {},
   "source": [
    "3. Provide a short analysis of the results, based on your answers III.2-III.3. E.g. What are the splitting features of the first 3 levels of the best tree (up to 7 attributes)? Do these results coincide with your intuition? You may include some misclassified examples along with explanations why they were misclassified. \n",
    "    *This answer is limited to 250 words.*"
   ]
  },
  {
   "cell_type": "code",
   "execution_count": 177,
   "metadata": {
    "scrolled": false
   },
   "outputs": [
    {
     "data": {
      "image/svg+xml": [
       "<?xml version=\"1.0\" encoding=\"UTF-8\" standalone=\"no\"?>\n",
       "<!DOCTYPE svg PUBLIC \"-//W3C//DTD SVG 1.1//EN\"\n",
       " \"http://www.w3.org/Graphics/SVG/1.1/DTD/svg11.dtd\">\n",
       "<!-- Generated by graphviz version 2.44.0 (20200408.0750)\n",
       " -->\n",
       "<!-- Title: Tree Pages: 1 -->\n",
       "<svg width=\"687pt\" height=\"401pt\"\n",
       " viewBox=\"0.00 0.00 686.50 401.00\" xmlns=\"http://www.w3.org/2000/svg\" xmlns:xlink=\"http://www.w3.org/1999/xlink\">\n",
       "<g id=\"graph0\" class=\"graph\" transform=\"scale(1 1) rotate(0) translate(4 397)\">\n",
       "<title>Tree</title>\n",
       "<polygon fill=\"white\" stroke=\"transparent\" points=\"-4,4 -4,-397 682.5,-397 682.5,4 -4,4\"/>\n",
       "<!-- 0 -->\n",
       "<g id=\"node1\" class=\"node\">\n",
       "<title>0</title>\n",
       "<polygon fill=\"none\" stroke=\"black\" points=\"399.5,-393 280.5,-393 280.5,-310 399.5,-310 399.5,-393\"/>\n",
       "<text text-anchor=\"start\" x=\"313.5\" y=\"-377.8\" font-family=\"Times,serif\" font-size=\"14.00\">Sex ≤ 0.5</text>\n",
       "<text text-anchor=\"start\" x=\"306\" y=\"-362.8\" font-family=\"Times,serif\" font-size=\"14.00\">gini = 0.472</text>\n",
       "<text text-anchor=\"start\" x=\"296\" y=\"-347.8\" font-family=\"Times,serif\" font-size=\"14.00\">samples = 1048</text>\n",
       "<text text-anchor=\"start\" x=\"288.5\" y=\"-332.8\" font-family=\"Times,serif\" font-size=\"14.00\">value = [647, 401]</text>\n",
       "<text text-anchor=\"start\" x=\"305.5\" y=\"-317.8\" font-family=\"Times,serif\" font-size=\"14.00\">class = Died</text>\n",
       "</g>\n",
       "<!-- 1 -->\n",
       "<g id=\"node2\" class=\"node\">\n",
       "<title>1</title>\n",
       "<polygon fill=\"none\" stroke=\"black\" points=\"344.5,-274 171.5,-274 171.5,-191 344.5,-191 344.5,-274\"/>\n",
       "<text text-anchor=\"start\" x=\"179.5\" y=\"-258.8\" font-family=\"Times,serif\" font-size=\"14.00\">Passenger Class_Third ≤ 0.5</text>\n",
       "<text text-anchor=\"start\" x=\"224\" y=\"-243.8\" font-family=\"Times,serif\" font-size=\"14.00\">gini = 0.391</text>\n",
       "<text text-anchor=\"start\" x=\"217.5\" y=\"-228.8\" font-family=\"Times,serif\" font-size=\"14.00\">samples = 368</text>\n",
       "<text text-anchor=\"start\" x=\"210\" y=\"-213.8\" font-family=\"Times,serif\" font-size=\"14.00\">value = [98, 270]</text>\n",
       "<text text-anchor=\"start\" x=\"212.5\" y=\"-198.8\" font-family=\"Times,serif\" font-size=\"14.00\">class = Survived</text>\n",
       "</g>\n",
       "<!-- 0&#45;&gt;1 -->\n",
       "<g id=\"edge1\" class=\"edge\">\n",
       "<title>0&#45;&gt;1</title>\n",
       "<path fill=\"none\" stroke=\"black\" d=\"M311.55,-309.91C305.32,-301.01 298.66,-291.51 292.22,-282.33\"/>\n",
       "<polygon fill=\"black\" stroke=\"black\" points=\"295,-280.2 286.4,-274.02 289.27,-284.22 295,-280.2\"/>\n",
       "<text text-anchor=\"middle\" x=\"282.07\" y=\"-294.94\" font-family=\"Times,serif\" font-size=\"14.00\">True</text>\n",
       "</g>\n",
       "<!-- 54 -->\n",
       "<g id=\"node9\" class=\"node\">\n",
       "<title>54</title>\n",
       "<polygon fill=\"none\" stroke=\"black\" points=\"481.5,-274 362.5,-274 362.5,-191 481.5,-191 481.5,-274\"/>\n",
       "<text text-anchor=\"start\" x=\"394.5\" y=\"-258.8\" font-family=\"Times,serif\" font-size=\"14.00\">Age ≤ 9.5</text>\n",
       "<text text-anchor=\"start\" x=\"388\" y=\"-243.8\" font-family=\"Times,serif\" font-size=\"14.00\">gini = 0.311</text>\n",
       "<text text-anchor=\"start\" x=\"381.5\" y=\"-228.8\" font-family=\"Times,serif\" font-size=\"14.00\">samples = 680</text>\n",
       "<text text-anchor=\"start\" x=\"370.5\" y=\"-213.8\" font-family=\"Times,serif\" font-size=\"14.00\">value = [549, 131]</text>\n",
       "<text text-anchor=\"start\" x=\"387.5\" y=\"-198.8\" font-family=\"Times,serif\" font-size=\"14.00\">class = Died</text>\n",
       "</g>\n",
       "<!-- 0&#45;&gt;54 -->\n",
       "<g id=\"edge8\" class=\"edge\">\n",
       "<title>0&#45;&gt;54</title>\n",
       "<path fill=\"none\" stroke=\"black\" d=\"M368.45,-309.91C374.68,-301.01 381.34,-291.51 387.78,-282.33\"/>\n",
       "<polygon fill=\"black\" stroke=\"black\" points=\"390.73,-284.22 393.6,-274.02 385,-280.2 390.73,-284.22\"/>\n",
       "<text text-anchor=\"middle\" x=\"397.93\" y=\"-294.94\" font-family=\"Times,serif\" font-size=\"14.00\">False</text>\n",
       "</g>\n",
       "<!-- 2 -->\n",
       "<g id=\"node3\" class=\"node\">\n",
       "<title>2</title>\n",
       "<polygon fill=\"none\" stroke=\"black\" points=\"172,-155 0,-155 0,-72 172,-72 172,-155\"/>\n",
       "<text text-anchor=\"start\" x=\"8\" y=\"-139.8\" font-family=\"Times,serif\" font-size=\"14.00\">Single passenger fare ≤ 5.75</text>\n",
       "<text text-anchor=\"start\" x=\"52\" y=\"-124.8\" font-family=\"Times,serif\" font-size=\"14.00\">gini = 0.142</text>\n",
       "<text text-anchor=\"start\" x=\"45.5\" y=\"-109.8\" font-family=\"Times,serif\" font-size=\"14.00\">samples = 208</text>\n",
       "<text text-anchor=\"start\" x=\"38\" y=\"-94.8\" font-family=\"Times,serif\" font-size=\"14.00\">value = [16, 192]</text>\n",
       "<text text-anchor=\"start\" x=\"40.5\" y=\"-79.8\" font-family=\"Times,serif\" font-size=\"14.00\">class = Survived</text>\n",
       "</g>\n",
       "<!-- 1&#45;&gt;2 -->\n",
       "<g id=\"edge2\" class=\"edge\">\n",
       "<title>1&#45;&gt;2</title>\n",
       "<path fill=\"none\" stroke=\"black\" d=\"M198.33,-190.91C184.05,-181.2 168.7,-170.76 154.08,-160.81\"/>\n",
       "<polygon fill=\"black\" stroke=\"black\" points=\"155.81,-157.75 145.57,-155.02 151.87,-163.54 155.81,-157.75\"/>\n",
       "</g>\n",
       "<!-- 25 -->\n",
       "<g id=\"node6\" class=\"node\">\n",
       "<title>25</title>\n",
       "<polygon fill=\"none\" stroke=\"black\" points=\"334,-155 190,-155 190,-72 334,-72 334,-155\"/>\n",
       "<text text-anchor=\"start\" x=\"198\" y=\"-139.8\" font-family=\"Times,serif\" font-size=\"14.00\">Passenger Fare ≤ 23.35</text>\n",
       "<text text-anchor=\"start\" x=\"234.5\" y=\"-124.8\" font-family=\"Times,serif\" font-size=\"14.00\">gini = 0.5</text>\n",
       "<text text-anchor=\"start\" x=\"221.5\" y=\"-109.8\" font-family=\"Times,serif\" font-size=\"14.00\">samples = 160</text>\n",
       "<text text-anchor=\"start\" x=\"217.5\" y=\"-94.8\" font-family=\"Times,serif\" font-size=\"14.00\">value = [82, 78]</text>\n",
       "<text text-anchor=\"start\" x=\"227.5\" y=\"-79.8\" font-family=\"Times,serif\" font-size=\"14.00\">class = Died</text>\n",
       "</g>\n",
       "<!-- 1&#45;&gt;25 -->\n",
       "<g id=\"edge5\" class=\"edge\">\n",
       "<title>1&#45;&gt;25</title>\n",
       "<path fill=\"none\" stroke=\"black\" d=\"M259.39,-190.91C259.67,-182.56 259.98,-173.67 260.27,-165.02\"/>\n",
       "<polygon fill=\"black\" stroke=\"black\" points=\"263.77,-165.13 260.61,-155.02 256.77,-164.9 263.77,-165.13\"/>\n",
       "</g>\n",
       "<!-- 3 -->\n",
       "<g id=\"node4\" class=\"node\">\n",
       "<title>3</title>\n",
       "<polygon fill=\"none\" stroke=\"black\" points=\"107,-36 53,-36 53,0 107,0 107,-36\"/>\n",
       "<text text-anchor=\"middle\" x=\"80\" y=\"-14.3\" font-family=\"Times,serif\" font-size=\"14.00\">(...)</text>\n",
       "</g>\n",
       "<!-- 2&#45;&gt;3 -->\n",
       "<g id=\"edge3\" class=\"edge\">\n",
       "<title>2&#45;&gt;3</title>\n",
       "<path fill=\"none\" stroke=\"black\" d=\"M83.39,-71.76C82.84,-63.24 82.27,-54.44 81.77,-46.53\"/>\n",
       "<polygon fill=\"black\" stroke=\"black\" points=\"85.25,-46.16 81.12,-36.41 78.26,-46.61 85.25,-46.16\"/>\n",
       "</g>\n",
       "<!-- 4 -->\n",
       "<g id=\"node5\" class=\"node\">\n",
       "<title>4</title>\n",
       "<polygon fill=\"none\" stroke=\"black\" points=\"179,-36 125,-36 125,0 179,0 179,-36\"/>\n",
       "<text text-anchor=\"middle\" x=\"152\" y=\"-14.3\" font-family=\"Times,serif\" font-size=\"14.00\">(...)</text>\n",
       "</g>\n",
       "<!-- 2&#45;&gt;4 -->\n",
       "<g id=\"edge4\" class=\"edge\">\n",
       "<title>2&#45;&gt;4</title>\n",
       "<path fill=\"none\" stroke=\"black\" d=\"M114.76,-71.76C121.25,-62.56 127.97,-53.04 133.89,-44.66\"/>\n",
       "<polygon fill=\"black\" stroke=\"black\" points=\"136.81,-46.59 139.71,-36.41 131.09,-42.56 136.81,-46.59\"/>\n",
       "</g>\n",
       "<!-- 26 -->\n",
       "<g id=\"node7\" class=\"node\">\n",
       "<title>26</title>\n",
       "<polygon fill=\"none\" stroke=\"black\" points=\"270,-36 216,-36 216,0 270,0 270,-36\"/>\n",
       "<text text-anchor=\"middle\" x=\"243\" y=\"-14.3\" font-family=\"Times,serif\" font-size=\"14.00\">(...)</text>\n",
       "</g>\n",
       "<!-- 25&#45;&gt;26 -->\n",
       "<g id=\"edge6\" class=\"edge\">\n",
       "<title>25&#45;&gt;26</title>\n",
       "<path fill=\"none\" stroke=\"black\" d=\"M253.72,-71.76C251.97,-63.14 250.16,-54.24 248.54,-46.26\"/>\n",
       "<polygon fill=\"black\" stroke=\"black\" points=\"251.96,-45.51 246.54,-36.41 245.1,-46.9 251.96,-45.51\"/>\n",
       "</g>\n",
       "<!-- 49 -->\n",
       "<g id=\"node8\" class=\"node\">\n",
       "<title>49</title>\n",
       "<polygon fill=\"none\" stroke=\"black\" points=\"342,-36 288,-36 288,0 342,0 342,-36\"/>\n",
       "<text text-anchor=\"middle\" x=\"315\" y=\"-14.3\" font-family=\"Times,serif\" font-size=\"14.00\">(...)</text>\n",
       "</g>\n",
       "<!-- 25&#45;&gt;49 -->\n",
       "<g id=\"edge7\" class=\"edge\">\n",
       "<title>25&#45;&gt;49</title>\n",
       "<path fill=\"none\" stroke=\"black\" d=\"M285.09,-71.76C290.2,-62.75 295.48,-53.44 300.15,-45.19\"/>\n",
       "<polygon fill=\"black\" stroke=\"black\" points=\"303.25,-46.83 305.13,-36.41 297.16,-43.38 303.25,-46.83\"/>\n",
       "</g>\n",
       "<!-- 55 -->\n",
       "<g id=\"node10\" class=\"node\">\n",
       "<title>55</title>\n",
       "<polygon fill=\"none\" stroke=\"black\" points=\"475.5,-155 360.5,-155 360.5,-72 475.5,-72 475.5,-155\"/>\n",
       "<text text-anchor=\"start\" x=\"368.5\" y=\"-139.8\" font-family=\"Times,serif\" font-size=\"14.00\">Family Size ≤ 4.5</text>\n",
       "<text text-anchor=\"start\" x=\"384\" y=\"-124.8\" font-family=\"Times,serif\" font-size=\"14.00\">gini = 0.484</text>\n",
       "<text text-anchor=\"start\" x=\"381\" y=\"-109.8\" font-family=\"Times,serif\" font-size=\"14.00\">samples = 39</text>\n",
       "<text text-anchor=\"start\" x=\"373.5\" y=\"-94.8\" font-family=\"Times,serif\" font-size=\"14.00\">value = [16, 23]</text>\n",
       "<text text-anchor=\"start\" x=\"372.5\" y=\"-79.8\" font-family=\"Times,serif\" font-size=\"14.00\">class = Survived</text>\n",
       "</g>\n",
       "<!-- 54&#45;&gt;55 -->\n",
       "<g id=\"edge9\" class=\"edge\">\n",
       "<title>54&#45;&gt;55</title>\n",
       "<path fill=\"none\" stroke=\"black\" d=\"M420.61,-190.91C420.33,-182.56 420.02,-173.67 419.73,-165.02\"/>\n",
       "<polygon fill=\"black\" stroke=\"black\" points=\"423.23,-164.9 419.39,-155.02 416.23,-165.13 423.23,-164.9\"/>\n",
       "</g>\n",
       "<!-- 70 -->\n",
       "<g id=\"node13\" class=\"node\">\n",
       "<title>70</title>\n",
       "<polygon fill=\"none\" stroke=\"black\" points=\"678.5,-155 493.5,-155 493.5,-72 678.5,-72 678.5,-155\"/>\n",
       "<text text-anchor=\"start\" x=\"501.5\" y=\"-139.8\" font-family=\"Times,serif\" font-size=\"14.00\">Single passenger fare ≤ 25.417</text>\n",
       "<text text-anchor=\"start\" x=\"555.5\" y=\"-124.8\" font-family=\"Times,serif\" font-size=\"14.00\">gini = 0.28</text>\n",
       "<text text-anchor=\"start\" x=\"545.5\" y=\"-109.8\" font-family=\"Times,serif\" font-size=\"14.00\">samples = 641</text>\n",
       "<text text-anchor=\"start\" x=\"534.5\" y=\"-94.8\" font-family=\"Times,serif\" font-size=\"14.00\">value = [533, 108]</text>\n",
       "<text text-anchor=\"start\" x=\"551.5\" y=\"-79.8\" font-family=\"Times,serif\" font-size=\"14.00\">class = Died</text>\n",
       "</g>\n",
       "<!-- 54&#45;&gt;70 -->\n",
       "<g id=\"edge12\" class=\"edge\">\n",
       "<title>54&#45;&gt;70</title>\n",
       "<path fill=\"none\" stroke=\"black\" d=\"M478.9,-190.91C492.38,-181.29 506.87,-170.95 520.69,-161.09\"/>\n",
       "<polygon fill=\"black\" stroke=\"black\" points=\"523.09,-163.68 529.2,-155.02 519.03,-157.98 523.09,-163.68\"/>\n",
       "</g>\n",
       "<!-- 56 -->\n",
       "<g id=\"node11\" class=\"node\">\n",
       "<title>56</title>\n",
       "<polygon fill=\"none\" stroke=\"black\" points=\"425,-36 371,-36 371,0 425,0 425,-36\"/>\n",
       "<text text-anchor=\"middle\" x=\"398\" y=\"-14.3\" font-family=\"Times,serif\" font-size=\"14.00\">(...)</text>\n",
       "</g>\n",
       "<!-- 55&#45;&gt;56 -->\n",
       "<g id=\"edge10\" class=\"edge\">\n",
       "<title>55&#45;&gt;56</title>\n",
       "<path fill=\"none\" stroke=\"black\" d=\"M409.29,-71.76C407.44,-63.14 405.54,-54.24 403.83,-46.26\"/>\n",
       "<polygon fill=\"black\" stroke=\"black\" points=\"407.24,-45.45 401.72,-36.41 400.39,-46.92 407.24,-45.45\"/>\n",
       "</g>\n",
       "<!-- 65 -->\n",
       "<g id=\"node12\" class=\"node\">\n",
       "<title>65</title>\n",
       "<polygon fill=\"none\" stroke=\"black\" points=\"497,-36 443,-36 443,0 497,0 497,-36\"/>\n",
       "<text text-anchor=\"middle\" x=\"470\" y=\"-14.3\" font-family=\"Times,serif\" font-size=\"14.00\">(...)</text>\n",
       "</g>\n",
       "<!-- 55&#45;&gt;65 -->\n",
       "<g id=\"edge11\" class=\"edge\">\n",
       "<title>55&#45;&gt;65</title>\n",
       "<path fill=\"none\" stroke=\"black\" d=\"M440.66,-71.76C445.67,-62.75 450.85,-53.44 455.43,-45.19\"/>\n",
       "<polygon fill=\"black\" stroke=\"black\" points=\"458.52,-46.85 460.32,-36.41 452.4,-43.44 458.52,-46.85\"/>\n",
       "</g>\n",
       "<!-- 71 -->\n",
       "<g id=\"node14\" class=\"node\">\n",
       "<title>71</title>\n",
       "<polygon fill=\"none\" stroke=\"black\" points=\"587,-36 533,-36 533,0 587,0 587,-36\"/>\n",
       "<text text-anchor=\"middle\" x=\"560\" y=\"-14.3\" font-family=\"Times,serif\" font-size=\"14.00\">(...)</text>\n",
       "</g>\n",
       "<!-- 70&#45;&gt;71 -->\n",
       "<g id=\"edge13\" class=\"edge\">\n",
       "<title>70&#45;&gt;71</title>\n",
       "<path fill=\"none\" stroke=\"black\" d=\"M574.67,-71.76C572.27,-63.14 569.8,-54.24 567.58,-46.26\"/>\n",
       "<polygon fill=\"black\" stroke=\"black\" points=\"570.89,-45.1 564.84,-36.41 564.15,-46.98 570.89,-45.1\"/>\n",
       "</g>\n",
       "<!-- 94 -->\n",
       "<g id=\"node15\" class=\"node\">\n",
       "<title>94</title>\n",
       "<polygon fill=\"none\" stroke=\"black\" points=\"659,-36 605,-36 605,0 659,0 659,-36\"/>\n",
       "<text text-anchor=\"middle\" x=\"632\" y=\"-14.3\" font-family=\"Times,serif\" font-size=\"14.00\">(...)</text>\n",
       "</g>\n",
       "<!-- 70&#45;&gt;94 -->\n",
       "<g id=\"edge14\" class=\"edge\">\n",
       "<title>70&#45;&gt;94</title>\n",
       "<path fill=\"none\" stroke=\"black\" d=\"M606.04,-71.76C610.43,-62.85 614.96,-53.64 618.98,-45.46\"/>\n",
       "<polygon fill=\"black\" stroke=\"black\" points=\"622.16,-46.92 623.44,-36.41 615.88,-43.83 622.16,-46.92\"/>\n",
       "</g>\n",
       "</g>\n",
       "</svg>\n"
      ],
      "text/plain": [
       "<graphviz.files.Source at 0x118ef1710>"
      ]
     },
     "execution_count": 177,
     "metadata": {},
     "output_type": "execute_result"
    }
   ],
   "source": [
    "graph = graphviz.Source(\n",
    "    tree.export_graphviz(\n",
    "        model,\n",
    "        max_depth=2,\n",
    "        feature_names=X.columns,\n",
    "        class_names=['Died', 'Survived'],\n",
    "        special_characters=True))\n",
    "graph"
   ]
  },
  {
   "cell_type": "markdown",
   "metadata": {},
   "source": [
    "- Sex is the first layer split feature: males have less propability of survival (which is logical as most of them will help women first)\n",
    "- Age and Third Class are features of second level. Passengers from the third class have less chances to survive (as they probably have a longer way to get to the life boats). Also, young passengers have higher chances which can be stated as children are saved first\n",
    "- The third level features are passenger fare, single passenger fare, which are highly correlated, and family size. Larger families have less probability of survival (as there are too many siblings to try to save)"
   ]
  }
 ],
 "metadata": {
  "kernelspec": {
   "display_name": "Python 3",
   "language": "python",
   "name": "python3"
  },
  "language_info": {
   "codemirror_mode": {
    "name": "ipython",
    "version": 3
   },
   "file_extension": ".py",
   "mimetype": "text/x-python",
   "name": "python",
   "nbconvert_exporter": "python",
   "pygments_lexer": "ipython3",
   "version": "3.7.6"
  }
 },
 "nbformat": 4,
 "nbformat_minor": 4
}
