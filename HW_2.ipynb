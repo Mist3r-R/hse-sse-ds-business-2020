{
 "cells": [
  {
   "cell_type": "markdown",
   "metadata": {},
   "source": [
    "# Data Science for Business\n",
    "\n",
    "## Spring 2020, module 4 @ HSE\n",
    "\n",
    "---\n",
    "\n",
    "## Home assignment 2\n",
    "\n",
    "\n",
    "Author: **Miron Rogovets**\n",
    "\n",
    "---\n",
    "\n",
    "Analyze Titanic data."
   ]
  },
  {
   "cell_type": "code",
   "execution_count": 1,
   "metadata": {},
   "outputs": [],
   "source": [
    "import pandas as pd\n",
    "import numpy as np\n",
    "import matplotlib.pyplot as plt\n",
    "import seaborn as sns"
   ]
  },
  {
   "cell_type": "code",
   "execution_count": 2,
   "metadata": {},
   "outputs": [],
   "source": [
    "pd.set_option('display.float_format', lambda x: '{:.2f}'.format(x))\n",
    "sns.set_style('darkgrid')"
   ]
  },
  {
   "cell_type": "code",
   "execution_count": 3,
   "metadata": {},
   "outputs": [
    {
     "name": "stdout",
     "output_type": "stream",
     "text": [
      "(1309, 12)\n"
     ]
    },
    {
     "data": {
      "text/html": [
       "<div>\n",
       "<style scoped>\n",
       "    .dataframe tbody tr th:only-of-type {\n",
       "        vertical-align: middle;\n",
       "    }\n",
       "\n",
       "    .dataframe tbody tr th {\n",
       "        vertical-align: top;\n",
       "    }\n",
       "\n",
       "    .dataframe thead th {\n",
       "        text-align: right;\n",
       "    }\n",
       "</style>\n",
       "<table border=\"1\" class=\"dataframe\">\n",
       "  <thead>\n",
       "    <tr style=\"text-align: right;\">\n",
       "      <th></th>\n",
       "      <th>Passenger Class</th>\n",
       "      <th>Name</th>\n",
       "      <th>Sex</th>\n",
       "      <th>Age</th>\n",
       "      <th>No of Siblings or Spouses on Board</th>\n",
       "      <th>No of Parents or Children on Board</th>\n",
       "      <th>Ticket Number</th>\n",
       "      <th>Passenger Fare</th>\n",
       "      <th>Cabin</th>\n",
       "      <th>Port of Embarkation</th>\n",
       "      <th>Life Boat</th>\n",
       "      <th>Survived</th>\n",
       "    </tr>\n",
       "  </thead>\n",
       "  <tbody>\n",
       "    <tr>\n",
       "      <th>0</th>\n",
       "      <td>First</td>\n",
       "      <td>Allen, Miss. Elisabeth Walton</td>\n",
       "      <td>Female</td>\n",
       "      <td>29.00</td>\n",
       "      <td>0</td>\n",
       "      <td>0</td>\n",
       "      <td>24160</td>\n",
       "      <td>211.34</td>\n",
       "      <td>B5</td>\n",
       "      <td>Southampton</td>\n",
       "      <td>2</td>\n",
       "      <td>Yes</td>\n",
       "    </tr>\n",
       "    <tr>\n",
       "      <th>1</th>\n",
       "      <td>First</td>\n",
       "      <td>Allison, Master. Hudson Trevor</td>\n",
       "      <td>Male</td>\n",
       "      <td>0.92</td>\n",
       "      <td>1</td>\n",
       "      <td>2</td>\n",
       "      <td>113781</td>\n",
       "      <td>151.55</td>\n",
       "      <td>C22 C26</td>\n",
       "      <td>Southampton</td>\n",
       "      <td>11</td>\n",
       "      <td>Yes</td>\n",
       "    </tr>\n",
       "    <tr>\n",
       "      <th>2</th>\n",
       "      <td>First</td>\n",
       "      <td>Allison, Miss. Helen Loraine</td>\n",
       "      <td>Female</td>\n",
       "      <td>2.00</td>\n",
       "      <td>1</td>\n",
       "      <td>2</td>\n",
       "      <td>113781</td>\n",
       "      <td>151.55</td>\n",
       "      <td>C22 C26</td>\n",
       "      <td>Southampton</td>\n",
       "      <td>NaN</td>\n",
       "      <td>No</td>\n",
       "    </tr>\n",
       "  </tbody>\n",
       "</table>\n",
       "</div>"
      ],
      "text/plain": [
       "  Passenger Class                            Name     Sex   Age  \\\n",
       "0           First   Allen, Miss. Elisabeth Walton  Female 29.00   \n",
       "1           First  Allison, Master. Hudson Trevor    Male  0.92   \n",
       "2           First    Allison, Miss. Helen Loraine  Female  2.00   \n",
       "\n",
       "   No of Siblings or Spouses on Board  No of Parents or Children on Board  \\\n",
       "0                                   0                                   0   \n",
       "1                                   1                                   2   \n",
       "2                                   1                                   2   \n",
       "\n",
       "  Ticket Number  Passenger Fare    Cabin Port of Embarkation Life Boat  \\\n",
       "0         24160          211.34       B5         Southampton         2   \n",
       "1        113781          151.55  C22 C26         Southampton        11   \n",
       "2        113781          151.55  C22 C26         Southampton       NaN   \n",
       "\n",
       "  Survived  \n",
       "0      Yes  \n",
       "1      Yes  \n",
       "2       No  "
      ]
     },
     "execution_count": 3,
     "metadata": {},
     "output_type": "execute_result"
    }
   ],
   "source": [
    "df = pd.read_csv('data/titanic_data.csv')\n",
    "print(df.shape)\n",
    "df.head(3)"
   ]
  },
  {
   "cell_type": "markdown",
   "metadata": {},
   "source": [
    "### I. Start with basic EDA (Exploratory data analysis):\n",
    "1. Compute average `Age` of passengers and number of passengers who survived and not survived grouped by `Sex` and `Passenger Class` (24 numbers);\n",
    "\n",
    "2. What can you say about survivors based on the resulting table (open question), e.g. what is the surviving ratio for females in First class compared to the Second and Third? \n",
    "    *This answer is limited to 150 words.*\n",
    "\n",
    "\n",
    "3. What is the average number of males and females on all boats (rounded to the closest integer)? \n",
    "    *Do not forget to filter out all `?` in `Life Boat` attribute.* "
   ]
  },
  {
   "cell_type": "code",
   "execution_count": 4,
   "metadata": {},
   "outputs": [
    {
     "data": {
      "text/html": [
       "<div>\n",
       "<style scoped>\n",
       "    .dataframe tbody tr th:only-of-type {\n",
       "        vertical-align: middle;\n",
       "    }\n",
       "\n",
       "    .dataframe tbody tr th {\n",
       "        vertical-align: top;\n",
       "    }\n",
       "\n",
       "    .dataframe thead th {\n",
       "        text-align: right;\n",
       "    }\n",
       "</style>\n",
       "<table border=\"1\" class=\"dataframe\">\n",
       "  <thead>\n",
       "    <tr style=\"text-align: right;\">\n",
       "      <th></th>\n",
       "      <th></th>\n",
       "      <th></th>\n",
       "      <th>mean</th>\n",
       "      <th>size</th>\n",
       "    </tr>\n",
       "    <tr>\n",
       "      <th>Sex</th>\n",
       "      <th>Passenger Class</th>\n",
       "      <th>Survived</th>\n",
       "      <th></th>\n",
       "      <th></th>\n",
       "    </tr>\n",
       "  </thead>\n",
       "  <tbody>\n",
       "    <tr>\n",
       "      <th rowspan=\"6\" valign=\"top\">Female</th>\n",
       "      <th rowspan=\"2\" valign=\"top\">First</th>\n",
       "      <th>No</th>\n",
       "      <td>35.20</td>\n",
       "      <td>5</td>\n",
       "    </tr>\n",
       "    <tr>\n",
       "      <th>Yes</th>\n",
       "      <td>37.11</td>\n",
       "      <td>139</td>\n",
       "    </tr>\n",
       "    <tr>\n",
       "      <th rowspan=\"2\" valign=\"top\">Second</th>\n",
       "      <th>No</th>\n",
       "      <td>34.09</td>\n",
       "      <td>12</td>\n",
       "    </tr>\n",
       "    <tr>\n",
       "      <th>Yes</th>\n",
       "      <td>26.71</td>\n",
       "      <td>94</td>\n",
       "    </tr>\n",
       "    <tr>\n",
       "      <th rowspan=\"2\" valign=\"top\">Third</th>\n",
       "      <th>No</th>\n",
       "      <td>23.42</td>\n",
       "      <td>110</td>\n",
       "    </tr>\n",
       "    <tr>\n",
       "      <th>Yes</th>\n",
       "      <td>20.81</td>\n",
       "      <td>106</td>\n",
       "    </tr>\n",
       "    <tr>\n",
       "      <th rowspan=\"6\" valign=\"top\">Male</th>\n",
       "      <th rowspan=\"2\" valign=\"top\">First</th>\n",
       "      <th>No</th>\n",
       "      <td>43.66</td>\n",
       "      <td>118</td>\n",
       "    </tr>\n",
       "    <tr>\n",
       "      <th>Yes</th>\n",
       "      <td>36.17</td>\n",
       "      <td>61</td>\n",
       "    </tr>\n",
       "    <tr>\n",
       "      <th rowspan=\"2\" valign=\"top\">Second</th>\n",
       "      <th>No</th>\n",
       "      <td>33.09</td>\n",
       "      <td>146</td>\n",
       "    </tr>\n",
       "    <tr>\n",
       "      <th>Yes</th>\n",
       "      <td>17.45</td>\n",
       "      <td>25</td>\n",
       "    </tr>\n",
       "    <tr>\n",
       "      <th rowspan=\"2\" valign=\"top\">Third</th>\n",
       "      <th>No</th>\n",
       "      <td>26.68</td>\n",
       "      <td>418</td>\n",
       "    </tr>\n",
       "    <tr>\n",
       "      <th>Yes</th>\n",
       "      <td>22.44</td>\n",
       "      <td>75</td>\n",
       "    </tr>\n",
       "  </tbody>\n",
       "</table>\n",
       "</div>"
      ],
      "text/plain": [
       "                                 mean  size\n",
       "Sex    Passenger Class Survived            \n",
       "Female First           No       35.20     5\n",
       "                       Yes      37.11   139\n",
       "       Second          No       34.09    12\n",
       "                       Yes      26.71    94\n",
       "       Third           No       23.42   110\n",
       "                       Yes      20.81   106\n",
       "Male   First           No       43.66   118\n",
       "                       Yes      36.17    61\n",
       "       Second          No       33.09   146\n",
       "                       Yes      17.45    25\n",
       "       Third           No       26.68   418\n",
       "                       Yes      22.44    75"
      ]
     },
     "execution_count": 4,
     "metadata": {},
     "output_type": "execute_result"
    }
   ],
   "source": [
    "df.groupby(['Sex', 'Passenger Class', 'Survived'])['Age'].agg(['mean', 'size'])"
   ]
  },
  {
   "cell_type": "markdown",
   "metadata": {},
   "source": [
    "- The total number of survivors is the highest in _First_ class, the lowest in _Second_ (_Third_ in the middle)\n",
    "- The total number of _Male_ survivors is less than _Females_ in all classes\n",
    "- About 97% _Females_ from _First_ class survived, while only about 37% _Males_\n",
    "- _Males_ have surviving ratio less than 50% for all classes\n",
    "- _Females_ have surviving ratio more than 50% for _First_ and _Second_ classes, and about 50% for _Third_\n",
    "- The lower the class, the lower the percentage of survivors for _Females_ (as _Males_ have a bit lower percentage for _Second_ than for _Third_)\n",
    "- The passengers from _First_ class are older in average than passengers from other classes\n",
    "- Younger passengers have higher probability of surviving (except _Females_ from _First_ class)"
   ]
  },
  {
   "cell_type": "code",
   "execution_count": 5,
   "metadata": {},
   "outputs": [
    {
     "data": {
      "text/plain": [
       "Sex\n",
       "Female   13.87\n",
       "Male      6.96\n",
       "dtype: float64"
      ]
     },
     "execution_count": 5,
     "metadata": {},
     "output_type": "execute_result"
    }
   ],
   "source": [
    "df[~df['Life Boat'].isna()].groupby(['Life Boat', 'Sex']).agg('size').groupby('Sex').agg('mean')"
   ]
  },
  {
   "cell_type": "markdown",
   "metadata": {},
   "source": [
    "### II. Proceed with feature generation.\n",
    "1. Drop the column `Life Boat`."
   ]
  },
  {
   "cell_type": "code",
   "execution_count": 6,
   "metadata": {},
   "outputs": [
    {
     "data": {
      "text/html": [
       "<div>\n",
       "<style scoped>\n",
       "    .dataframe tbody tr th:only-of-type {\n",
       "        vertical-align: middle;\n",
       "    }\n",
       "\n",
       "    .dataframe tbody tr th {\n",
       "        vertical-align: top;\n",
       "    }\n",
       "\n",
       "    .dataframe thead th {\n",
       "        text-align: right;\n",
       "    }\n",
       "</style>\n",
       "<table border=\"1\" class=\"dataframe\">\n",
       "  <thead>\n",
       "    <tr style=\"text-align: right;\">\n",
       "      <th></th>\n",
       "      <th>Passenger Class</th>\n",
       "      <th>Name</th>\n",
       "      <th>Sex</th>\n",
       "      <th>Age</th>\n",
       "      <th>No of Siblings or Spouses on Board</th>\n",
       "      <th>No of Parents or Children on Board</th>\n",
       "      <th>Ticket Number</th>\n",
       "      <th>Passenger Fare</th>\n",
       "      <th>Cabin</th>\n",
       "      <th>Port of Embarkation</th>\n",
       "      <th>Survived</th>\n",
       "    </tr>\n",
       "  </thead>\n",
       "  <tbody>\n",
       "    <tr>\n",
       "      <th>0</th>\n",
       "      <td>First</td>\n",
       "      <td>Allen, Miss. Elisabeth Walton</td>\n",
       "      <td>Female</td>\n",
       "      <td>29.00</td>\n",
       "      <td>0</td>\n",
       "      <td>0</td>\n",
       "      <td>24160</td>\n",
       "      <td>211.34</td>\n",
       "      <td>B5</td>\n",
       "      <td>Southampton</td>\n",
       "      <td>Yes</td>\n",
       "    </tr>\n",
       "    <tr>\n",
       "      <th>1</th>\n",
       "      <td>First</td>\n",
       "      <td>Allison, Master. Hudson Trevor</td>\n",
       "      <td>Male</td>\n",
       "      <td>0.92</td>\n",
       "      <td>1</td>\n",
       "      <td>2</td>\n",
       "      <td>113781</td>\n",
       "      <td>151.55</td>\n",
       "      <td>C22 C26</td>\n",
       "      <td>Southampton</td>\n",
       "      <td>Yes</td>\n",
       "    </tr>\n",
       "  </tbody>\n",
       "</table>\n",
       "</div>"
      ],
      "text/plain": [
       "  Passenger Class                            Name     Sex   Age  \\\n",
       "0           First   Allen, Miss. Elisabeth Walton  Female 29.00   \n",
       "1           First  Allison, Master. Hudson Trevor    Male  0.92   \n",
       "\n",
       "   No of Siblings or Spouses on Board  No of Parents or Children on Board  \\\n",
       "0                                   0                                   0   \n",
       "1                                   1                                   2   \n",
       "\n",
       "  Ticket Number  Passenger Fare    Cabin Port of Embarkation Survived  \n",
       "0         24160          211.34       B5         Southampton      Yes  \n",
       "1        113781          151.55  C22 C26         Southampton      Yes  "
      ]
     },
     "execution_count": 6,
     "metadata": {},
     "output_type": "execute_result"
    }
   ],
   "source": [
    "data = df.drop(columns=['Life Boat'])\n",
    "data.head(2)"
   ]
  },
  {
   "cell_type": "markdown",
   "metadata": {},
   "source": [
    "2. Generate new attribute `Family size`: sum up `No of Parents or Children on Board` and `No of Siblings or Spouses on Board` and add 1 (for passenger himself). What is the average family size? In which class did the biggest family travel?\n",
    "    *Do not drop original attributes.*"
   ]
  },
  {
   "cell_type": "code",
   "execution_count": 7,
   "metadata": {},
   "outputs": [
    {
     "data": {
      "text/html": [
       "<div>\n",
       "<style scoped>\n",
       "    .dataframe tbody tr th:only-of-type {\n",
       "        vertical-align: middle;\n",
       "    }\n",
       "\n",
       "    .dataframe tbody tr th {\n",
       "        vertical-align: top;\n",
       "    }\n",
       "\n",
       "    .dataframe thead th {\n",
       "        text-align: right;\n",
       "    }\n",
       "</style>\n",
       "<table border=\"1\" class=\"dataframe\">\n",
       "  <thead>\n",
       "    <tr style=\"text-align: right;\">\n",
       "      <th></th>\n",
       "      <th>Passenger Class</th>\n",
       "      <th>Name</th>\n",
       "      <th>Sex</th>\n",
       "      <th>Age</th>\n",
       "      <th>No of Siblings or Spouses on Board</th>\n",
       "      <th>No of Parents or Children on Board</th>\n",
       "      <th>Ticket Number</th>\n",
       "      <th>Passenger Fare</th>\n",
       "      <th>Cabin</th>\n",
       "      <th>Port of Embarkation</th>\n",
       "      <th>Survived</th>\n",
       "      <th>Family Size</th>\n",
       "    </tr>\n",
       "  </thead>\n",
       "  <tbody>\n",
       "    <tr>\n",
       "      <th>0</th>\n",
       "      <td>First</td>\n",
       "      <td>Allen, Miss. Elisabeth Walton</td>\n",
       "      <td>Female</td>\n",
       "      <td>29.00</td>\n",
       "      <td>0</td>\n",
       "      <td>0</td>\n",
       "      <td>24160</td>\n",
       "      <td>211.34</td>\n",
       "      <td>B5</td>\n",
       "      <td>Southampton</td>\n",
       "      <td>Yes</td>\n",
       "      <td>1</td>\n",
       "    </tr>\n",
       "    <tr>\n",
       "      <th>1</th>\n",
       "      <td>First</td>\n",
       "      <td>Allison, Master. Hudson Trevor</td>\n",
       "      <td>Male</td>\n",
       "      <td>0.92</td>\n",
       "      <td>1</td>\n",
       "      <td>2</td>\n",
       "      <td>113781</td>\n",
       "      <td>151.55</td>\n",
       "      <td>C22 C26</td>\n",
       "      <td>Southampton</td>\n",
       "      <td>Yes</td>\n",
       "      <td>4</td>\n",
       "    </tr>\n",
       "  </tbody>\n",
       "</table>\n",
       "</div>"
      ],
      "text/plain": [
       "  Passenger Class                            Name     Sex   Age  \\\n",
       "0           First   Allen, Miss. Elisabeth Walton  Female 29.00   \n",
       "1           First  Allison, Master. Hudson Trevor    Male  0.92   \n",
       "\n",
       "   No of Siblings or Spouses on Board  No of Parents or Children on Board  \\\n",
       "0                                   0                                   0   \n",
       "1                                   1                                   2   \n",
       "\n",
       "  Ticket Number  Passenger Fare    Cabin Port of Embarkation Survived  \\\n",
       "0         24160          211.34       B5         Southampton      Yes   \n",
       "1        113781          151.55  C22 C26         Southampton      Yes   \n",
       "\n",
       "   Family Size  \n",
       "0            1  \n",
       "1            4  "
      ]
     },
     "execution_count": 7,
     "metadata": {},
     "output_type": "execute_result"
    }
   ],
   "source": [
    "data['Family Size'] = data['No of Siblings or Spouses on Board'] + \\\n",
    "                      data['No of Parents or Children on Board'] + 1\n",
    "data.head(2)"
   ]
  },
  {
   "cell_type": "markdown",
   "metadata": {},
   "source": [
    "In order to find average family size we divide number of people with same sizes by family size to get the real number of families of each size. Then we simply divide total number of passenger by total number of families to get an average size."
   ]
  },
  {
   "cell_type": "code",
   "execution_count": 8,
   "metadata": {},
   "outputs": [
    {
     "data": {
      "text/plain": [
       "'Mean size = 1.33'"
      ]
     },
     "execution_count": 8,
     "metadata": {},
     "output_type": "execute_result"
    }
   ],
   "source": [
    "family_size = data.groupby('Family Size').size()\n",
    "mean = family_size.values.sum() / (family_size.values / family_size.index.values).sum()\n",
    "f\"Mean size = {mean:.2f}\""
   ]
  },
  {
   "cell_type": "code",
   "execution_count": 9,
   "metadata": {},
   "outputs": [
    {
     "data": {
      "text/plain": [
       "array(['Third'], dtype=object)"
      ]
     },
     "execution_count": 9,
     "metadata": {},
     "output_type": "execute_result"
    }
   ],
   "source": [
    "data[data['Family Size'] == data['Family Size'].max()]['Passenger Class'].unique()"
   ]
  },
  {
   "cell_type": "markdown",
   "metadata": {},
   "source": [
    "3. It seems that `Passenger Fare` is total among all passengers with the same `Ticket Number`: create new attribute `Single passenger fare`. For every passenger you need to compute the number of passengers with the same `Ticket Number` and then use this number as a divisor for `Passenger Fare`. \n",
    "    *Do not drop the original attribute.*"
   ]
  },
  {
   "cell_type": "code",
   "execution_count": 10,
   "metadata": {},
   "outputs": [
    {
     "data": {
      "text/html": [
       "<div>\n",
       "<style scoped>\n",
       "    .dataframe tbody tr th:only-of-type {\n",
       "        vertical-align: middle;\n",
       "    }\n",
       "\n",
       "    .dataframe tbody tr th {\n",
       "        vertical-align: top;\n",
       "    }\n",
       "\n",
       "    .dataframe thead th {\n",
       "        text-align: right;\n",
       "    }\n",
       "</style>\n",
       "<table border=\"1\" class=\"dataframe\">\n",
       "  <thead>\n",
       "    <tr style=\"text-align: right;\">\n",
       "      <th></th>\n",
       "      <th>Passenger Class</th>\n",
       "      <th>Name</th>\n",
       "      <th>Sex</th>\n",
       "      <th>Age</th>\n",
       "      <th>No of Siblings or Spouses on Board</th>\n",
       "      <th>No of Parents or Children on Board</th>\n",
       "      <th>Ticket Number</th>\n",
       "      <th>Passenger Fare</th>\n",
       "      <th>Cabin</th>\n",
       "      <th>Port of Embarkation</th>\n",
       "      <th>Survived</th>\n",
       "      <th>Family Size</th>\n",
       "      <th>Single passenger fare</th>\n",
       "    </tr>\n",
       "  </thead>\n",
       "  <tbody>\n",
       "    <tr>\n",
       "      <th>0</th>\n",
       "      <td>First</td>\n",
       "      <td>Allen, Miss. Elisabeth Walton</td>\n",
       "      <td>Female</td>\n",
       "      <td>29.00</td>\n",
       "      <td>0</td>\n",
       "      <td>0</td>\n",
       "      <td>24160</td>\n",
       "      <td>211.34</td>\n",
       "      <td>B5</td>\n",
       "      <td>Southampton</td>\n",
       "      <td>Yes</td>\n",
       "      <td>1</td>\n",
       "      <td>52.83</td>\n",
       "    </tr>\n",
       "    <tr>\n",
       "      <th>1</th>\n",
       "      <td>First</td>\n",
       "      <td>Allison, Master. Hudson Trevor</td>\n",
       "      <td>Male</td>\n",
       "      <td>0.92</td>\n",
       "      <td>1</td>\n",
       "      <td>2</td>\n",
       "      <td>113781</td>\n",
       "      <td>151.55</td>\n",
       "      <td>C22 C26</td>\n",
       "      <td>Southampton</td>\n",
       "      <td>Yes</td>\n",
       "      <td>4</td>\n",
       "      <td>25.26</td>\n",
       "    </tr>\n",
       "    <tr>\n",
       "      <th>2</th>\n",
       "      <td>First</td>\n",
       "      <td>Allison, Miss. Helen Loraine</td>\n",
       "      <td>Female</td>\n",
       "      <td>2.00</td>\n",
       "      <td>1</td>\n",
       "      <td>2</td>\n",
       "      <td>113781</td>\n",
       "      <td>151.55</td>\n",
       "      <td>C22 C26</td>\n",
       "      <td>Southampton</td>\n",
       "      <td>No</td>\n",
       "      <td>4</td>\n",
       "      <td>25.26</td>\n",
       "    </tr>\n",
       "    <tr>\n",
       "      <th>3</th>\n",
       "      <td>First</td>\n",
       "      <td>Allison, Mr. Hudson Joshua Creighton</td>\n",
       "      <td>Male</td>\n",
       "      <td>30.00</td>\n",
       "      <td>1</td>\n",
       "      <td>2</td>\n",
       "      <td>113781</td>\n",
       "      <td>151.55</td>\n",
       "      <td>C22 C26</td>\n",
       "      <td>Southampton</td>\n",
       "      <td>No</td>\n",
       "      <td>4</td>\n",
       "      <td>25.26</td>\n",
       "    </tr>\n",
       "    <tr>\n",
       "      <th>4</th>\n",
       "      <td>First</td>\n",
       "      <td>Allison, Mrs. Hudson J C (Bessie Waldo Daniels)</td>\n",
       "      <td>Female</td>\n",
       "      <td>25.00</td>\n",
       "      <td>1</td>\n",
       "      <td>2</td>\n",
       "      <td>113781</td>\n",
       "      <td>151.55</td>\n",
       "      <td>C22 C26</td>\n",
       "      <td>Southampton</td>\n",
       "      <td>No</td>\n",
       "      <td>4</td>\n",
       "      <td>25.26</td>\n",
       "    </tr>\n",
       "  </tbody>\n",
       "</table>\n",
       "</div>"
      ],
      "text/plain": [
       "  Passenger Class                                             Name     Sex  \\\n",
       "0           First                    Allen, Miss. Elisabeth Walton  Female   \n",
       "1           First                   Allison, Master. Hudson Trevor    Male   \n",
       "2           First                     Allison, Miss. Helen Loraine  Female   \n",
       "3           First             Allison, Mr. Hudson Joshua Creighton    Male   \n",
       "4           First  Allison, Mrs. Hudson J C (Bessie Waldo Daniels)  Female   \n",
       "\n",
       "    Age  No of Siblings or Spouses on Board  \\\n",
       "0 29.00                                   0   \n",
       "1  0.92                                   1   \n",
       "2  2.00                                   1   \n",
       "3 30.00                                   1   \n",
       "4 25.00                                   1   \n",
       "\n",
       "   No of Parents or Children on Board Ticket Number  Passenger Fare    Cabin  \\\n",
       "0                                   0         24160          211.34       B5   \n",
       "1                                   2        113781          151.55  C22 C26   \n",
       "2                                   2        113781          151.55  C22 C26   \n",
       "3                                   2        113781          151.55  C22 C26   \n",
       "4                                   2        113781          151.55  C22 C26   \n",
       "\n",
       "  Port of Embarkation Survived  Family Size  Single passenger fare  \n",
       "0         Southampton      Yes            1                  52.83  \n",
       "1         Southampton      Yes            4                  25.26  \n",
       "2         Southampton       No            4                  25.26  \n",
       "3         Southampton       No            4                  25.26  \n",
       "4         Southampton       No            4                  25.26  "
      ]
     },
     "execution_count": 10,
     "metadata": {},
     "output_type": "execute_result"
    }
   ],
   "source": [
    "tickets = data.groupby('Ticket Number')['Ticket Number'].transform('size')\n",
    "data['Single passenger fare'] = data['Passenger Fare'] / tickets\n",
    "data.head(5)"
   ]
  },
  {
   "cell_type": "code",
   "execution_count": 11,
   "metadata": {},
   "outputs": [
    {
     "data": {
      "text/html": [
       "<div>\n",
       "<style scoped>\n",
       "    .dataframe tbody tr th:only-of-type {\n",
       "        vertical-align: middle;\n",
       "    }\n",
       "\n",
       "    .dataframe tbody tr th {\n",
       "        vertical-align: top;\n",
       "    }\n",
       "\n",
       "    .dataframe thead th {\n",
       "        text-align: right;\n",
       "    }\n",
       "</style>\n",
       "<table border=\"1\" class=\"dataframe\">\n",
       "  <thead>\n",
       "    <tr style=\"text-align: right;\">\n",
       "      <th></th>\n",
       "      <th>Passenger Class</th>\n",
       "      <th>Single passenger fare</th>\n",
       "    </tr>\n",
       "  </thead>\n",
       "  <tbody>\n",
       "    <tr>\n",
       "      <th>0</th>\n",
       "      <td>First</td>\n",
       "      <td>33.91</td>\n",
       "    </tr>\n",
       "    <tr>\n",
       "      <th>1</th>\n",
       "      <td>Second</td>\n",
       "      <td>11.41</td>\n",
       "    </tr>\n",
       "    <tr>\n",
       "      <th>2</th>\n",
       "      <td>Third</td>\n",
       "      <td>7.33</td>\n",
       "    </tr>\n",
       "  </tbody>\n",
       "</table>\n",
       "</div>"
      ],
      "text/plain": [
       "  Passenger Class  Single passenger fare\n",
       "0           First                  33.91\n",
       "1          Second                  11.41\n",
       "2           Third                   7.33"
      ]
     },
     "execution_count": 11,
     "metadata": {},
     "output_type": "execute_result"
    }
   ],
   "source": [
    "data.groupby(['Passenger Class'])['Single passenger fare'].mean().reset_index()"
   ]
  },
  {
   "cell_type": "markdown",
   "metadata": {},
   "source": [
    "4. Impute missing values: for numerical attributes use averaging over three groups: `Passenger Class`, `Sex`, `Embarkation Port`; for every numerical attribute create separate column that contain 1 for imputed value and 0 for originally presented. \n",
    "    *This step is mainly for practicing your groupby/join skills. In real tasks this kind of imputation is relatively rare.*"
   ]
  },
  {
   "cell_type": "code",
   "execution_count": 12,
   "metadata": {},
   "outputs": [
    {
     "data": {
      "text/plain": [
       "Index(['Age', 'No of Siblings or Spouses on Board',\n",
       "       'No of Parents or Children on Board', 'Passenger Fare', 'Family Size',\n",
       "       'Single passenger fare'],\n",
       "      dtype='object')"
      ]
     },
     "execution_count": 12,
     "metadata": {},
     "output_type": "execute_result"
    }
   ],
   "source": [
    "numeric = data.select_dtypes(include=np.number).columns\n",
    "numeric"
   ]
  },
  {
   "cell_type": "code",
   "execution_count": 13,
   "metadata": {},
   "outputs": [
    {
     "data": {
      "text/plain": [
       "Age                                   263\n",
       "No of Siblings or Spouses on Board      0\n",
       "No of Parents or Children on Board      0\n",
       "Passenger Fare                          1\n",
       "Family Size                             0\n",
       "Single passenger fare                   1\n",
       "dtype: int64"
      ]
     },
     "execution_count": 13,
     "metadata": {},
     "output_type": "execute_result"
    }
   ],
   "source": [
    "data[numeric].isna().sum()"
   ]
  },
  {
   "cell_type": "code",
   "execution_count": 14,
   "metadata": {},
   "outputs": [
    {
     "data": {
      "text/plain": [
       "(1309, 13)"
      ]
     },
     "execution_count": 14,
     "metadata": {},
     "output_type": "execute_result"
    }
   ],
   "source": [
    "data.shape"
   ]
  },
  {
   "cell_type": "code",
   "execution_count": 15,
   "metadata": {},
   "outputs": [
    {
     "data": {
      "text/plain": [
       "Age                                   0\n",
       "No of Siblings or Spouses on Board    0\n",
       "No of Parents or Children on Board    0\n",
       "Passenger Fare                        0\n",
       "Family Size                           0\n",
       "Single passenger fare                 0\n",
       "dtype: int64"
      ]
     },
     "execution_count": 15,
     "metadata": {},
     "output_type": "execute_result"
    }
   ],
   "source": [
    "for col in numeric:\n",
    "    if data[col].isna().any():\n",
    "        data[col + ' imputed'] = data[col].isna().astype(int)\n",
    "        data[col] = data[col].fillna(data.groupby(['Sex', 'Passenger Class', 'Port of Embarkation'])\n",
    "                                     [col].transform('mean'))\n",
    "data[numeric].isna().sum()"
   ]
  },
  {
   "cell_type": "code",
   "execution_count": 16,
   "metadata": {},
   "outputs": [
    {
     "data": {
      "text/plain": [
       "(1309, 16)"
      ]
     },
     "execution_count": 16,
     "metadata": {},
     "output_type": "execute_result"
    }
   ],
   "source": [
    "data.shape"
   ]
  },
  {
   "cell_type": "markdown",
   "metadata": {},
   "source": [
    "5. Pre-process categorical attributes: For every categorical attribute create a separate column that contains 1 for a missing value and 0 for originally presented. One-hot encode categorical attributes with less than 20 unique values, drop other categorical attributes; drop original attributes."
   ]
  },
  {
   "cell_type": "code",
   "execution_count": 17,
   "metadata": {},
   "outputs": [
    {
     "data": {
      "text/plain": [
       "Index(['Passenger Class', 'Name', 'Sex', 'Ticket Number', 'Cabin',\n",
       "       'Port of Embarkation', 'Survived'],\n",
       "      dtype='object')"
      ]
     },
     "execution_count": 17,
     "metadata": {},
     "output_type": "execute_result"
    }
   ],
   "source": [
    "categorical = data.select_dtypes(include=['object']).columns\n",
    "categorical"
   ]
  },
  {
   "cell_type": "code",
   "execution_count": 18,
   "metadata": {},
   "outputs": [
    {
     "data": {
      "text/plain": [
       "Passenger Class           0\n",
       "Name                      0\n",
       "Sex                       0\n",
       "Ticket Number             0\n",
       "Cabin                  1014\n",
       "Port of Embarkation       2\n",
       "Survived                  0\n",
       "dtype: int64"
      ]
     },
     "execution_count": 18,
     "metadata": {},
     "output_type": "execute_result"
    }
   ],
   "source": [
    "data[categorical].isna().sum()"
   ]
  },
  {
   "cell_type": "code",
   "execution_count": 20,
   "metadata": {},
   "outputs": [],
   "source": [
    "for col in categorical:\n",
    "    if data[col].isna().any():\n",
    "        data[col + ' missing'] = data[col].isna().astype(int)"
   ]
  },
  {
   "cell_type": "code",
   "execution_count": 21,
   "metadata": {},
   "outputs": [
    {
     "data": {
      "text/plain": [
       "Index(['Name', 'Ticket Number', 'Cabin'], dtype='object')"
      ]
     },
     "execution_count": 21,
     "metadata": {},
     "output_type": "execute_result"
    }
   ],
   "source": [
    "to_drop = categorical[data[categorical].nunique() >= 20]\n",
    "to_drop"
   ]
  },
  {
   "cell_type": "code",
   "execution_count": 22,
   "metadata": {},
   "outputs": [
    {
     "data": {
      "text/html": [
       "<div>\n",
       "<style scoped>\n",
       "    .dataframe tbody tr th:only-of-type {\n",
       "        vertical-align: middle;\n",
       "    }\n",
       "\n",
       "    .dataframe tbody tr th {\n",
       "        vertical-align: top;\n",
       "    }\n",
       "\n",
       "    .dataframe thead th {\n",
       "        text-align: right;\n",
       "    }\n",
       "</style>\n",
       "<table border=\"1\" class=\"dataframe\">\n",
       "  <thead>\n",
       "    <tr style=\"text-align: right;\">\n",
       "      <th></th>\n",
       "      <th>Passenger Class</th>\n",
       "      <th>Sex</th>\n",
       "      <th>Age</th>\n",
       "      <th>No of Siblings or Spouses on Board</th>\n",
       "      <th>No of Parents or Children on Board</th>\n",
       "      <th>Passenger Fare</th>\n",
       "      <th>Port of Embarkation</th>\n",
       "      <th>Survived</th>\n",
       "      <th>Family Size</th>\n",
       "      <th>Single passenger fare</th>\n",
       "      <th>Age imputed</th>\n",
       "      <th>Passenger Fare imputed</th>\n",
       "      <th>Single passenger fare imputed</th>\n",
       "      <th>Cabin missing</th>\n",
       "      <th>Port of Embarkation missing</th>\n",
       "    </tr>\n",
       "  </thead>\n",
       "  <tbody>\n",
       "    <tr>\n",
       "      <th>0</th>\n",
       "      <td>First</td>\n",
       "      <td>Female</td>\n",
       "      <td>29.00</td>\n",
       "      <td>0</td>\n",
       "      <td>0</td>\n",
       "      <td>211.34</td>\n",
       "      <td>Southampton</td>\n",
       "      <td>Yes</td>\n",
       "      <td>1</td>\n",
       "      <td>52.83</td>\n",
       "      <td>0</td>\n",
       "      <td>0</td>\n",
       "      <td>0</td>\n",
       "      <td>0</td>\n",
       "      <td>0</td>\n",
       "    </tr>\n",
       "    <tr>\n",
       "      <th>1</th>\n",
       "      <td>First</td>\n",
       "      <td>Male</td>\n",
       "      <td>0.92</td>\n",
       "      <td>1</td>\n",
       "      <td>2</td>\n",
       "      <td>151.55</td>\n",
       "      <td>Southampton</td>\n",
       "      <td>Yes</td>\n",
       "      <td>4</td>\n",
       "      <td>25.26</td>\n",
       "      <td>0</td>\n",
       "      <td>0</td>\n",
       "      <td>0</td>\n",
       "      <td>0</td>\n",
       "      <td>0</td>\n",
       "    </tr>\n",
       "    <tr>\n",
       "      <th>2</th>\n",
       "      <td>First</td>\n",
       "      <td>Female</td>\n",
       "      <td>2.00</td>\n",
       "      <td>1</td>\n",
       "      <td>2</td>\n",
       "      <td>151.55</td>\n",
       "      <td>Southampton</td>\n",
       "      <td>No</td>\n",
       "      <td>4</td>\n",
       "      <td>25.26</td>\n",
       "      <td>0</td>\n",
       "      <td>0</td>\n",
       "      <td>0</td>\n",
       "      <td>0</td>\n",
       "      <td>0</td>\n",
       "    </tr>\n",
       "  </tbody>\n",
       "</table>\n",
       "</div>"
      ],
      "text/plain": [
       "  Passenger Class     Sex   Age  No of Siblings or Spouses on Board  \\\n",
       "0           First  Female 29.00                                   0   \n",
       "1           First    Male  0.92                                   1   \n",
       "2           First  Female  2.00                                   1   \n",
       "\n",
       "   No of Parents or Children on Board  Passenger Fare Port of Embarkation  \\\n",
       "0                                   0          211.34         Southampton   \n",
       "1                                   2          151.55         Southampton   \n",
       "2                                   2          151.55         Southampton   \n",
       "\n",
       "  Survived  Family Size  Single passenger fare  Age imputed  \\\n",
       "0      Yes            1                  52.83            0   \n",
       "1      Yes            4                  25.26            0   \n",
       "2       No            4                  25.26            0   \n",
       "\n",
       "   Passenger Fare imputed  Single passenger fare imputed  Cabin missing  \\\n",
       "0                       0                              0              0   \n",
       "1                       0                              0              0   \n",
       "2                       0                              0              0   \n",
       "\n",
       "   Port of Embarkation missing  \n",
       "0                            0  \n",
       "1                            0  \n",
       "2                            0  "
      ]
     },
     "execution_count": 22,
     "metadata": {},
     "output_type": "execute_result"
    }
   ],
   "source": [
    "data = data.drop(columns=to_drop)\n",
    "data.head(3)"
   ]
  },
  {
   "cell_type": "code",
   "execution_count": 23,
   "metadata": {},
   "outputs": [
    {
     "data": {
      "text/html": [
       "<div>\n",
       "<style scoped>\n",
       "    .dataframe tbody tr th:only-of-type {\n",
       "        vertical-align: middle;\n",
       "    }\n",
       "\n",
       "    .dataframe tbody tr th {\n",
       "        vertical-align: top;\n",
       "    }\n",
       "\n",
       "    .dataframe thead th {\n",
       "        text-align: right;\n",
       "    }\n",
       "</style>\n",
       "<table border=\"1\" class=\"dataframe\">\n",
       "  <thead>\n",
       "    <tr style=\"text-align: right;\">\n",
       "      <th></th>\n",
       "      <th>Age</th>\n",
       "      <th>No of Siblings or Spouses on Board</th>\n",
       "      <th>No of Parents or Children on Board</th>\n",
       "      <th>Passenger Fare</th>\n",
       "      <th>Family Size</th>\n",
       "      <th>Single passenger fare</th>\n",
       "      <th>Age imputed</th>\n",
       "      <th>Passenger Fare imputed</th>\n",
       "      <th>Single passenger fare imputed</th>\n",
       "      <th>Cabin missing</th>\n",
       "      <th>Port of Embarkation missing</th>\n",
       "      <th>Passenger Class_Second</th>\n",
       "      <th>Passenger Class_Third</th>\n",
       "      <th>Sex_Male</th>\n",
       "      <th>Port of Embarkation_Queenstown</th>\n",
       "      <th>Port of Embarkation_Southampton</th>\n",
       "      <th>Survived_Yes</th>\n",
       "    </tr>\n",
       "  </thead>\n",
       "  <tbody>\n",
       "    <tr>\n",
       "      <th>0</th>\n",
       "      <td>29.00</td>\n",
       "      <td>0</td>\n",
       "      <td>0</td>\n",
       "      <td>211.34</td>\n",
       "      <td>1</td>\n",
       "      <td>52.83</td>\n",
       "      <td>0</td>\n",
       "      <td>0</td>\n",
       "      <td>0</td>\n",
       "      <td>0</td>\n",
       "      <td>0</td>\n",
       "      <td>0</td>\n",
       "      <td>0</td>\n",
       "      <td>0</td>\n",
       "      <td>0</td>\n",
       "      <td>1</td>\n",
       "      <td>1</td>\n",
       "    </tr>\n",
       "    <tr>\n",
       "      <th>1</th>\n",
       "      <td>0.92</td>\n",
       "      <td>1</td>\n",
       "      <td>2</td>\n",
       "      <td>151.55</td>\n",
       "      <td>4</td>\n",
       "      <td>25.26</td>\n",
       "      <td>0</td>\n",
       "      <td>0</td>\n",
       "      <td>0</td>\n",
       "      <td>0</td>\n",
       "      <td>0</td>\n",
       "      <td>0</td>\n",
       "      <td>0</td>\n",
       "      <td>1</td>\n",
       "      <td>0</td>\n",
       "      <td>1</td>\n",
       "      <td>1</td>\n",
       "    </tr>\n",
       "    <tr>\n",
       "      <th>2</th>\n",
       "      <td>2.00</td>\n",
       "      <td>1</td>\n",
       "      <td>2</td>\n",
       "      <td>151.55</td>\n",
       "      <td>4</td>\n",
       "      <td>25.26</td>\n",
       "      <td>0</td>\n",
       "      <td>0</td>\n",
       "      <td>0</td>\n",
       "      <td>0</td>\n",
       "      <td>0</td>\n",
       "      <td>0</td>\n",
       "      <td>0</td>\n",
       "      <td>0</td>\n",
       "      <td>0</td>\n",
       "      <td>1</td>\n",
       "      <td>0</td>\n",
       "    </tr>\n",
       "  </tbody>\n",
       "</table>\n",
       "</div>"
      ],
      "text/plain": [
       "    Age  No of Siblings or Spouses on Board  \\\n",
       "0 29.00                                   0   \n",
       "1  0.92                                   1   \n",
       "2  2.00                                   1   \n",
       "\n",
       "   No of Parents or Children on Board  Passenger Fare  Family Size  \\\n",
       "0                                   0          211.34            1   \n",
       "1                                   2          151.55            4   \n",
       "2                                   2          151.55            4   \n",
       "\n",
       "   Single passenger fare  Age imputed  Passenger Fare imputed  \\\n",
       "0                  52.83            0                       0   \n",
       "1                  25.26            0                       0   \n",
       "2                  25.26            0                       0   \n",
       "\n",
       "   Single passenger fare imputed  Cabin missing  Port of Embarkation missing  \\\n",
       "0                              0              0                            0   \n",
       "1                              0              0                            0   \n",
       "2                              0              0                            0   \n",
       "\n",
       "   Passenger Class_Second  Passenger Class_Third  Sex_Male  \\\n",
       "0                       0                      0         0   \n",
       "1                       0                      0         1   \n",
       "2                       0                      0         0   \n",
       "\n",
       "   Port of Embarkation_Queenstown  Port of Embarkation_Southampton  \\\n",
       "0                               0                                1   \n",
       "1                               0                                1   \n",
       "2                               0                                1   \n",
       "\n",
       "   Survived_Yes  \n",
       "0             1  \n",
       "1             1  \n",
       "2             0  "
      ]
     },
     "execution_count": 23,
     "metadata": {},
     "output_type": "execute_result"
    }
   ],
   "source": [
    "data = pd.get_dummies(data, prefix=categorical.drop(to_drop), \n",
    "                      columns=categorical.drop(to_drop), drop_first=True)\n",
    "data.head(3)"
   ]
  },
  {
   "cell_type": "code",
   "execution_count": 24,
   "metadata": {},
   "outputs": [
    {
     "data": {
      "text/plain": [
       "Age                                   0\n",
       "No of Siblings or Spouses on Board    0\n",
       "No of Parents or Children on Board    0\n",
       "Passenger Fare                        0\n",
       "Family Size                           0\n",
       "Single passenger fare                 0\n",
       "Age imputed                           0\n",
       "Passenger Fare imputed                0\n",
       "Single passenger fare imputed         0\n",
       "Cabin missing                         0\n",
       "Port of Embarkation missing           0\n",
       "Passenger Class_Second                0\n",
       "Passenger Class_Third                 0\n",
       "Sex_Male                              0\n",
       "Port of Embarkation_Queenstown        0\n",
       "Port of Embarkation_Southampton       0\n",
       "Survived_Yes                          0\n",
       "dtype: int64"
      ]
     },
     "execution_count": 24,
     "metadata": {},
     "output_type": "execute_result"
    }
   ],
   "source": [
    "data.isna().sum()"
   ]
  },
  {
   "cell_type": "code",
   "execution_count": 25,
   "metadata": {},
   "outputs": [
    {
     "data": {
      "text/plain": [
       "(1309, 17)"
      ]
     },
     "execution_count": 25,
     "metadata": {},
     "output_type": "execute_result"
    }
   ],
   "source": [
    "data.shape"
   ]
  },
  {
   "cell_type": "markdown",
   "metadata": {},
   "source": [
    "6. Set the role of the `Survived` attribute to `label`."
   ]
  },
  {
   "cell_type": "code",
   "execution_count": 26,
   "metadata": {},
   "outputs": [
    {
     "data": {
      "text/html": [
       "<div>\n",
       "<style scoped>\n",
       "    .dataframe tbody tr th:only-of-type {\n",
       "        vertical-align: middle;\n",
       "    }\n",
       "\n",
       "    .dataframe tbody tr th {\n",
       "        vertical-align: top;\n",
       "    }\n",
       "\n",
       "    .dataframe thead th {\n",
       "        text-align: right;\n",
       "    }\n",
       "</style>\n",
       "<table border=\"1\" class=\"dataframe\">\n",
       "  <thead>\n",
       "    <tr style=\"text-align: right;\">\n",
       "      <th></th>\n",
       "      <th>Age</th>\n",
       "      <th>No of Siblings or Spouses on Board</th>\n",
       "      <th>No of Parents or Children on Board</th>\n",
       "      <th>Passenger Fare</th>\n",
       "      <th>Family Size</th>\n",
       "      <th>Single passenger fare</th>\n",
       "      <th>Age imputed</th>\n",
       "      <th>Passenger Fare imputed</th>\n",
       "      <th>Single passenger fare imputed</th>\n",
       "      <th>Cabin missing</th>\n",
       "      <th>Port of Embarkation missing</th>\n",
       "      <th>Passenger Class_Second</th>\n",
       "      <th>Passenger Class_Third</th>\n",
       "      <th>Sex</th>\n",
       "      <th>Port of Embarkation_Queenstown</th>\n",
       "      <th>Port of Embarkation_Southampton</th>\n",
       "      <th>Survived</th>\n",
       "    </tr>\n",
       "  </thead>\n",
       "  <tbody>\n",
       "    <tr>\n",
       "      <th>0</th>\n",
       "      <td>29.00</td>\n",
       "      <td>0</td>\n",
       "      <td>0</td>\n",
       "      <td>211.34</td>\n",
       "      <td>1</td>\n",
       "      <td>52.83</td>\n",
       "      <td>0</td>\n",
       "      <td>0</td>\n",
       "      <td>0</td>\n",
       "      <td>0</td>\n",
       "      <td>0</td>\n",
       "      <td>0</td>\n",
       "      <td>0</td>\n",
       "      <td>0</td>\n",
       "      <td>0</td>\n",
       "      <td>1</td>\n",
       "      <td>1</td>\n",
       "    </tr>\n",
       "    <tr>\n",
       "      <th>1</th>\n",
       "      <td>0.92</td>\n",
       "      <td>1</td>\n",
       "      <td>2</td>\n",
       "      <td>151.55</td>\n",
       "      <td>4</td>\n",
       "      <td>25.26</td>\n",
       "      <td>0</td>\n",
       "      <td>0</td>\n",
       "      <td>0</td>\n",
       "      <td>0</td>\n",
       "      <td>0</td>\n",
       "      <td>0</td>\n",
       "      <td>0</td>\n",
       "      <td>1</td>\n",
       "      <td>0</td>\n",
       "      <td>1</td>\n",
       "      <td>1</td>\n",
       "    </tr>\n",
       "    <tr>\n",
       "      <th>2</th>\n",
       "      <td>2.00</td>\n",
       "      <td>1</td>\n",
       "      <td>2</td>\n",
       "      <td>151.55</td>\n",
       "      <td>4</td>\n",
       "      <td>25.26</td>\n",
       "      <td>0</td>\n",
       "      <td>0</td>\n",
       "      <td>0</td>\n",
       "      <td>0</td>\n",
       "      <td>0</td>\n",
       "      <td>0</td>\n",
       "      <td>0</td>\n",
       "      <td>0</td>\n",
       "      <td>0</td>\n",
       "      <td>1</td>\n",
       "      <td>0</td>\n",
       "    </tr>\n",
       "  </tbody>\n",
       "</table>\n",
       "</div>"
      ],
      "text/plain": [
       "    Age  No of Siblings or Spouses on Board  \\\n",
       "0 29.00                                   0   \n",
       "1  0.92                                   1   \n",
       "2  2.00                                   1   \n",
       "\n",
       "   No of Parents or Children on Board  Passenger Fare  Family Size  \\\n",
       "0                                   0          211.34            1   \n",
       "1                                   2          151.55            4   \n",
       "2                                   2          151.55            4   \n",
       "\n",
       "   Single passenger fare  Age imputed  Passenger Fare imputed  \\\n",
       "0                  52.83            0                       0   \n",
       "1                  25.26            0                       0   \n",
       "2                  25.26            0                       0   \n",
       "\n",
       "   Single passenger fare imputed  Cabin missing  Port of Embarkation missing  \\\n",
       "0                              0              0                            0   \n",
       "1                              0              0                            0   \n",
       "2                              0              0                            0   \n",
       "\n",
       "   Passenger Class_Second  Passenger Class_Third  Sex  \\\n",
       "0                       0                      0    0   \n",
       "1                       0                      0    1   \n",
       "2                       0                      0    0   \n",
       "\n",
       "   Port of Embarkation_Queenstown  Port of Embarkation_Southampton  Survived  \n",
       "0                               0                                1         1  \n",
       "1                               0                                1         1  \n",
       "2                               0                                1         0  "
      ]
     },
     "execution_count": 26,
     "metadata": {},
     "output_type": "execute_result"
    }
   ],
   "source": [
    "data = data.rename(columns={'Sex_Male': 'Sex', 'Survived_Yes': 'Survived'})\n",
    "data.head(3)"
   ]
  },
  {
   "cell_type": "markdown",
   "metadata": {},
   "source": [
    "### III. Finish by building a classification model using preprocessed data\n",
    "1. Compute classification accuracy on a train-test setup:\n",
    "    - Create a Cross Validation block, fix the random_state parameter to 2020.\n",
    "    - Use a decision tree with `maximal depth` = 7; uncheck `apply pruning` box; leave all other parameters by default.\n",
    "    - Use accuracy as a performance metric\n",
    "2. Analyze the resulting confusion matrix, which error is larger: Type I or Type II? \n",
    "3. Provide a short analysis of the results, based on your answers III.2-III.3. E.g. What are the splitting features of the first 3 levels of the best tree (up to 7 attributes)? Do these results coincide with your intuition? You may include some misclassified examples along with explanations why they were misclassified. \n",
    "    *This answer is limited to 250 words.*\n"
   ]
  },
  {
   "cell_type": "code",
   "execution_count": null,
   "metadata": {},
   "outputs": [],
   "source": []
  }
 ],
 "metadata": {
  "kernelspec": {
   "display_name": "Python 3",
   "language": "python",
   "name": "python3"
  },
  "language_info": {
   "codemirror_mode": {
    "name": "ipython",
    "version": 3
   },
   "file_extension": ".py",
   "mimetype": "text/x-python",
   "name": "python",
   "nbconvert_exporter": "python",
   "pygments_lexer": "ipython3",
   "version": "3.7.6"
  }
 },
 "nbformat": 4,
 "nbformat_minor": 4
}
